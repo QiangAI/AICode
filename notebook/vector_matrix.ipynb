{
 "cells": [
  {
   "cell_type": "code",
   "execution_count": 30,
   "metadata": {},
   "outputs": [
    {
     "name": "stdout",
     "output_type": "stream",
     "text": [
      "[1 2 3 4]\n",
      "[[1 2 3 4]]\n"
     ]
    }
   ],
   "source": [
    "'''\n",
    "矩阵与二维数组，下标返回值的区别。\n",
    "'''\n",
    "m1 = np.array ( [\n",
    "    [ 1, 2, 3, 4],\n",
    "    [ 5, 6, 7, 8]\n",
    "] )\n",
    "\n",
    "m2 = np.matrix ( [\n",
    "    [ 1, 2, 3, 4],\n",
    "    [ 5, 6, 7, 8]\n",
    "] )\n",
    "\n",
    "print ( m1 [0] )    #返回的不在是二维，而是一维数组\n",
    "print ( m2 [0] )   #返回的还是二维数组\n"
   ]
  },
  {
   "cell_type": "code",
   "execution_count": 31,
   "metadata": {},
   "outputs": [
    {
     "name": "stdout",
     "output_type": "stream",
     "text": [
      "[[1 2 3 4]]\n",
      "[[5 6 7 8]]\n"
     ]
    }
   ],
   "source": [
    "#矩阵的迭代\n",
    "for  row in m2:\n",
    "    print ( row )"
   ]
  },
  {
   "cell_type": "code",
   "execution_count": null,
   "metadata": {},
   "outputs": [],
   "source": []
  }
 ],
 "metadata": {
  "kernelspec": {
   "display_name": "Python 3",
   "language": "python",
   "name": "python3"
  },
  "language_info": {
   "codemirror_mode": {
    "name": "ipython",
    "version": 3
   },
   "file_extension": ".py",
   "mimetype": "text/x-python",
   "name": "python",
   "nbconvert_exporter": "python",
   "pygments_lexer": "ipython3",
   "version": "3.6.6"
  }
 },
 "nbformat": 4,
 "nbformat_minor": 2
}
