{
 "cells": [
  {
   "cell_type": "markdown",
   "metadata": {},
   "source": [
    "#  ndarray数组(numpy)的索引与切片\n",
    "> 1. ndarray数组的属性\n",
    "> 2. ndarray数组的索引与切片\n",
    "> 3. ndarray数组的特殊索引与切片\n",
    "---"
   ]
  },
  {
   "cell_type": "markdown",
   "metadata": {},
   "source": [
    "### 1、ndarray数组的属性\n",
    ">T\t等价于self.transpose(), 矩阵转置（self.ndim < 2），如果是向量（ self.ndim = 1），返回本身.\n",
    ">data\t返回指向数组数据开始位置的Python缓冲对象。\n",
    ">dtype\t数组元素的数据类型。\n",
    ">flags\t数组的内存分配信息。\n",
    ">flat\t返回数组的一维迭代器。\n",
    ">imag\t数组的虚部。\n",
    ">real\t数组的实部。\n",
    ">size\t数组元素个数。\n",
    ">itemsize\t数组元素的长度。\n",
    ">nbytes\t数组所有元素占用的字节数。\n",
    ">ndim\t数组的维数个数（二维，三维）\n",
    ">shape\t元组格式的数组维数（数组的形状）。\n",
    ">strides\t每个维度在数组内存中获取的步长。\n",
    ">ctypes\t返回一个ctypes模块中对象。\n",
    ">base\t如果内存是从其他对象累的，则返回Base object对象."
   ]
  },
  {
   "cell_type": "code",
   "execution_count": 1,
   "metadata": {},
   "outputs": [],
   "source": [
    "import numpy as np\n",
    "#先构建一个ndarray对象\\\n",
    "vector = np.array ( [ 1, 2, 3 ] )     #向量\n",
    "matrix = np.array( [                   #矩阵\n",
    "    [ 1, 2, 3, 4, 5 ] ,\n",
    "    [ 6, 7, 8, 9, 0 ] ,\n",
    "    [ 5, 4, 3, 2, 1 ]\n",
    "] )"
   ]
  },
  {
   "cell_type": "code",
   "execution_count": 2,
   "metadata": {},
   "outputs": [
    {
     "name": "stdout",
     "output_type": "stream",
     "text": [
      "[1 2 3]\n",
      "[[1 6 5]\n",
      " [2 7 4]\n",
      " [3 8 3]\n",
      " [4 9 2]\n",
      " [5 0 1]]\n"
     ]
    }
   ],
   "source": [
    "# T 属性（返回转置矩阵）\n",
    "print ( vector.T )\n",
    "print ( matrix.T )"
   ]
  },
  {
   "cell_type": "code",
   "execution_count": 3,
   "metadata": {},
   "outputs": [
    {
     "name": "stdout",
     "output_type": "stream",
     "text": [
      "1\n",
      "2\n"
     ]
    }
   ],
   "source": [
    "# ndim 属性（维数，三维返回3，一维饭返回1）\n",
    "print ( vector.ndim )\n",
    "print ( matrix.ndim )\n"
   ]
  },
  {
   "cell_type": "code",
   "execution_count": 4,
   "metadata": {},
   "outputs": [
    {
     "name": "stdout",
     "output_type": "stream",
     "text": [
      "(3,)\n",
      "(3, 5)\n"
     ]
    }
   ],
   "source": [
    "# shape 属性：返回每个维度的维数\n",
    "print ( vector.shape )\n",
    "print ( matrix.shape )"
   ]
  },
  {
   "cell_type": "code",
   "execution_count": 7,
   "metadata": {},
   "outputs": [
    {
     "name": "stdout",
     "output_type": "stream",
     "text": [
      "<numpy.flatiter object at 0x7fdef18cda00>\n",
      "<numpy.flatiter object at 0x7fdef18cda00>\n",
      "[1, 2, 3]\n",
      "[1, 2, 3, 4, 5, 6, 7, 8, 9, 0, 5, 4, 3, 2, 1]\n"
     ]
    }
   ],
   "source": [
    "# flat属性（返回1维迭代器）\n",
    "print ( vector.flat )\n",
    "print ( matrix.flat )\n",
    "print ( [ i for i in vector.flat ] )\n",
    "print ( [ i for i in matrix.flat ] )"
   ]
  },
  {
   "cell_type": "code",
   "execution_count": 8,
   "metadata": {},
   "outputs": [
    {
     "name": "stdout",
     "output_type": "stream",
     "text": [
      "3\n",
      "15\n"
     ]
    }
   ],
   "source": [
    "# size 属性 （数组元素的个数，或者flat的长度）\n",
    "print ( vector.size )\n",
    "print ( matrix.size )"
   ]
  },
  {
   "cell_type": "code",
   "execution_count": 9,
   "metadata": {},
   "outputs": [
    {
     "name": "stdout",
     "output_type": "stream",
     "text": [
      "8\n",
      "8\n"
     ]
    }
   ],
   "source": [
    "# itemsize 属性（数组元素的大小，单位字节）\n",
    "print ( vector.itemsize)\n",
    "print ( matrix.itemsize)"
   ]
  },
  {
   "cell_type": "code",
   "execution_count": 10,
   "metadata": {},
   "outputs": [
    {
     "name": "stdout",
     "output_type": "stream",
     "text": [
      "24\n",
      "120\n"
     ]
    }
   ],
   "source": [
    "# nbytes 属性 （所有元素的字节大小，nbytes = size *  itemsize ）\n",
    "print ( vector.nbytes)\n",
    "print ( matrix.nbytes)"
   ]
  },
  {
   "cell_type": "code",
   "execution_count": 11,
   "metadata": {},
   "outputs": [
    {
     "name": "stdout",
     "output_type": "stream",
     "text": [
      "(8,)\n",
      "(40, 8)\n"
     ]
    }
   ],
   "source": [
    "# strides 属性（步长：按照一维数组的获取的元素的方式）\n",
    "print ( vector.strides)\n",
    "print ( matrix.strides)"
   ]
  },
  {
   "cell_type": "code",
   "execution_count": 15,
   "metadata": {},
   "outputs": [
    {
     "name": "stdout",
     "output_type": "stream",
     "text": [
      "int64\n",
      "int64\n"
     ]
    }
   ],
   "source": [
    "# dtype 属性（数组元素的标量类型）\n",
    "print ( vector.dtype)\n",
    "print ( matrix.dtype)"
   ]
  },
  {
   "cell_type": "code",
   "execution_count": 14,
   "metadata": {},
   "outputs": [
    {
     "name": "stdout",
     "output_type": "stream",
     "text": [
      "[0 0 0]\n",
      "[[0 0 0 0 0]\n",
      " [0 0 0 0 0]\n",
      " [0 0 0 0 0]]\n",
      "[1 2 3]\n",
      "[[1 2 3 4 5]\n",
      " [6 7 8 9 0]\n",
      " [5 4 3 2 1]]\n"
     ]
    }
   ],
   "source": [
    "# real与imag 属性（实部与虚部）\n",
    "print ( vector.imag)\n",
    "print ( matrix.imag)\n",
    "print ( vector.real)\n",
    "print ( matrix.real)"
   ]
  },
  {
   "cell_type": "code",
   "execution_count": 16,
   "metadata": {},
   "outputs": [
    {
     "name": "stdout",
     "output_type": "stream",
     "text": [
      "<numpy.core._internal._ctypes object at 0x112187cf8>\n",
      "<numpy.core._internal._ctypes object at 0x112187f98>\n",
      "<memory at 0x112975dc8>\n",
      "<memory at 0x112b68120>\n",
      "  C_CONTIGUOUS : True\n",
      "  F_CONTIGUOUS : True\n",
      "  OWNDATA : True\n",
      "  WRITEABLE : True\n",
      "  ALIGNED : True\n",
      "  WRITEBACKIFCOPY : False\n",
      "  UPDATEIFCOPY : False\n",
      "  C_CONTIGUOUS : True\n",
      "  F_CONTIGUOUS : False\n",
      "  OWNDATA : True\n",
      "  WRITEABLE : True\n",
      "  ALIGNED : True\n",
      "  WRITEBACKIFCOPY : False\n",
      "  UPDATEIFCOPY : False\n",
      "None\n",
      "None\n"
     ]
    }
   ],
   "source": [
    "# 其他属性\n",
    "print ( vector.ctypes)     #ctypes模块对象\n",
    "print ( matrix.ctypes)\n",
    "print ( vector.data)       #数据内存地址。\n",
    "print ( matrix.data)\n",
    "print ( vector.flags)       #内存分布信息\n",
    "print ( matrix.flags)\n",
    "print ( vector.base)       #来自其他对象的Base对象\n",
    "print ( matrix.base)"
   ]
  },
  {
   "cell_type": "markdown",
   "metadata": {},
   "source": [
    "### 2、ndarray数组的索引与切片\n",
    "\n",
    "Python内置list类型支持的切片ndarray都支持，不过ndarray 支持元组索引与切片（2维与2维以上才支持）"
   ]
  },
  {
   "cell_type": "code",
   "execution_count": 37,
   "metadata": {},
   "outputs": [
    {
     "name": "stdout",
     "output_type": "stream",
     "text": [
      "88\n",
      "[ 8 99  8  7  7]\n",
      "[ 1 88  3]\n",
      "[[1 2 3 4 5]\n",
      " [8 8 8 8 8]\n",
      " [5 4 3 7 7]]\n",
      "[[ 1  2  3  4  5]\n",
      " [ 8 88  8  8  8]\n",
      " [ 5  4  3  7  7]]\n",
      "[[1 2 3 4 5]\n",
      " [9 9 9 9 9]\n",
      " [5 4 3 7 7]]\n"
     ]
    }
   ],
   "source": [
    "# 1. 索引\n",
    "#索引取值\n",
    "print ( vector [ 1 ] )\n",
    "print ( matrix [ 1 ] )\n",
    "#索引设置值\n",
    "vector [ 1 ] = 88\n",
    "print ( vector )\n",
    "matrix [ 1 ] = [ 8, 8, 8 ,8, 8 ]    # 必须与原来对应行的形状一样\n",
    "print ( matrix )\n",
    "matrix [ 1 ] [ 1 ] =88               #访问向量的元素\n",
    "print ( matrix )\n",
    "\n",
    "matrix [ 1 ] = np. array ( [ 9, 9, 9 ,9, 9 ] )    # 必须与原来对应行的形状一样\n",
    "print ( matrix )"
   ]
  },
  {
   "cell_type": "code",
   "execution_count": 31,
   "metadata": {},
   "outputs": [
    {
     "name": "stdout",
     "output_type": "stream",
     "text": [
      "99\n",
      "[[ 1  2  3  4  5]\n",
      " [ 8 99  8  8  8]\n",
      " [ 5  4  3  2  1]]\n"
     ]
    }
   ],
   "source": [
    "# ndarray 与 list不一样的索引使用，可以使用元组作为索引来访问元素\n",
    "print ( matrix [ 1, 1 ] )\n",
    "\n",
    "matrix [ 1, 1 ] =99    #设置值\n",
    "print ( matrix )"
   ]
  },
  {
   "cell_type": "code",
   "execution_count": 29,
   "metadata": {},
   "outputs": [
    {
     "name": "stdout",
     "output_type": "stream",
     "text": [
      "[ 1 88  3]\n",
      "[ 3 88  1]\n",
      "[[1 2 3 4 5]]\n"
     ]
    }
   ],
   "source": [
    "# 切片\n",
    "print ( vector [ : : ] )    #正向\n",
    "print ( vector [ : :-1 ] ) #逆向\n",
    "\n",
    "print ( matrix [ 0 : 2 ] [ 0 : 1 ] )   #先从矩阵取 2 行，再从两行取 1 行"
   ]
  },
  {
   "cell_type": "code",
   "execution_count": 36,
   "metadata": {},
   "outputs": [
    {
     "name": "stdout",
     "output_type": "stream",
     "text": [
      "[[ 1  2  3  4  5]\n",
      " [ 8 99  8  8  8]\n",
      " [ 5  4  3  2  1]]\n",
      "[[8 8]\n",
      " [2 1]]\n",
      "[[ 1  2  3  4  5]\n",
      " [ 8 99  8  7  7]\n",
      " [ 5  4  3  7  7]]\n"
     ]
    }
   ],
   "source": [
    "# ndarray 与 list不一样的切片\n",
    "print ( matrix )\n",
    "# 取子矩阵\n",
    "print ( matrix [ 1 : 3, 3: 5] )\n",
    "\n",
    "#使用子矩阵设置值\n",
    "matrix [ 1 : 3, 3: 5] = [ [ 7, 7 ] , [ 7, 7 ] ]\n",
    "print ( matrix )"
   ]
  },
  {
   "cell_type": "markdown",
   "metadata": {},
   "source": [
    "### 3、ndarray数组的特殊索引与切片"
   ]
  },
  {
   "cell_type": "code",
   "execution_count": 76,
   "metadata": {},
   "outputs": [
    {
     "name": "stdout",
     "output_type": "stream",
     "text": [
      "[ 6 88  6]\n",
      "[88  6  6]\n",
      "[ 6 88  6]\n",
      "[ 6 88  6]\n",
      "[[ 1  2  3  4  5  6]\n",
      " [ 7  8  9 10 11 12]\n",
      " [13 14 15 16 17 18]]\n",
      "[ 2 16]\n",
      "[ 2 16]\n",
      "[[ 1  2  3  4  5  6]\n",
      " [ 7  8  9 10 11 12]\n",
      " [13 14 15 16 17 18]]\n",
      "[[[ 1  2  3  4  5  6]\n",
      "  [ 7  8  9 10 11 12]]\n",
      "\n",
      " [[ 7  8  9 10 11 12]\n",
      "  [13 14 15 16 17 18]]]\n",
      "[[ 3 10]\n",
      " [ 9 16]]\n",
      "[[ 3 10]\n",
      " [11 18]]\n"
     ]
    }
   ],
   "source": [
    "# 1. 列表形式的索引\n",
    "print ( vector )\n",
    "print ( vector [ [ 1, 2, 0 ] ] )    #取下标为1，2，0的元素构成新的ndarray数组对象\n",
    "\n",
    "print ( vector )\n",
    "vector [ [0,2 ] ] = [ 6, 6 ]    #设置值\n",
    "print ( vector )\n",
    "\n",
    "# 下标是元组，表示多维，所以不能用在1维数组。\n",
    "# print ( vector [ ( 1, 2 ) ] ) 不能使用\n",
    "\n",
    "# 二维数组列表作为索引\n",
    "print ( matrix )\n",
    "print ( matrix [ [ [ 0, 2] , [1, 3 ] ] ] )  #返回[0，1] 与[2, 3] 两个位置的元素构成新的数组\n",
    "\n",
    "print ( matrix [ [ 0, 2] , [1, 3 ] ] )    #效果于上面一样\n",
    "\n",
    "print ( matrix )\n",
    "matrix = np.array ( [\n",
    "    [  1,  2,  3,  4,  5,  6],\n",
    "    [  7,  8,  9, 10, 11, 12],\n",
    "    [ 13,14, 15, 16, 17, 18]\n",
    "] )\n",
    "print ( matrix [ [ [ 0, 1] , [1, 2 ] ] , ] )    #第0，2，1，2行构成的矩阵\n",
    "print ( matrix [ [ [ 0, 1] , [1, 2 ] ] , [ [2, 3 ] ] ] )   # 取0，1，1，2行，分别再[取0行2列 ，1行3列]，[1行2列，2行3列]\n",
    "print ( matrix [ [ [ 0, 1] , [1, 2 ] ] , [ [2, 3 ] ,[4,5] ] ] )    "
   ]
  },
  {
   "cell_type": "code",
   "execution_count": 77,
   "metadata": {},
   "outputs": [
    {
     "name": "stdout",
     "output_type": "stream",
     "text": [
      "[[False False False False False  True]\n",
      " [ True  True  True  True  True  True]\n",
      " [ True  True  True  True  True  True]]\n"
     ]
    }
   ],
   "source": [
    "# 2.  布尔值列表作为索引\n",
    "#返回与matrix一样shape的ndarray数组\n",
    "print ( matrix > 5)"
   ]
  },
  {
   "cell_type": "code",
   "execution_count": 80,
   "metadata": {},
   "outputs": [
    {
     "name": "stdout",
     "output_type": "stream",
     "text": [
      "[ 6  7  8  9 10 11 12 13 14 15 16 17 18]\n"
     ]
    }
   ],
   "source": [
    "#使用布尔数组作为索引\n",
    "print ( matrix [ matrix > 5 ] )"
   ]
  },
  {
   "cell_type": "code",
   "execution_count": 84,
   "metadata": {},
   "outputs": [
    {
     "name": "stdout",
     "output_type": "stream",
     "text": [
      "[[ 1  2  3  4 88 88]\n",
      " [88 88 88 88 88 88]\n",
      " [88 88 88 88 88 88]]\n"
     ]
    }
   ],
   "source": [
    "#通过布尔数组索引，修改矩阵的值。\n",
    "matrix [ matrix >= 5 ] = 88\n",
    "print ( matrix )"
   ]
  },
  {
   "cell_type": "code",
   "execution_count": null,
   "metadata": {},
   "outputs": [],
   "source": []
  }
 ],
 "metadata": {
  "kernelspec": {
   "display_name": "Python 3",
   "language": "python",
   "name": "python3"
  },
  "language_info": {
   "codemirror_mode": {
    "name": "ipython",
    "version": 3
   },
   "file_extension": ".py",
   "mimetype": "text/x-python",
   "name": "python",
   "nbconvert_exporter": "python",
   "pygments_lexer": "ipython3",
   "version": "3.6.6"
  }
 },
 "nbformat": 4,
 "nbformat_minor": 2
}
