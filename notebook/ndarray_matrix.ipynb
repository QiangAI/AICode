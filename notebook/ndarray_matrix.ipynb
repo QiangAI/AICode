{
 "cells": [
  {
   "cell_type": "markdown",
   "metadata": {},
   "source": [
    "# 矩阵表示与计算\n",
    ">numpy提供了一个专门的矩阵处理模块：**numpy.matlib**。   \n",
    "> 1、矩阵创建函数。   \n",
    "> 2、矩阵的特殊属性。   \n",
    "> 3、矩阵的特殊函数。  \n",
    "> **备注：**     \n",
    ">      ( 1 ) 矩阵创建函数在***numpy.matlib***模块下，不过函数也有numpy命名空间，可以在numpy模块名下使用。   \n",
    ">      ( 2 ) 矩阵类是：***numpy.matrices***   \n",
    "\n",
    "---"
   ]
  },
  {
   "cell_type": "markdown",
   "metadata": {},
   "source": [
    "# 一、矩阵创建函数\n",
    "### numpy命名空间中的函数\n",
    "创建函数|函数说明\n",
    "-|-\n",
    "mat(data\\[, dtype\\])\t|Interpret the input as a matrix.\n",
    "matrix(data\\[, dtype, copy\\])\t|Returns a matrix from an array-like object, or from a string of data.\n",
    "asmatrix(data\\[, dtype\\])\t|Interpret the input as a matrix.\n",
    "bmat(obj\\[, ldict, gdict\\])\t|Build a matrix object from a string, nested sequence, or array.\n",
    "\n",
    "---\n",
    "### matlib命名空间中的函数\n",
    "创建函数 | 函数说明\n",
    "-|-\n",
    "empty(shape\\[, dtype, order\\])\t|Return a new matrix of given shape and type, without initializing entries.\n",
    "zeros(shape\\[, dtype, order\\])\t|Return a matrix of given shape and type, filled with zeros.\n",
    "ones(shape\\[, dtype, order\\])\t|Matrix of ones.\n",
    "eye(n\\[, M, k, dtype, order\\])\t|Return a matrix with ones on the diagonal and zeros elsewhere.\n",
    "identity(n\\[, dtype\\])\t|Returns the square identity matrix of given size.\n",
    "repmat(a, m, n)\t|Repeat a 0-D to 2-D array or matrix MxN times.\n",
    "rand(*args)\t|Return a matrix of random values with given shape.\n",
    "randn(*args)\t|Return a random matrix with data from the “standard normal” distribution.\n",
    "\n",
    "注意：上述函数在新的版本中，为了方便，在numpy于numpy.matlib都有定义。如果在numpy中无效，则说明版本是老板，可以使用numpy.matlib\n",
    "\n",
    "---"
   ]
  },
  {
   "cell_type": "markdown",
   "metadata": {},
   "source": [
    "### 1. 创建矩阵函数的模块matlib"
   ]
  },
  {
   "cell_type": "code",
   "execution_count": 2,
   "metadata": {},
   "outputs": [
    {
     "name": "stdout",
     "output_type": "stream",
     "text": [
      "[[1 2 3]\n",
      " [4 5 6]]\n"
     ]
    }
   ],
   "source": [
    "import numpy as np\n",
    "m=np.mat ( [ \n",
    "    [ 1, 2, 3],\n",
    "    [ 4, 5, 6]\n",
    "] )\n",
    "print ( m )\n"
   ]
  },
  {
   "cell_type": "code",
   "execution_count": 8,
   "metadata": {},
   "outputs": [
    {
     "name": "stdout",
     "output_type": "stream",
     "text": [
      "[[4.9e-324 9.9e-324 1.5e-323]\n",
      " [2.0e-323 2.5e-323 3.0e-323]]\n",
      "[[4.9e-324 9.9e-324 1.5e-323]\n",
      " [2.0e-323 2.5e-323 3.0e-323]]\n",
      "[[1 2 3]\n",
      " [4 5 6]]\n"
     ]
    }
   ],
   "source": [
    "import numpy.matlib as mb\n",
    "m=mb.empty( (2, 3 ) )\n",
    "print ( m )\n",
    "\n",
    "import numpy as np\n",
    "m=mb.empty( (2, 3 ) )\n",
    "print ( m )\n",
    "\n",
    "#mat在numpy也定义。\n",
    "m=mb.mat ( [ \n",
    "    [ 1, 2, 3],\n",
    "    [ 4, 5, 6]\n",
    "] )\n",
    "print ( m )"
   ]
  },
  {
   "cell_type": "markdown",
   "metadata": {},
   "source": [
    "### 2. matrix类\n",
    "矩阵创建函数中matrix实际是类，定义如下：   \n",
    "> class numpy.matrix(data, dtype=None, copy=True)\\[source\\]     \n",
    "> 其中data可是是字符串。"
   ]
  },
  {
   "cell_type": "code",
   "execution_count": 11,
   "metadata": {},
   "outputs": [
    {
     "data": {
      "text/plain": [
       "matrix([[1, 2, 3],\n",
       "        [4, 5, 6]])"
      ]
     },
     "execution_count": 11,
     "metadata": {},
     "output_type": "execute_result"
    }
   ],
   "source": [
    "#下面输出的矩阵类型是matrix\n",
    "mb.matrix ( [ \n",
    "    [ 1, 2, 3],\n",
    "    [ 4, 5, 6]\n",
    "] )"
   ]
  },
  {
   "cell_type": "code",
   "execution_count": 15,
   "metadata": {},
   "outputs": [
    {
     "data": {
      "text/plain": [
       "matrix([[1, 2, 3],\n",
       "        [4, 5, 6]])"
      ]
     },
     "execution_count": 15,
     "metadata": {},
     "output_type": "execute_result"
    }
   ],
   "source": [
    "# data可以是字符串：逗号表示列，分号表示行\n",
    "data = '[ [ 1, 2, 3 ];  [ 4, 5, 6] ]'\n",
    "mb.matrix ( data )"
   ]
  },
  {
   "cell_type": "code",
   "execution_count": 16,
   "metadata": {},
   "outputs": [
    {
     "data": {
      "text/plain": [
       "matrix([[1, 2, 3],\n",
       "        [4, 5, 6]])"
      ]
     },
     "execution_count": 16,
     "metadata": {},
     "output_type": "execute_result"
    }
   ],
   "source": [
    "# mat返回的都是矩阵类型\n",
    "mb.mat ( [ \n",
    "    [ 1, 2, 3],\n",
    "    [ 4, 5, 6]\n",
    "] )"
   ]
  },
  {
   "cell_type": "markdown",
   "metadata": {},
   "source": [
    "# 二、matrix的特殊属性"
   ]
  },
  {
   "cell_type": "markdown",
   "metadata": {},
   "source": [
    "#### 下面是matrxi新增属性属性\n",
    "矩阵的属性|属性说明\n",
    "-|-\n",
    "**A**\t|Return self as an ndarray object.\n",
    "**A1**\t|Return self as a flattened ndarray.\n",
    "**H**\t|Returns the (complex) conjugate transpose of self.\n",
    "**I**\t|Returns the (multiplicative) inverse of invertible self.\n",
    "\n",
    "#### 下面是从nadarray继承的属性\n",
    "\n",
    "矩阵的属性|属性说明\n",
    "-|-\n",
    "T\t|Returns the transpose of the matrix.\n",
    "base\t|Base object if memory is from some other object.\n",
    "ctypes\t|An object to simplify the interaction of the array with the ctypes module.\n",
    "data\t|Python buffer object pointing to the start of the array’s data.\n",
    "dtype\t|Data-type of the array’s elements.\n",
    "flags\t|Information about the memory layout of the array.\n",
    "flat\t|A 1-D iterator over the array.\n",
    "imag\t|The imaginary part of the array.\n",
    "itemsize\t|Length of one array element in bytes.\n",
    "nbytes\t|Total bytes consumed by the elements of the array.\n",
    "ndim\t|Number of array dimensions.\n",
    "real\t|The real part of the array.\n",
    "shape\t|Tuple of array dimensions.\n",
    "size\t|Number of elements in the array.\n",
    "strides\t|Tuple of bytes to step in each dimension when traversing an array.\n",
    "\n",
    "---\n"
   ]
  },
  {
   "cell_type": "markdown",
   "metadata": {},
   "source": [
    "### 1. matrix独有属性的使用与理解"
   ]
  },
  {
   "cell_type": "code",
   "execution_count": 27,
   "metadata": {},
   "outputs": [
    {
     "name": "stdout",
     "output_type": "stream",
     "text": [
      "[[1 2 3]\n",
      " [4 5 6]]\n",
      "[1 2 3 4 5 6]\n",
      "[[1.-3.j 2.-6.j]\n",
      " [2.+5.j 4.-8.j]\n",
      " [4.-7.j 8.+9.j]]\n"
     ]
    }
   ],
   "source": [
    "m= mb.matrix ( [ \n",
    "    [ 1, 2, 3 ],\n",
    "    [ 4, 5, 6 ]\n",
    "] )\n",
    "\n",
    "#A属性m.A\n",
    "print ( m.A )  #返回自己，只是类型是ndarray。\n",
    "#A1属性\n",
    "print ( m.A1 ) #返回自己，作为1-D数组。\n",
    "\n",
    "m= mb.matrix ( [ \n",
    "    [ 1+3j, 2-5j, 4+7j ],\n",
    "    [ 2+6j, 4+8j, 8-9j ]\n",
    "] )\n",
    "#H属性\n",
    "print ( m.H )  #返回复数的共轭矩阵"
   ]
  },
  {
   "cell_type": "markdown",
   "metadata": {},
   "source": [
    "### 2. 矩阵的可逆矩阵\n",
    "矩阵$A$为$n$阶方阵，若存在$n$阶矩阵$B$，使得矩阵$A$、$B$的乘积为单位阵，则称$A$为可逆阵，$B$为$A$的逆矩阵。若方阵的逆阵存在，则称为**可逆矩阵**或**非奇异矩阵**，且其逆矩阵唯一。不可逆的矩阵也**称奇异矩阵（Singular matrix）**。    \n",
    "\n",
    "计算矩阵的逆矩阵有两种方法：    \n",
    "（1）    $A^{-1}=\\dfrac{-1}{|\\ A\\ |}A^{*}$，其中$A^{*}$为矩阵$A$的伴随矩阵 ( 伴随矩阵就是使用代数余子式构成 )。   \n",
    "（2）   对$\\pmatrix{A&E}$作初等变换，将A化为单位阵E，单位矩阵E就化为可逆矩阵A  。"
   ]
  },
  {
   "cell_type": "code",
   "execution_count": 32,
   "metadata": {},
   "outputs": [
    {
     "name": "stdout",
     "output_type": "stream",
     "text": [
      "[[0.5 0.  0. ]\n",
      " [0.  0.5 0. ]\n",
      " [0.  0.  0.5]]\n",
      "[[-0.94444444  0.44444444]\n",
      " [-0.11111111  0.11111111]\n",
      " [ 0.72222222 -0.22222222]]\n",
      "[[ 1.00000000e+00  3.60822483e-16]\n",
      " [-1.11022302e-15  1.00000000e+00]]\n",
      "[[ 0.83333333  0.33333333 -0.16666667]\n",
      " [ 0.33333333  0.33333333  0.33333333]\n",
      " [-0.16666667  0.33333333  0.83333333]]\n"
     ]
    }
   ],
   "source": [
    "# I  属性\n",
    "m= mb.matrix ( [ \n",
    "    [ 2, 0, 0 ],\n",
    "    [ 0, 2, 0 ],\n",
    "    [ 0, 0, 2 ]\n",
    "] )\n",
    "print ( m.I )  #返回逆矩阵\n",
    "\n",
    "#如果矩阵不可逆，要计算其可逆矩阵则返回如下错误：LinAlgError: Singular matrix。\n",
    "#可逆矩阵必须是方阵。\n",
    "#对非方阵，也能求逆矩阵\n",
    "m= mb.matrix ( [ \n",
    "    [ 1, 2, 3 ],\n",
    "    [ 4, 5, 6 ]\n",
    "] )\n",
    "print ( m.I )  \n",
    "print ( m.dot ( m.I ) )   # 接近单位矩阵E。\n",
    "print ( (m.I).dot ( m ) )   #这个矩阵不是单位矩阵E。"
   ]
  },
  {
   "cell_type": "markdown",
   "metadata": {},
   "source": [
    "# 三、  matrix的特殊函数\n",
    "#### matrix独有的函数\n",
    "继承函数|函数说明\n",
    "-|-\n",
    "getA()\t|Return self as an ndarray object.\n",
    "getA1()\t|Return self as a flattened ndarray.\n",
    "getH()\t|Returns the (complex) conjugate transpose of self.\n",
    "getI()\t|Returns the (multiplicative) inverse of invertible self.\n",
    "\n",
    "---\n",
    "#### 从nadarray继承的函数\n",
    "继承函数|函数说明\n",
    "-|-\n",
    "getT()\t|Returns the transpose of the matrix.\n",
    "all(\\[axis, out, keepdims\\])\t|Returns True if all elements evaluate to True.\n",
    "any(\\[axis, out, keepdims\\])\t|Returns True if any of the elements of a evaluate to True.\n",
    "argmax(\\[axis, out\\])\t|Return indices of the maximum values along the given axis.\n",
    "argmin(\\[axis, out\\])\t|Return indices of the minimum values along the given axis of a.\n",
    "argpartition(kth\\[, axis, kind, order\\])\t|Returns the indices that would partition this array.\n",
    "argsort(\\[axis, kind, order\\])\t|Returns the indices that would sort this array.\n",
    "astype(dtype\\[, order, casting, subok, copy\\])\t|Copy of the array, cast to a specified type.\n",
    "byteswap(\\[inplace\\])\t|Swap the bytes of the array elements\n",
    "choose(choices\\[, out, mode\\])\t|Use an index array to construct a new array from a set of choices.\n",
    "clip(\\[min, max, out\\])\t|Return an array whose values are limited to \\[min, max\\].\n",
    "compress(condition\\[, axis, out\\])\t|Return selected slices of this array along given axis.\n",
    "conj()\t|Complex-conjugate all elements.\n",
    "conjugate()\t|Return the complex conjugate, element-wise.\n",
    "copy(\\[order\\])\t|Return a copy of the array.\n",
    "cumprod(\\[axis, dtype, out\\])\t|Return the cumulative product of the elements along the given axis.\n",
    "cumsum(\\[axis, dtype, out\\])\t|Return the cumulative sum of the elements along the given axis.\n",
    "diagonal(\\[offset, axis1, axis2\\])\t|Return specified diagonals.\n",
    "dot(b\\[, out\\])\t|Dot product of two arrays.\n",
    "dump(file)\t|Dump a pickle of the array to the specified file.\n",
    "dumps()\t|Returns the pickle of the array as a string.\n",
    "fill(value)\tFill the array with a scalar value.\n",
    "flatten(\\[order\\])\t|Return a copy of the array collapsed into one dimension.\n",
    "getfield(dtype\\[, offset\\])\t|Returns a field of the given array as a certain type.\n",
    "item(*args)\t|Copy an element of an array to a standard Python scalar and return it.\n",
    "itemset(*args)\t|Insert scalar into an array (scalar is cast to array’s dtype, if possible)\n",
    "max(\\[axis, out, keepdims\\])\t|Return the maximum along a given axis.\n",
    "mean(\\[axis, dtype, out, keepdims\\])\t|Returns the average of the array elements along given axis.\n",
    "min(\\[axis, out, keepdims\\])\t|Return the minimum along a given axis.\n",
    "newbyteorder(\\[new_order\\])\t|Return the array with the same data viewed with a different byte order.\n",
    "nonzero()\t|Return the indices of the elements that are non-zero.\n",
    "partition(kth\\[, axis, kind, order\\])\t|Rearranges the elements in the array in such a way that value of the element in kth position is in the position it would be in a sorted array.\n",
    "prod(\\[axis, dtype, out, keepdims\\])\t|Return the product of the array elements over the given axis\n",
    "ptp(\\[axis, out\\])\t|Peak to peak (maximum - minimum) value along a given axis.\n",
    "put(indices, values\\[, mode\\])\t|Set a.flat\\[n\\] = values\\[n\\] for all n in indices.\n",
    "ravel(\\[order\\])\t|Return a flattened array.\n",
    "repeat(repeats\\[, axis\\])\t|Repeat elements of an array.\n",
    "reshape(shape\\[, order\\])\t|Returns an array containing the same data with a new shape.\n",
    "resize(new_shape\\[, refcheck\\])\t|Change shape and size of array in-place.\n",
    "round(\\[decimals, out\\])\t|Return a with each element rounded to the given number of decimals.\n",
    "searchsorted(v\\[, side, sorter\\])\t|Find indices where elements of v should be inserted in a to maintain order.\n",
    "setfield(val, dtype\\[, offset\\])\t|Put a value into a specified place in a field defined by a data-type.\n",
    "setflags(\\[write, align, uic\\])\t|Set array flags WRITEABLE, ALIGNED, (WRITEBACKIFCOPY and UPDATEIFCOPY), respectively.\n",
    "sort(\\[axis, kind, order\\])\t|Sort an array, in-place.\n",
    "squeeze(\\[axis\\])\t|Remove single-dimensional entries from the shape of a.\n",
    "std(\\[axis, dtype, out, ddof, keepdims\\])\t|Returns the standard deviation of the array elements along given axis.\n",
    "sum(\\[axis, dtype, out, keepdims\\])\t|Return the sum of the array elements over the given axis.\n",
    "swapaxes(axis1, axis2)\t|Return a view of the array with axis1 and axis2 interchanged.\n",
    "take(indices\\[, axis, out, mode\\])\t|Return an array formed from the elements of a at the given indices.\n",
    "tobytes(\\[order\\])\t|Construct Python bytes containing the raw data bytes in the array.\n",
    "tofile(fid\\[, sep, format\\])\t|Write array to a file as text or binary (default).\n",
    "tolist()\t|Return the array as a (possibly nested) list.\n",
    "tostring(\\[order\\])\t|Construct Python bytes containing the raw data bytes in the array.\n",
    "trace(\\[offset, axis1, axis2, dtype, out\\])\t|Return the sum along diagonals of the array.\n",
    "transpose(*axes)\t|Returns a view of the array with axes transposed.\n",
    "var(\\[axis, dtype, out, ddof, keepdims\\])\t|Returns the variance of the array elements, along given axis.\n",
    "view(\\[dtype, type\\])\t|New view of array with the same data.\n",
    "\n",
    "---"
   ]
  },
  {
   "cell_type": "markdown",
   "metadata": {},
   "source": [
    "### 1. matrix 独有方法的使用"
   ]
  },
  {
   "cell_type": "code",
   "execution_count": 33,
   "metadata": {},
   "outputs": [
    {
     "name": "stdout",
     "output_type": "stream",
     "text": [
      "[[-0.94444444  0.44444444]\n",
      " [-0.11111111  0.11111111]\n",
      " [ 0.72222222 -0.22222222]]\n"
     ]
    }
   ],
   "source": [
    "#matrix都有的几个函数都对应着属性。\n",
    "m= mb.matrix ( [ \n",
    "    [ 1, 2, 3 ],\n",
    "    [ 4, 5, 6 ]\n",
    "] )\n",
    "\n",
    "print ( m.getI ( ) )"
   ]
  },
  {
   "cell_type": "markdown",
   "metadata": {},
   "source": [
    "### 2. ndarray几个函数使用的补充"
   ]
  },
  {
   "cell_type": "markdown",
   "metadata": {},
   "source": [
    "#### clip函数\n",
    ">ndarray.clip(min=None, max=None, out=None)   \n",
    ">返回一个数组，数组的值限制在 \\[min, max\\]. 比min下的都设置为min，比max大的都设置为max。"
   ]
  },
  {
   "cell_type": "code",
   "execution_count": 36,
   "metadata": {},
   "outputs": [
    {
     "name": "stdout",
     "output_type": "stream",
     "text": [
      "[[6 4 3 6 5 3]\n",
      " [3 5 6 6 3 6]]\n"
     ]
    }
   ],
   "source": [
    "m= mb.matrix ( [ \n",
    "    [ 7, 4, 3, 6, 5, 1 ],\n",
    "    [ 2, 5, 9, 7, 1, 8 ]\n",
    "] )\n",
    "print ( m.clip ( min = 3, max = 6 ) )"
   ]
  },
  {
   "cell_type": "markdown",
   "metadata": {},
   "source": [
    "#### conj函数与conjugate函数\n",
    ">ndarray.conj()    \n",
    ">ndarray.conjugate()   \n",
    "> 都是返回复数共轭矩阵   \n",
    "\n"
   ]
  },
  {
   "cell_type": "code",
   "execution_count": 38,
   "metadata": {},
   "outputs": [
    {
     "name": "stdout",
     "output_type": "stream",
     "text": [
      "[[1.-3.j 2.+5.j 4.-7.j]\n",
      " [2.-6.j 4.-8.j 8.+9.j]]\n",
      "[[1.-3.j 2.+5.j 4.-7.j]\n",
      " [2.-6.j 4.-8.j 8.+9.j]]\n",
      "[[1.-3.j 2.-6.j]\n",
      " [2.+5.j 4.-8.j]\n",
      " [4.-7.j 8.+9.j]]\n",
      "[[1.-3.j 2.-6.j]\n",
      " [2.+5.j 4.-8.j]\n",
      " [4.-7.j 8.+9.j]]\n"
     ]
    }
   ],
   "source": [
    "m= mb.matrix ( [ \n",
    "    [ 1+3j, 2-5j, 4+7j ],\n",
    "    [ 2+6j, 4+8j, 8-9j ]\n",
    "] )\n",
    "\n",
    "print ( m.conj ( ) )\n",
    "print ( m.conjugate ( ) )\n",
    "print ( m.H )\n",
    "print ( m.getH ( ) )"
   ]
  },
  {
   "cell_type": "markdown",
   "metadata": {},
   "source": [
    "#### dot函数\n",
    ">ndarray.dot(b, out=None)    \n",
    ">计算内积（内积必须满足条件：mxn   nxk，返回mxk的矩阵）"
   ]
  },
  {
   "cell_type": "code",
   "execution_count": 43,
   "metadata": {},
   "outputs": [
    {
     "name": "stdout",
     "output_type": "stream",
     "text": [
      "[[30 36]\n",
      " [66 81]]\n",
      "[[30 36]\n",
      " [66 81]]\n",
      "[[ 9 12 15]\n",
      " [24 33 42]\n",
      " [39 54 69]]\n",
      "[[ 9 12 15]\n",
      " [24 33 42]\n",
      " [39 54 69]]\n"
     ]
    }
   ],
   "source": [
    "A = mb.matrix ( [ \n",
    "    [ 1, 2, 3 ],\n",
    "    [ 4, 5, 6 ]\n",
    "] )\n",
    "B = mb.matrix ( [ \n",
    "    [ 1, 2],\n",
    "    [ 4, 5],\n",
    "    [ 7, 8]\n",
    "] )\n",
    "\n",
    "\n",
    "print ( A.dot( B ) )\n",
    "print ( A @ B )\n",
    "print ( B.dot( A ) )\n",
    "print ( B @ A )"
   ]
  },
  {
   "cell_type": "markdown",
   "metadata": {},
   "source": [
    "#### ptp函数\n",
    ">ndarray.ptp(axis=None, out=None)\n",
    ">最大值与最小值只差（maximum - minimum）\n",
    ">ptp是peak to peak缩写（峰到峰）\n"
   ]
  },
  {
   "cell_type": "code",
   "execution_count": 46,
   "metadata": {},
   "outputs": [
    {
     "name": "stdout",
     "output_type": "stream",
     "text": [
      "5\n",
      "[[3 3 3]]\n",
      "[[2]\n",
      " [2]]\n"
     ]
    }
   ],
   "source": [
    "A = mb.matrix ( [ \n",
    "    [ 1, 2, 3 ],\n",
    "    [ 4, 5, 6 ]\n",
    "] )\n",
    "print ( A.ptp ( ) )\n",
    "print ( A.ptp ( axis=0 ) )\n",
    "print ( A.ptp ( axis=1 ) )"
   ]
  },
  {
   "cell_type": "markdown",
   "metadata": {},
   "source": [
    "#### round函数\n",
    ">ndarray.round(decimals=0, out=None)   \n",
    ">返回四舍五入矩阵  \n",
    ">decimals=0 设置精度（小数点位数）"
   ]
  },
  {
   "cell_type": "code",
   "execution_count": 49,
   "metadata": {},
   "outputs": [
    {
     "name": "stdout",
     "output_type": "stream",
     "text": [
      "[[1. 3. 4.]\n",
      " [4. 6. 6.]]\n",
      "[[1.4 2.9 3.5]\n",
      " [4.5 5.5 6.3]]\n"
     ]
    }
   ],
   "source": [
    "A = mb.matrix ( [ \n",
    "    [ 1.4, 2.9, 3.5 ],\n",
    "    [ 4.49, 5.51, 6.3 ]\n",
    "] )\n",
    "print ( A.round ( ) )\n",
    "print ( A.round ( decimals =1 ) )"
   ]
  },
  {
   "cell_type": "markdown",
   "metadata": {},
   "source": [
    "#### swapaxes函数\n",
    ">ndarray.swapaxes(axis1, axis2)    \n",
    ">交换坐标轴"
   ]
  },
  {
   "cell_type": "code",
   "execution_count": 53,
   "metadata": {},
   "outputs": [
    {
     "name": "stdout",
     "output_type": "stream",
     "text": [
      "[[1.4  4.49]\n",
      " [2.9  5.51]\n",
      " [3.5  6.3 ]]\n"
     ]
    }
   ],
   "source": [
    "A = mb.matrix ( [ \n",
    "    [ 1.4, 2.9, 3.5 ],\n",
    "    [ 4.49, 5.51, 6.3 ]\n",
    "] )\n",
    "\n",
    "print ( A.swapaxes ( 0, 1 ) ) #对2-D矩阵来说就是转置。"
   ]
  }
 ],
 "metadata": {
  "kernelspec": {
   "display_name": "Python 3",
   "language": "python",
   "name": "python3"
  },
  "language_info": {
   "codemirror_mode": {
    "name": "ipython",
    "version": 3
   },
   "file_extension": ".py",
   "mimetype": "text/x-python",
   "name": "python",
   "nbconvert_exporter": "python",
   "pygments_lexer": "ipython3",
   "version": "3.6.6"
  }
 },
 "nbformat": 4,
 "nbformat_minor": 2
}
