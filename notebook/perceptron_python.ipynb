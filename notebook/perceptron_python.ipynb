{
 "cells": [
  {
   "cell_type": "markdown",
   "metadata": {},
   "source": [
    "#### forward计算公式"
   ]
  },
  {
   "cell_type": "markdown",
   "metadata": {},
   "source": [
    "$y=f_{activation}(\\omega_1x_1+\\omega_1x_1+\\dots+\\omega_nx_n+\\omega_b)$"
   ]
  },
  {
   "cell_type": "markdown",
   "metadata": {},
   "source": [
    "#### backward计算公式"
   ]
  },
  {
   "cell_type": "markdown",
   "metadata": {},
   "source": [
    "$\\omega_i=\\omega_i-\\eta\\ \\Delta{\n",
    "\\omega_i}$    \n",
    "\n",
    "$\\omega_b=\\omega_b-\\eta\\ \\Delta{\n",
    "\\omega_b}\\quad\\quad\\text{（偏置项）}$    \n",
    "\n",
    "其中：    \n",
    "$\\Delta{\n",
    "\\omega_i}=\\Delta E(\\omega_i)=(y-\\bar{y})f^\\prime(\\alpha) x$     \n",
    "\n",
    "$\\Delta{\n",
    "\\omega_b}=\\Delta E(\\omega_b)=(y-\\bar{y})f^\\prime(\\alpha)$\n"
   ]
  },
  {
   "cell_type": "code",
   "execution_count": null,
   "metadata": {},
   "outputs": [],
   "source": []
  }
 ],
 "metadata": {
  "kernelspec": {
   "display_name": "Python 3",
   "language": "python",
   "name": "python3"
  },
  "language_info": {
   "codemirror_mode": {
    "name": "ipython",
    "version": 3
   },
   "file_extension": ".py",
   "mimetype": "text/x-python",
   "name": "python",
   "nbconvert_exporter": "python",
   "pygments_lexer": "ipython3",
   "version": "3.6.6"
  }
 },
 "nbformat": 4,
 "nbformat_minor": 2
}
