{
 "cells": [
  {
   "cell_type": "markdown",
   "metadata": {},
   "source": [
    "# ndarray数组的操作\n",
    ">1. 数组数据转换\n",
    ">2. 数组形状变换\n",
    ">3. 数组数据选择与操作\n",
    ">4. 数组计算处理\n",
    ">5. 数组算术运算\n",
    "---"
   ]
  },
  {
   "cell_type": "markdown",
   "metadata": {},
   "source": [
    "## 一、数组数据转换\n",
    "---\n",
    "\n",
    "数组数据转化方法  |  方法说明\n",
    "-: | :-\n",
    "ndarray.item(\\*args)\t|Copy an element of an array to a standard Python scalar and return it.\n",
    "ndarray.tolist()\t|Return the array as a (possibly nested) list.\n",
    "ndarray.itemset(\\*args)\t|Insert scalar into an array (scalar is cast to array’s dtype, if possible)\n",
    "ndarray.tostring(\\[order\\])\t|Construct Python bytes containing the raw data bytes in the array.\n",
    "ndarray.tobytes(\\[order\\])\t|Construct Python bytes containing the raw data bytes in the array.\n",
    "ndarray.tofile(fid\\[, sep, format\\])\t|Write array to a file as text or binary (default).\n",
    "ndarray.dump(file)\t|Dump a pickle of the array to the specified file.\n",
    "ndarray.dumps()\t|Returns the pickle of the array as a string.\n",
    "ndarray.astype(dtype\\[, order, casting, …\\])\t|Copy of the array, cast to a specified type.\n",
    "ndarray.byteswap(\\[inplace\\])\t|Swap the bytes of the array elements\n",
    "ndarray.copy(\\[order\\])\t|Return a copy of the array.\n",
    "ndarray.view(\\[dtype, type\\])\t|New view of array with the same data.\n",
    "ndarray.getfield(dtype\\[, offset\\])\t|Returns a field of the given array as a certain type.\n",
    "ndarray.setflags(\\[write, align, uic\\])\t|Set array flags WRITEABLE, ALIGNED, (WRITEBACKIFCOPY and UPDATEIFCOPY), respectively.\n",
    "ndarray.fill(value)\t|Fill the array with a scalar value.\n",
    "\n",
    "注意：copy还读对应一个numpy函数：numpy.copy\n",
    "\n",
    "---"
   ]
  },
  {
   "cell_type": "code",
   "execution_count": 180,
   "metadata": {},
   "outputs": [
    {
     "name": "stdout",
     "output_type": "stream",
     "text": [
      "[[2 2 2 3]\n",
      " [7 9 3 9]\n",
      " [8 7 4 1]]\n"
     ]
    }
   ],
   "source": [
    "import numpy as np\n",
    "#定义一个矩阵\n",
    "m = np.random.randint ( 10,  size=(3, 4) )  #创建形状为3*4的随机矩阵，值 [ 0, 10 )。\n",
    "print ( m )"
   ]
  },
  {
   "cell_type": "markdown",
   "metadata": {},
   "source": [
    "### 1.item 以标量形式返回一个元素"
   ]
  },
  {
   "cell_type": "code",
   "execution_count": 13,
   "metadata": {},
   "outputs": [
    {
     "name": "stdout",
     "output_type": "stream",
     "text": [
      "1\n",
      "3\n",
      "5\n",
      "3\n"
     ]
    }
   ],
   "source": [
    "b=np.array([1])\n",
    "print ( b.item () )   #无参数情况，只对size=1的ndarray有效\n",
    "\n",
    "\n",
    "print ( m.item ( 2 ) )  #先调用flat转换为1维，再取值\n",
    "print ( m.item ( 0, 0 ) )\n",
    "\n",
    "print ( m.item ( ( 2 ) ) )  #等价于m.item ( 2 )\n",
    "\n",
    "# print ( m.item ( ( 1,1,1 ) ) )  #数组维数不能超过维度"
   ]
  },
  {
   "cell_type": "markdown",
   "metadata": {},
   "source": [
    "### 2. itemset 设置标量值"
   ]
  },
  {
   "cell_type": "code",
   "execution_count": 15,
   "metadata": {},
   "outputs": [
    {
     "name": "stdout",
     "output_type": "stream",
     "text": [
      "[[ 5 11 22  8]\n",
      " [ 5  8  3  9]\n",
      " [ 9  0  2 33]]\n"
     ]
    }
   ],
   "source": [
    "m.itemset ( 1 ,  11 )\n",
    "m.itemset ( ( 2 ),  22 )\n",
    "m.itemset ( ( 2 ,3 ),  33 )\n",
    "print ( m )"
   ]
  },
  {
   "cell_type": "markdown",
   "metadata": {},
   "source": [
    "### 3. tolist,tostring,tibytes,tofile 格式转换"
   ]
  },
  {
   "cell_type": "code",
   "execution_count": 18,
   "metadata": {},
   "outputs": [
    {
     "name": "stdout",
     "output_type": "stream",
     "text": [
      "[[5, 11, 22, 8], [5, 8, 3, 9], [9, 0, 2, 33]]\n",
      "b'\\x05\\x00\\x00\\x00\\x00\\x00\\x00\\x00\\x0b\\x00\\x00\\x00\\x00\\x00\\x00\\x00\\x16\\x00\\x00\\x00\\x00\\x00\\x00\\x00\\x08\\x00\\x00\\x00\\x00\\x00\\x00\\x00\\x05\\x00\\x00\\x00\\x00\\x00\\x00\\x00\\x08\\x00\\x00\\x00\\x00\\x00\\x00\\x00\\x03\\x00\\x00\\x00\\x00\\x00\\x00\\x00\\t\\x00\\x00\\x00\\x00\\x00\\x00\\x00\\t\\x00\\x00\\x00\\x00\\x00\\x00\\x00\\x00\\x00\\x00\\x00\\x00\\x00\\x00\\x00\\x02\\x00\\x00\\x00\\x00\\x00\\x00\\x00!\\x00\\x00\\x00\\x00\\x00\\x00\\x00'\n",
      "b'\\x05\\x00\\x00\\x00\\x00\\x00\\x00\\x00\\x0b\\x00\\x00\\x00\\x00\\x00\\x00\\x00\\x16\\x00\\x00\\x00\\x00\\x00\\x00\\x00\\x08\\x00\\x00\\x00\\x00\\x00\\x00\\x00\\x05\\x00\\x00\\x00\\x00\\x00\\x00\\x00\\x08\\x00\\x00\\x00\\x00\\x00\\x00\\x00\\x03\\x00\\x00\\x00\\x00\\x00\\x00\\x00\\t\\x00\\x00\\x00\\x00\\x00\\x00\\x00\\t\\x00\\x00\\x00\\x00\\x00\\x00\\x00\\x00\\x00\\x00\\x00\\x00\\x00\\x00\\x00\\x02\\x00\\x00\\x00\\x00\\x00\\x00\\x00!\\x00\\x00\\x00\\x00\\x00\\x00\\x00'\n",
      "b'\\x05\\x00\\x00\\x00\\x00\\x00\\x00\\x00\\x05\\x00\\x00\\x00\\x00\\x00\\x00\\x00\\t\\x00\\x00\\x00\\x00\\x00\\x00\\x00\\x0b\\x00\\x00\\x00\\x00\\x00\\x00\\x00\\x08\\x00\\x00\\x00\\x00\\x00\\x00\\x00\\x00\\x00\\x00\\x00\\x00\\x00\\x00\\x00\\x16\\x00\\x00\\x00\\x00\\x00\\x00\\x00\\x03\\x00\\x00\\x00\\x00\\x00\\x00\\x00\\x02\\x00\\x00\\x00\\x00\\x00\\x00\\x00\\x08\\x00\\x00\\x00\\x00\\x00\\x00\\x00\\t\\x00\\x00\\x00\\x00\\x00\\x00\\x00!\\x00\\x00\\x00\\x00\\x00\\x00\\x00'\n",
      "b'\\x05\\x00\\x00\\x00\\x00\\x00\\x00\\x00\\x0b\\x00\\x00\\x00\\x00\\x00\\x00\\x00\\x16\\x00\\x00\\x00\\x00\\x00\\x00\\x00\\x08\\x00\\x00\\x00\\x00\\x00\\x00\\x00\\x05\\x00\\x00\\x00\\x00\\x00\\x00\\x00\\x08\\x00\\x00\\x00\\x00\\x00\\x00\\x00\\x03\\x00\\x00\\x00\\x00\\x00\\x00\\x00\\t\\x00\\x00\\x00\\x00\\x00\\x00\\x00\\t\\x00\\x00\\x00\\x00\\x00\\x00\\x00\\x00\\x00\\x00\\x00\\x00\\x00\\x00\\x00\\x02\\x00\\x00\\x00\\x00\\x00\\x00\\x00!\\x00\\x00\\x00\\x00\\x00\\x00\\x00'\n",
      "None\n"
     ]
    }
   ],
   "source": [
    "#tolist调用\n",
    "print ( m.tolist ( ) )    #tolist是没有参数的\n",
    "#tostring调用\n",
    "print ( m.tostring ( ) ) #tostring带一个order参数C格式或者Fortran格式,默认C（行优先）\n",
    "print ( m.tostring ( 'C' ) ) \n",
    "print ( m.tostring ( 'F' ) ) \n",
    "#tobytes调用\n",
    "print ( m.tobytes ( ) )  #与tostring功能一样\n",
    "#tofile调用\n",
    "m.tofile(\"m.txt\",sep=\"@\",format=\"%04d\" ) #sep分隔符默认\"\",format格式化默认字符串输出，输出如下。\n",
    "#0005@0011@0022@0008@0005@0008@0003@0009@0009@0000@0002@0033\n",
    "#第一个参数可以是：文件名 与 一个打开的文件描述符对象。\n",
    "#文件名的位置：如果不使用绝对位置，相对位置就是保存在ipynb文件作为相对位置。"
   ]
  },
  {
   "cell_type": "markdown",
   "metadata": {},
   "source": [
    "### 4. astype与copy返回克隆"
   ]
  },
  {
   "cell_type": "code",
   "execution_count": 21,
   "metadata": {},
   "outputs": [
    {
     "name": "stdout",
     "output_type": "stream",
     "text": [
      "[[ 5. 11. 22.  8.]\n",
      " [ 5.  8.  3.  9.]\n",
      " [ 9.  0.  2. 33.]]\n",
      "[[ 5 11 22  8]\n",
      " [ 5  8  3  9]\n",
      " [ 9  0  2 33]]\n"
     ]
    }
   ],
   "source": [
    "#ndarray.astype(dtype, order='K', casting='unsafe', subok=True, copy=True) 返回指定类型的克隆\n",
    "# 详细的参考见官方文档\n",
    "print ( m.astype( np.float32 ) )\n",
    "\n",
    "#直接返回克隆：ndarray.copy(order='C')  :order控制内存布局\n",
    "print ( m.copy ( 'C' ) )"
   ]
  },
  {
   "cell_type": "markdown",
   "metadata": {},
   "source": [
    "### 5. 数据视图view"
   ]
  },
  {
   "cell_type": "code",
   "execution_count": 26,
   "metadata": {},
   "outputs": [
    {
     "name": "stdout",
     "output_type": "stream",
     "text": [
      "[[7.0e-45 0.0e+00 1.5e-44 0.0e+00 3.1e-44 0.0e+00 1.1e-44 0.0e+00]\n",
      " [7.0e-45 0.0e+00 1.1e-44 0.0e+00 4.2e-45 0.0e+00 1.3e-44 0.0e+00]\n",
      " [1.3e-44 0.0e+00 0.0e+00 0.0e+00 2.8e-45 0.0e+00 4.6e-44 0.0e+00]]\n",
      "[[ 5 11 22  8]\n",
      " [ 5  8  3  9]\n",
      " [ 9  0  2 33]]\n",
      "[[ 5 11 22  8]\n",
      " [ 5  8  3  9]\n",
      " [ 9  0  2 33]]\n"
     ]
    }
   ],
   "source": [
    "print  ( m.view ( dtype=np.float32) )   #numpy标量类型或者ndarray的子类型\n",
    "print  ( m.view ( type=np.ndarray) )\n",
    "print  ( m.view ( type=np.matrix) )   #子类型"
   ]
  },
  {
   "cell_type": "markdown",
   "metadata": {},
   "source": [
    "### 6. 填充数据fill"
   ]
  },
  {
   "cell_type": "code",
   "execution_count": 27,
   "metadata": {},
   "outputs": [
    {
     "name": "stdout",
     "output_type": "stream",
     "text": [
      "[[8 8 8 8]\n",
      " [8 8 8 8]\n",
      " [8 8 8 8]]\n"
     ]
    }
   ],
   "source": [
    "#ndarray.fill(value)\n",
    "m.fill ( 8 )\n",
    "print ( m )"
   ]
  },
  {
   "cell_type": "markdown",
   "metadata": {},
   "source": [
    "## 二、数组形状变换\n",
    "---\n",
    "\n",
    "数组形状操作方法| 方法说明\n",
    "-:|:-\n",
    "ndarray.reshape(shape\\[, order\\])\t|Returns an array containing the same data with a new shape.\n",
    "ndarray.resize(new_shape\\[, refcheck\\])\t|Change shape and size of array in-place.\n",
    "ndarray.transpose(\\*axes)\t|Returns a view of the array with axes transposed.\n",
    "ndarray.swapaxes(axis1, axis2)\t|Return a view of the array with axis1 and axis2 interchanged.\n",
    "ndarray.flatten(\\[order\\])\t|Return a copy of the array collapsed into one dimension.\n",
    "ndarray.ravel(\\[order\\])\t|Return a flattened array.\n",
    "ndarray.squeeze(\\[axis\\])\t|Remove single-dimensional entries from the shape of a.\n",
    "\n",
    "**【注意】**：如果其中只有一个元素的元组，可以直接使用整数表示，比如(1)可以直接用1替代。\n",
    "除了transpose与flatten，都存在numpy对应的函数。\n",
    "\n",
    "---"
   ]
  },
  {
   "cell_type": "markdown",
   "metadata": {},
   "source": [
    "### 1. reshape与resize的比较"
   ]
  },
  {
   "cell_type": "code",
   "execution_count": 34,
   "metadata": {},
   "outputs": [
    {
     "name": "stdout",
     "output_type": "stream",
     "text": [
      "[[8 8 8 8 8]\n",
      " [8 8 8 8 8]]\n",
      "[[8 8]\n",
      " [8 8]\n",
      " [8 8]\n",
      " [8 8]\n",
      " [8 8]]\n",
      "None\n",
      "[[8 8 8]\n",
      " [8 8 8]\n",
      " [8 8 8]]\n"
     ]
    }
   ],
   "source": [
    "print ( m )\n",
    "#print ( m.reshape ( ( 2, 5 ) ) )   #必须满足条件：旧形状的大小 = 新形状的大小\n",
    "print ( m.reshape ( ( 5, 2 ) ) )\n",
    "\n",
    "print ( m.resize ( ( 3, 3 ) ) )    #这个改变大小，没有返回值\n",
    "print ( m )"
   ]
  },
  {
   "cell_type": "markdown",
   "metadata": {},
   "source": [
    "### 2.  transpose与swapaxes函数"
   ]
  },
  {
   "cell_type": "code",
   "execution_count": 36,
   "metadata": {},
   "outputs": [],
   "source": []
  },
  {
   "cell_type": "code",
   "execution_count": 50,
   "metadata": {},
   "outputs": [
    {
     "name": "stdout",
     "output_type": "stream",
     "text": [
      "[[0 7 8 1]\n",
      " [6 4 3 0]\n",
      " [9 1 4 6]]\n",
      "[[0 6 9]\n",
      " [7 4 1]\n",
      " [8 3 4]\n",
      " [1 0 6]]\n",
      "[[0 6 9]\n",
      " [7 4 1]\n",
      " [8 3 4]\n",
      " [1 0 6]]\n",
      "[[0 7 8 1]\n",
      " [6 4 3 0]\n",
      " [9 1 4 6]]\n",
      "转换前：\n",
      "[[[3 5]\n",
      "  [9 8]\n",
      "  [8 7]\n",
      "  [3 1]]\n",
      "\n",
      " [[8 8]\n",
      "  [5 5]\n",
      "  [9 6]\n",
      "  [3 5]]\n",
      "\n",
      " [[4 4]\n",
      "  [3 7]\n",
      "  [4 1]\n",
      "  [8 5]]]\n",
      "转换后：\n",
      "[[[3 8 4]\n",
      "  [5 8 4]]\n",
      "\n",
      " [[9 5 3]\n",
      "  [8 5 7]]\n",
      "\n",
      " [[8 9 4]\n",
      "  [7 6 1]]\n",
      "\n",
      " [[3 3 8]\n",
      "  [1 5 5]]]\n",
      "[[[3 5]\n",
      "  [9 8]\n",
      "  [8 7]\n",
      "  [3 1]]\n",
      "\n",
      " [[8 8]\n",
      "  [5 5]\n",
      "  [9 6]\n",
      "  [3 5]]\n",
      "\n",
      " [[4 4]\n",
      "  [3 7]\n",
      "  [4 1]\n",
      "  [8 5]]]\n",
      "[[[3 9 8 3]\n",
      "  [5 8 7 1]]\n",
      "\n",
      " [[8 5 9 3]\n",
      "  [8 5 6 5]]\n",
      "\n",
      " [[4 3 4 8]\n",
      "  [4 7 1 5]]]\n",
      "[[[3 9 8 3]\n",
      "  [5 8 7 1]]\n",
      "\n",
      " [[8 5 9 3]\n",
      "  [8 5 6 5]]\n",
      "\n",
      " [[4 3 4 8]\n",
      "  [4 7 1 5]]]\n"
     ]
    }
   ],
   "source": [
    "m = np.random.randint ( 10,  size=(3, 4) ) \n",
    "#ndarray.transpose(*axes)\n",
    "print ( m )\n",
    "print ( m.transpose ( ) )     #无参数\n",
    "print ( m.transpose ( (1, 0 ) ) )     #元组参数（1个参数没有意义。因为对一维情况不会产生任何变化）\n",
    "print ( m.transpose ( 0, 1 ) )     #n个整数参数 与元组一样\n",
    "#解释下：transpose可以控制转置矩阵方式：（i，j） 元组的值i表述旧矩阵的维度，元组下标0表示新矩阵的维度\n",
    "#（1，0）表示新矩阵的行（0：第一维）是旧矩阵的列（1：第二维）。\n",
    "\n",
    "m = np.random.randint ( 10,  size=(3, 4, 2 ) )\n",
    "print(\"转换前：\")\n",
    "print(m)\n",
    "print(\"转换后：\")\n",
    "print ( m.transpose ( 1, 2, 0 ) ) #就是坐标轴变换（新矩阵的D-0就是旧矩阵的D-1，新矩阵的D-1就是旧矩阵的D-2）\n",
    "\n",
    "#ndarray.swapaxes(axis1, axis2) 两个维度互换\n",
    "print ( m.swapaxes ( 0, 0 ) ) \n",
    "print ( m.swapaxes ( 1, 2 ) )\n",
    "print ( m.transpose ( 0, 2, 1 ) ) #等价于 print ( m.swapaxes ( 1, 2 ) )"
   ]
  },
  {
   "cell_type": "markdown",
   "metadata": {},
   "source": [
    "### 3. flatten、ravel与squeeze函数"
   ]
  },
  {
   "cell_type": "code",
   "execution_count": 62,
   "metadata": {},
   "outputs": [
    {
     "name": "stdout",
     "output_type": "stream",
     "text": [
      "[7 5 3 7 5 7]\n",
      "[7 5 3 7 5 7]\n",
      "[[4 3]\n",
      " [0 6]\n",
      " [1 6]]\n",
      "(3, 2, 1)\n",
      "[[4 3]\n",
      " [0 6]\n",
      " [1 6]]\n"
     ]
    }
   ],
   "source": [
    "#ndarray.flatten(order='C') 转换成 1 维\n",
    "print ( m.flatten ( ) )\n",
    "# ndarray.ravel([order]) 与flatten一样\n",
    "print ( m.ravel ( ) )\n",
    "#ndarray.squeeze(axis=None) 删除长度为axis的维度\n",
    "m = np.random.randint ( 10,  size=(3, 2, 1 ) )\n",
    "print ( m.squeeze ( ) )  # 删除所有长度为1的维度\n",
    "print ( m.shape)\n",
    "print ( m.squeeze ( axis=2 ) )   #删除维度的长度为1的维度，如果多个维度的长度都为1，则指定维度，否则全删"
   ]
  },
  {
   "cell_type": "markdown",
   "metadata": {},
   "source": [
    "## 三、数组数据选择与操作\n",
    "\n",
    "---\n",
    "\n",
    "数据选择与操作方法 | 方法说明\n",
    "-:|:-\n",
    "ndarray.take(indices\\[, axis, out, mode\\])\t|Return an array formed from the elements of a at the given indices.\n",
    "ndarray.put(indices, values\\[, mode\\])\t|Set a.flat[n] = values[n] for all n in indices.\n",
    "ndarray.repeat(repeats\\[, axis\\])\t|Repeat elements of an array.\n",
    "ndarray.choose(choices\\[, out, mode\\])\t|Use an index array to construct a new array from a set of choices.\n",
    "ndarray.sort(\\[axis, kind, order\\])\t|Sort an array, in-place.\n",
    "ndarray.argsort(\\[axis, kind, order\\])\t|Returns the indices that would sort this array.\n",
    "ndarray.partition(kth\\[, axis, kind, order\\])\t|Rearranges the elements in the array in such a way that value of the element in kth position is in the position it would be in a sorted array.\n",
    "ndarray.argpartition(kth\\[, axis, kind, order\\])\t|Returns the indices that would partition this array.\n",
    "ndarray.searchsorted(v\\[, side, sorter\\])\t|Find indices where elements of v should be inserted in a to maintain order.\n",
    "ndarray.nonzero()\t|Return the indices of the elements that are non-zero.\n",
    "ndarray.compress(condition\\[, axis, out\\])\t|Return selected slices of this array along given axis.\n",
    "ndarray.diagonal(\\[offset, axis1, axis2\\])\t|Return specified diagonals.\n",
    "\n",
    "**【注意】：如果axis为None，数组作为1-D数组处理。如果是整数，表示对应的维度**\n",
    "这些函数在numpy都存在对应函数。\n",
    "\n",
    "---"
   ]
  },
  {
   "cell_type": "markdown",
   "metadata": {},
   "source": [
    "### 1. put与take函数"
   ]
  },
  {
   "cell_type": "code",
   "execution_count": 63,
   "metadata": {},
   "outputs": [],
   "source": [
    "m = np.random.randint ( 10,  size=(3, 4) ) "
   ]
  },
  {
   "cell_type": "code",
   "execution_count": 72,
   "metadata": {},
   "outputs": [
    {
     "name": "stdout",
     "output_type": "stream",
     "text": [
      "[[8 3 5 4]\n",
      " [1 8 2 0]\n",
      " [8 4 3 7]]\n",
      "3\n",
      "[3 5]\n",
      "[3 5]\n",
      "[[3 5]\n",
      " [4 1]]\n",
      "[[[1 8 2 0]\n",
      "  [8 4 3 7]]\n",
      "\n",
      " [[8 3 5 4]\n",
      "  [1 8 2 0]]]\n"
     ]
    }
   ],
   "source": [
    "# ndarray.take(indices, axis=None, out=None, mode='raise')\n",
    "# mode : {'raise', 'wrap', 'clip'}, optional\n",
    "# mode=‘raise’，表示a中数必须在[0,n-1]范围内\n",
    "# mode=‘wrap’，a中数可以是任意的整数（signed），对n取余映射到[0,n-1]范围内\n",
    "# mode='clip'，a中数可以是任意的整数(signed)，负数映射为0，大于n-1的数映射为n-1\n",
    "print ( m )\n",
    "print ( m.take ( 1 ) )\n",
    "print ( m.take ( ( 1 ,2 ) ) )\n",
    "print ( m.take ( [ 1 ,2 ] ) )  #与上面一样\n",
    "print ( m.take ( [ [1 ,2 ] ,[ 3,4] ] ) )  #按照一维的方式，返回参数索引格式的数据。\n",
    "print ( m.take ( [ [1 ,2 ] ,[ 0,1] ] , axis=0) )  #axis=0 按照行，axis=None就是全部"
   ]
  },
  {
   "cell_type": "code",
   "execution_count": 73,
   "metadata": {},
   "outputs": [
    {
     "name": "stdout",
     "output_type": "stream",
     "text": [
      "[[8 3 5 4]\n",
      " [1 8 2 0]\n",
      " [8 4 3 7]]\n",
      "[[ 8 11 12 13]\n",
      " [ 1  8  2  0]\n",
      " [ 8  4  3  7]]\n"
     ]
    }
   ],
   "source": [
    "#ndarray.put(indices, values, mode='raise') \n",
    "#等价于a.flat[n] = values[n]\n",
    "print ( m )\n",
    "m.put( ( 1, 2, 3 ), ( 11, 12, 13, 14) )  #根据indices中对应下标，到values中取值，用来修改数组中对应位置的值\n",
    "print ( m )"
   ]
  },
  {
   "cell_type": "markdown",
   "metadata": {},
   "source": [
    "### 2.sort，argsort与searchsorted函数"
   ]
  },
  {
   "cell_type": "code",
   "execution_count": 77,
   "metadata": {},
   "outputs": [],
   "source": [
    "m = np.random.randint ( 10,  size=(3, 4) ) "
   ]
  },
  {
   "cell_type": "code",
   "execution_count": null,
   "metadata": {},
   "outputs": [],
   "source": [
    "#ndarray.sort(axis=-1, kind='quicksort', order=None)"
   ]
  },
  {
   "cell_type": "code",
   "execution_count": 78,
   "metadata": {},
   "outputs": [
    {
     "name": "stdout",
     "output_type": "stream",
     "text": [
      "[[2 1 6 2]\n",
      " [9 7 8 7]\n",
      " [9 9 5 3]]\n",
      "[[1 2 2 6]\n",
      " [7 7 8 9]\n",
      " [3 5 9 9]]\n",
      "[[1 2 2 6]\n",
      " [3 5 8 9]\n",
      " [7 7 9 9]]\n"
     ]
    }
   ],
   "source": [
    "print ( m )\n",
    "m.sort ( )   #默认按照axis=1排序（每行排序）\n",
    "print ( m )\n",
    "m.sort ( axis = 0 ) #按照axis = 0排序（每列排序）\n",
    "print ( m )"
   ]
  },
  {
   "cell_type": "code",
   "execution_count": 81,
   "metadata": {},
   "outputs": [],
   "source": [
    "m = np.random.randint ( 10,  size=(3, 4) ) "
   ]
  },
  {
   "cell_type": "code",
   "execution_count": 82,
   "metadata": {},
   "outputs": [
    {
     "name": "stdout",
     "output_type": "stream",
     "text": [
      "[[4 1 7 5]\n",
      " [9 5 3 7]\n",
      " [9 1 3 6]]\n",
      "[[1 0 3 2]\n",
      " [2 1 3 0]\n",
      " [1 2 3 0]]\n",
      "[[4 1 7 5]\n",
      " [9 5 3 7]\n",
      " [9 1 3 6]]\n",
      "[[0 0 1 0]\n",
      " [1 2 2 2]\n",
      " [2 1 0 1]]\n",
      "[[4 1 7 5]\n",
      " [9 5 3 7]\n",
      " [9 1 3 6]]\n"
     ]
    }
   ],
   "source": [
    "#ndarray.argsort(axis=-1, kind='quicksort', order=None) 返回排序的下标\n",
    "print ( m )\n",
    "print ( m.argsort ( ) )  #默认按照axis=1排序（每行排序）\n",
    "print ( m )\n",
    "print ( m.argsort ( axis = 0 ) ) #按照axis = 0排序（每列排序）\n",
    "print ( m )"
   ]
  },
  {
   "cell_type": "code",
   "execution_count": 92,
   "metadata": {},
   "outputs": [
    {
     "name": "stdout",
     "output_type": "stream",
     "text": [
      "4\n",
      "5\n",
      "4\n"
     ]
    }
   ],
   "source": [
    "#ndarray.searchsorted(v, side='left', sorter=None) #找出v应该排序的位置\n",
    "m = np.array ( [\n",
    "    [ 5, 3, 8, 4, 2 ],\n",
    "    [ 7, 1, 6, 9, 3 ],\n",
    "    [ 8, 2, 6, 3, 7]\n",
    "] )\n",
    "#print ( m.searchsorted ( 5 , sorter=m.argsort( ) ) )  # 只作用于1-D数组\n",
    "m=np.array( [ 1,2,5,6,9] )\n",
    "print ( m.searchsorted ( 8 ) )  #返回8在m数组排序应该在对的位置，只对有序作用\n",
    "m=np.array( [ 2, 5, 4, 9, 7 ] )\n",
    "print ( m.searchsorted ( 8 ) )   #对无序可以运行，意义不大\n",
    "print ( m.searchsorted ( 8 , sorter=m.argsort( ) ) ) #添加一个排序器"
   ]
  },
  {
   "cell_type": "markdown",
   "metadata": {},
   "source": [
    "### 3. repeat 函数"
   ]
  },
  {
   "cell_type": "code",
   "execution_count": 94,
   "metadata": {},
   "outputs": [
    {
     "name": "stdout",
     "output_type": "stream",
     "text": [
      "[5 5 3 3 8 8 7 7 1 1 6 6 8 8 2 2 6 6]\n",
      "[[5 3 8]\n",
      " [5 3 8]\n",
      " [7 1 6]\n",
      " [7 1 6]\n",
      " [8 2 6]\n",
      " [8 2 6]]\n"
     ]
    }
   ],
   "source": [
    "#ndarray.repeat(repeats, axis=None)  #按照指定axis维度复制指定次数\n",
    "m = np.array ( [\n",
    "    [ 5, 3, 8 ],\n",
    "    [ 7, 1, 6 ],\n",
    "    [ 8, 2, 6 ]\n",
    "] )\n",
    "\n",
    "print ( m.repeat ( 2 ) )  #复制2次，先flat，再复制\n",
    "\n",
    "print ( m.repeat ( 2 ,axis = 0) )  #按照行复制2次"
   ]
  },
  {
   "cell_type": "markdown",
   "metadata": {},
   "source": [
    "### 4. choose与nonzero函数"
   ]
  },
  {
   "cell_type": "code",
   "execution_count": 96,
   "metadata": {},
   "outputs": [
    {
     "name": "stdout",
     "output_type": "stream",
     "text": [
      "[[-2 -3 -4]\n",
      " [-4 -3 -2]\n",
      " [-3 -3 -3]]\n"
     ]
    }
   ],
   "source": [
    "#ndarray.choose(choices, out=None, mode='raise')  #把数组当做下标。从choices中取对应的值。\n",
    "m = np.array ( [   #索引\n",
    "    [ 1, 2, 3 ],\n",
    "    [ 3, 2, 1 ],\n",
    "    [ 2, 2, 2 ]\n",
    "] )\n",
    "\n",
    "print ( m.choose ( [ -1, -2, -3, -4, -5 ] ) )   #被选的值\n",
    "#mode的取值意义见上。"
   ]
  },
  {
   "cell_type": "code",
   "execution_count": 99,
   "metadata": {},
   "outputs": [
    {
     "name": "stdout",
     "output_type": "stream",
     "text": [
      "[[1 0 3]\n",
      " [3 2 0]\n",
      " [2 2 0]]\n",
      "(array([0, 0, 1, 1, 2, 2]), array([0, 2, 0, 1, 0, 1]))\n"
     ]
    }
   ],
   "source": [
    "# ndarray.nonzero() 返回非零元素的下标索引\n",
    "m = np.array ( [   \n",
    "    [ 1, 0, 3 ],\n",
    "    [ 3, 2, 0 ],\n",
    "    [ 2, 2, 0 ]\n",
    "] )\n",
    "print ( m )\n",
    "print ( m.nonzero( ) ) #返回非零的下标。返回两个数组，一个按照行，一个按照列，行列对应形成非零的下标"
   ]
  },
  {
   "cell_type": "markdown",
   "metadata": {},
   "source": [
    "### 5.compress函数"
   ]
  },
  {
   "cell_type": "code",
   "execution_count": 104,
   "metadata": {},
   "outputs": [
    {
     "name": "stdout",
     "output_type": "stream",
     "text": [
      "[1 0 4]\n",
      "[[1 0 3]\n",
      " [2 2 0]]\n"
     ]
    }
   ],
   "source": [
    "#ndarray.compress(condition, axis=None, out=None)\n",
    "#返回按照axis维度的切片，条件是1-D布尔数组\n",
    "m = np.array ( [   \n",
    "    [ 1, 0, 3 ],\n",
    "    [ 4, 2, 0 ],\n",
    "    [ 2, 2, 0 ]\n",
    "] )\n",
    "print ( m.compress ( [True , True, False, True ] ) )    #按照条件返回元素axis=None，等于先flat再操作\n",
    "print ( m.compress ( [True , False, True ], axis = 0 ) )  #按照条件返回行"
   ]
  },
  {
   "cell_type": "markdown",
   "metadata": {},
   "source": [
    "### 6. diagonal函数"
   ]
  },
  {
   "cell_type": "code",
   "execution_count": 109,
   "metadata": {},
   "outputs": [
    {
     "name": "stdout",
     "output_type": "stream",
     "text": [
      "[1 2 0]\n",
      "[0 0]\n",
      "[4 2]\n"
     ]
    }
   ],
   "source": [
    "#ndarray.diagonal(offset=0, axis1=0, axis2=1) 按照坐标轴axis1与axis2返回对角线,返回的是1-D数组\n",
    "m = np.array ( [   \n",
    "    [ 1, 0, 3 ],\n",
    "    [ 4, 2, 0 ],\n",
    "    [ 2, 2, 0 ]\n",
    "] )\n",
    "print ( m.diagonal ( ) )\n",
    "print ( m.diagonal (1 ) )\n",
    "print ( m.diagonal (1, axis1 = 1, axis2 = 0) )  #下三角对角"
   ]
  },
  {
   "cell_type": "markdown",
   "metadata": {},
   "source": [
    "### 7. partition与argpartition函数"
   ]
  },
  {
   "cell_type": "code",
   "execution_count": 120,
   "metadata": {},
   "outputs": [
    {
     "name": "stdout",
     "output_type": "stream",
     "text": [
      "None\n",
      "[1 2 7 5 8 3 4 6]\n",
      "None\n",
      "[[1 3 4 6]\n",
      " [0 1 2 4]\n",
      " [1 2 4 7]]\n",
      "None\n",
      "[[1 2 1 0]\n",
      " [2 4 3 1]\n",
      " [4 7 4 6]]\n",
      "None\n",
      "[1 2 3 4 5 6 7 8]\n"
     ]
    }
   ],
   "source": [
    "#ndarray.partition(kth, axis=-1, kind='introselect', order=None)\n",
    "#对指定的元素排序，默认是最后一个坐标轴\n",
    "m = np.array ( [ 5, 2, 7, 1, 8, 3, 4, 6 ] )\n",
    "print ( m.partition ( 1 ) )    #找出第1大的数据，放在1的位置，小的放前面，大的放后面\n",
    "print ( m )\n",
    "\n",
    "m = np.array ( [   \n",
    "    [ 1, 4, 3, 6 ],\n",
    "    [ 4, 2, 1, 0 ],\n",
    "    [ 2, 7, 4, 1 ]\n",
    "] )\n",
    "print ( m.partition ( 1 ) )    #找出每行中列第1大的\n",
    "print ( m )\n",
    "\n",
    "m = np.array ( [   \n",
    "    [ 1, 4, 3, 6 ],\n",
    "    [ 4, 2, 1, 0 ],\n",
    "    [ 2, 7, 4, 1 ]\n",
    "] )\n",
    "print ( m.partition ( 1, axis = 0 ) )    #找出每列中行第1大的\n",
    "print ( m )\n",
    "\n",
    "m = np.array ( [ 5, 2, 7, 1, 8, 3, 4, 6 ] )\n",
    "print ( m.partition ( ( 1 , 5 ) ) )    #找出第1与5大的数据，放在1与5的位置，小的放前面，大的放后面\n",
    "print ( m )"
   ]
  },
  {
   "cell_type": "code",
   "execution_count": 123,
   "metadata": {},
   "outputs": [
    {
     "name": "stdout",
     "output_type": "stream",
     "text": [
      "[3 1 2 0 4 5 6 7]\n",
      "[[0 2 1 3]\n",
      " [3 2 1 0]\n",
      " [3 0 2 1]]\n",
      "[[0 1 1 1]\n",
      " [2 0 0 2]\n",
      " [1 2 2 0]]\n",
      "[3 1 5 6 0 7 2 4]\n"
     ]
    }
   ],
   "source": [
    "#ndarray.argpartition(kth, axis=-1, kind='introselect', order=None)\n",
    "#返回下标\n",
    "m = np.array ( [ 5, 2, 7, 1, 8, 3, 4, 6 ] )\n",
    "print ( m.argpartition ( 1 ) )    #找出第1大的数据，放在1的位置，小的放前面，大的放后面\n",
    "\n",
    "m = np.array ( [   \n",
    "    [ 1, 4, 3, 6 ],\n",
    "    [ 4, 2, 1, 0 ],\n",
    "    [ 2, 7, 4, 1 ]\n",
    "] )\n",
    "print ( m.argpartition ( 1 ) )    #找出每行中列第1大的\n",
    "\n",
    "m = np.array ( [   \n",
    "    [ 1, 4, 3, 6 ],\n",
    "    [ 4, 2, 1, 0 ],\n",
    "    [ 2, 7, 4, 1 ]\n",
    "] )\n",
    "print ( m.argpartition ( 1, axis = 0 ) )    #找出每列中行第1大的\n",
    "\n",
    "m = np.array ( [ 5, 2, 7, 1, 8, 3, 4, 6 ] )\n",
    "print ( m.argpartition ( ( 1 , 5 ) ) )    #找出第1与5大的数据，放在1与5的位置，小的放前面，大的放后面\n"
   ]
  },
  {
   "cell_type": "markdown",
   "metadata": {},
   "source": [
    "## 四、数组计算处理\n",
    "---\n",
    "\n",
    "数组计算操作方法|方法说明\n",
    "-:|:-\n",
    "ndarray.argmax(\\[axis, out\\])\t|Return indices of the maximum values along the given axis.\n",
    "ndarray.min(\\[axis, out, keepdims\\])\t|Return the minimum along a given axis.\n",
    "ndarray.argmin(\\[axis, out\\])\t|Return indices of the minimum values along the given axis of a.\n",
    "ndarray.ptp(\\[axis, out\\])\t|Peak to peak (maximum - minimum) value along a given axis.\n",
    "ndarray.clip(\\[min, max, out\\])\t|Return an array whose values are limited to [min, max].\n",
    "ndarray.conj()\t|Complex-conjugate all elements.\n",
    "ndarray.round(\\[decimals, out\\])\t|Return a with each element rounded to the given number of decimals.\n",
    "ndarray.trace(\\[offset, axis1, axis2, dtype, out\\])\t|Return the sum along diagonals of the array.\n",
    "ndarray.sum(\\[axis, dtype, out, keepdims\\])\t|Return the sum of the array elements over the given axis.\n",
    "ndarray.cumsum(\\[axis, dtype, out\\])\t|Return the cumulative sum of the elements along the given axis.\n",
    "ndarray.mean(\\[axis, dtype, out, keepdims\\])\t|Returns the average of the array elements along given axis.\n",
    "ndarray.var(\\[axis, dtype, out, ddof, keepdims\\])\t|Returns the variance of the array elements, along given axis.\n",
    "ndarray.std(\\[axis, dtype, out, ddof, keepdims\\])\t|Returns the standard deviation of the array elements along given axis.\n",
    "ndarray.prod(\\[axis, dtype, out, keepdims\\])\t|Return the product of the array elements over the given axis\n",
    "ndarray.cumprod(\\[axis, dtype, out\\])\t|Return the cumulative product of the elements along the given axis.\n",
    "ndarray.all(\\[axis, out, keepdims\\])\t|Returns True if all elements evaluate to True.\n",
    "ndarray.any(\\[axis, out, keepdims\\])\t|Returns True if any of the elements of a evaluate to True.\n",
    "\n",
    "**【注意】**：axis取值None，表示第一维度，其他值表示对应的维度。\n",
    "这些函数在**numpy**都存在对应的函数\n",
    "\n",
    "---"
   ]
  },
  {
   "cell_type": "markdown",
   "metadata": {},
   "source": [
    "### 1. max、argmax函数与min、argmin函数"
   ]
  },
  {
   "cell_type": "code",
   "execution_count": 128,
   "metadata": {},
   "outputs": [
    {
     "name": "stdout",
     "output_type": "stream",
     "text": [
      "1\n",
      "8\n",
      "9\n",
      "7\n",
      "[4 7 4 6]\n",
      "[6 4 7]\n"
     ]
    }
   ],
   "source": [
    "#ndarray.argmax(axis=None, out=None) 返回最大值下标\n",
    "m = np.array ( [ 5, 8, 7, 1, 8, 3, 4, 6 ] )\n",
    "print ( m.argmax ( ) )     #只返回第一个最大值\n",
    "#ndarray.max(axis=None, out=None) 返回最大值下标\n",
    "print ( m.max ( ) )  \n",
    "m = np.array ( [   \n",
    "    [ 1, 4, 3, 6 ],\n",
    "    [ 4, 2, 1, 0 ],\n",
    "    [ 2, 7, 4, 1 ]\n",
    "] )\n",
    "print ( m.argmax ( ) ) \n",
    "print ( m.max ( ) )  \n",
    "print ( m.max ( axis = 0 ) )   #每列最大值\n",
    "print ( m.max ( axis = 1 ) )   #每行最大值"
   ]
  },
  {
   "cell_type": "code",
   "execution_count": 129,
   "metadata": {},
   "outputs": [
    {
     "name": "stdout",
     "output_type": "stream",
     "text": [
      "3\n",
      "1\n",
      "7\n",
      "0\n",
      "[1 2 1 0]\n",
      "[1 0 1]\n"
     ]
    }
   ],
   "source": [
    "#ndarray.argmin(axis=None, out=None) 返回最大值下标\n",
    "m = np.array ( [ 5, 8, 7, 1, 8, 3, 4, 6 ] )\n",
    "print ( m.argmin ( ) )     #只返回第一个最大值\n",
    "#ndarray.min(axis=None, out=None) 返回最大值下标\n",
    "print ( m.min ( ) )  \n",
    "m = np.array ( [   \n",
    "    [ 1, 4, 3, 6 ],\n",
    "    [ 4, 2, 1, 0 ],\n",
    "    [ 2, 7, 4, 1 ]\n",
    "] )\n",
    "print ( m.argmin ( ) ) \n",
    "print ( m.min ( ) )  \n",
    "print ( m.min ( axis = 0 ) )   #每列最大值\n",
    "print ( m.min ( axis = 1 ) )   #每行最大值"
   ]
  },
  {
   "cell_type": "markdown",
   "metadata": {},
   "source": [
    "### 2. sum与cumsum函数"
   ]
  },
  {
   "cell_type": "code",
   "execution_count": 134,
   "metadata": {},
   "outputs": [
    {
     "name": "stdout",
     "output_type": "stream",
     "text": [
      "35\n",
      "[[35]]\n",
      "35.0\n",
      "[ 7 13  8  7]\n",
      "[[ 7 13  8  7]]\n"
     ]
    }
   ],
   "source": [
    "#ndarray.sum(axis=None, dtype=None, out=None, keepdims=False) #求和\n",
    "m = np.array ( [   \n",
    "    [ 1, 4, 3, 6 ],\n",
    "    [ 4, 2, 1, 0 ],\n",
    "    [ 2, 7, 4, 1 ]\n",
    "] )\n",
    "print ( m.sum ( ) )\n",
    "print ( m.sum ( keepdims = True ) )\n",
    "print ( m.sum ( dtype = np.float32 ) )\n",
    "print ( m.sum ( axis = 0 ) )  #每列想加\n",
    "print ( m.sum ( axis = 0, keepdims = True ) )"
   ]
  },
  {
   "cell_type": "code",
   "execution_count": 136,
   "metadata": {},
   "outputs": [
    {
     "name": "stdout",
     "output_type": "stream",
     "text": [
      "[ 1  5  8 14 18 20 21 21 23 30 34 35]\n",
      "[ 1.  5.  8. 14. 18. 20. 21. 21. 23. 30. 34. 35.]\n",
      "[[ 1  4  3  6]\n",
      " [ 5  6  4  6]\n",
      " [ 7 13  8  7]]\n"
     ]
    }
   ],
   "source": [
    "#ndarray.cumsum(axis=None, dtype=None, out=None)  #累加和\n",
    "m = np.array ( [   \n",
    "    [ 1, 4, 3, 6 ],\n",
    "    [ 4, 2, 1, 0 ],\n",
    "    [ 2, 7, 4, 1 ]\n",
    "] )\n",
    "print ( m.cumsum ( ) )\n",
    "print ( m.cumsum ( dtype = np.float32 ) )\n",
    "print ( m.cumsum ( axis = 0 ) )  #按照行每列累加"
   ]
  },
  {
   "cell_type": "markdown",
   "metadata": {},
   "source": [
    "### 3. trace函数"
   ]
  },
  {
   "cell_type": "code",
   "execution_count": 140,
   "metadata": {},
   "outputs": [
    {
     "name": "stdout",
     "output_type": "stream",
     "text": [
      "7\n",
      "6\n",
      "11\n"
     ]
    }
   ],
   "source": [
    "#ndarray.trace(offset=0, axis1=0, axis2=1, dtype=None, out=None)\n",
    "# 返回对角线的和\n",
    "m = np.array ( [\n",
    "    [ 1, 4, 3, 6 ],\n",
    "    [ 4, 2, 1, 0 ],\n",
    "    [ 2, 7, 4, 1 ]\n",
    "] )\n",
    "print (  m.trace ( ) )  #对角线1，2，4 (偏移为0 )的和\n",
    "print (  m.trace ( offset = 1 ) )  #对角线4，1，1（偏移为1，行的偏移）的和\n",
    "print (  m.trace ( offset =1, axis1 = 1, axis2 = 0 ) )  #对角线4，7（偏移为1, 列的偏移）的和"
   ]
  },
  {
   "cell_type": "markdown",
   "metadata": {},
   "source": [
    "### 4. mean函数"
   ]
  },
  {
   "cell_type": "code",
   "execution_count": 146,
   "metadata": {},
   "outputs": [
    {
     "name": "stdout",
     "output_type": "stream",
     "text": [
      "2.9166666666666665\n",
      "2.9166666666666665\n",
      "[[2.91666667]]\n",
      "[2.33333333 4.33333333 2.66666667 2.33333333]\n",
      "2.9166666666666665\n"
     ]
    }
   ],
   "source": [
    "# ndarray.mean(axis=None, dtype=None, out=None, keepdims=False)\n",
    "# 求均值\n",
    "m = np.array ( [   \n",
    "    [ 1, 4, 3, 6 ],\n",
    "    [ 4, 2, 1, 0 ],\n",
    "    [ 2, 7, 4, 1 ]\n",
    "] )\n",
    "print (  m.mean ( ) )  #全部元素的平均值\n",
    "print (  m.mean ( dtype = np.float_ ) )  #全部元素的平均值\n",
    "print (  m.mean ( keepdims = True) )  #全部元素的平均值\n",
    "print (  m.mean ( axis = 0 ) )  #行的平均值（行想加，除以行数）\n",
    "print (  m.mean ( axis = ( 0, 1 ) ) )  #行列的平均值\n"
   ]
  },
  {
   "cell_type": "markdown",
   "metadata": {},
   "source": [
    "### 5. std与var函数\n",
    ">方差用来度量随机变量和其数学期望（即均值）之间的偏离程度。\n",
    ">概率论中的方差表示方法 ：   \n",
    "> ( 1 )  样本方差：无偏估计、无偏方差     \n",
    "> ( 2 ) 总体方差：有偏估计、有偏方差、标准差、均方差     \n",
    "\n",
    "$\\ \\ \\ $标准方差：$S^2=\\dfrac{1}{n} \\sum\\limits_{i=1}^{n}(X_i - \\bar{X})^2$   \n",
    "\n",
    "\n",
    "无偏方差：$\\delta^2=\\dfrac{1}{n-1} \\sum\\limits_{i=1}^{n}(X_i - \\bar{X})^2$  \n",
    "\n",
    "**说明：**标准差就是偏差的均值（偏差就是样本与均值的差的平方和）\n",
    "\n",
    "关于无偏方差，无偏估计的推导可以回顾大学的概率与数理统计\n",
    "\n",
    "样本偏差：$S=\\sqrt[2]{\\dfrac{1}{n} \\sum\\limits_{i=1}^{n}(X_i - \\bar{X})^2}$   \n",
    "总体偏差：$\\delta=\\sqrt[2]{\\dfrac{1}{n-1} \\sum\\limits_{i=1}^{n}(X_i - \\bar{X})^2}$   \n",
    "\n",
    "---"
   ]
  },
  {
   "cell_type": "code",
   "execution_count": 155,
   "metadata": {},
   "outputs": [
    {
     "name": "stdout",
     "output_type": "stream",
     "text": [
      "4.243055555555556\n",
      "4.243055555555556\n"
     ]
    }
   ],
   "source": [
    "#ndarray.var(axis=None, dtype=None, out=None, ddof=0, keepdims=False)\n",
    "#标准方差\n",
    "m = np.array ( [   \n",
    "    [ 1, 4, 3, 6 ],\n",
    "    [ 4, 2, 1, 0 ],\n",
    "    [ 2, 7, 4, 1 ]\n",
    "] )\n",
    "print ( m.var ( ) )\n",
    "#下面是等价计算方式\n",
    "mn=m.mean ( )   # 平均值\n",
    "#print ( mn )\n",
    "m=m-mn    #计算差\n",
    "#print ( m )\n",
    "m=m*m    #差的平方\n",
    "#print ( m )   #差的平方的均值\n",
    "print ( m.mean ( ) )\n"
   ]
  },
  {
   "cell_type": "code",
   "execution_count": 156,
   "metadata": {},
   "outputs": [
    {
     "name": "stdout",
     "output_type": "stream",
     "text": [
      "2.0598678490513795\n",
      "2.0598678490513795\n"
     ]
    }
   ],
   "source": [
    "#ndarray.std(axis=None, dtype=None, out=None, ddof=0, keepdims=False)\n",
    "#标准偏差\n",
    "m = np.array ( [\n",
    "    [ 1, 4, 3, 6 ],\n",
    "    [ 4, 2, 1, 0 ],\n",
    "    [ 2, 7, 4, 1 ]\n",
    "] )\n",
    "print ( m.std ( ) )\n",
    "# 下面是标准偏差的计算方式\n",
    "print ( np.sqrt ( m.var ( ) ) )\n"
   ]
  },
  {
   "cell_type": "markdown",
   "metadata": {},
   "source": [
    "**理解上面偏差与方差区别后，下面可以讨论复杂点的参数了**"
   ]
  },
  {
   "cell_type": "code",
   "execution_count": 165,
   "metadata": {},
   "outputs": [
    {
     "name": "stdout",
     "output_type": "stream",
     "text": [
      "[1.55555556 4.22222222 1.55555556 6.88888889]\n",
      "[1.5555555555555556, 4.222222222222222, 1.5555555555555554, 6.888888888888889]\n"
     ]
    }
   ],
   "source": [
    "#ndarray.var(axis=None, dtype=None, out=None, ddof=0, keepdims=False)\n",
    "m = np.array ( [\n",
    "    [ 1, 4, 3, 6 ],\n",
    "    [ 4, 2, 1, 0 ],\n",
    "    [ 2, 7, 4, 1 ]\n",
    "] )\n",
    "print ( m.var ( axis = 0 ) )\n",
    "\n",
    "print (  [ m [ : , 0  ].var ( ), m [ : , 1  ].var ( ), m [ : , 2  ].var ( ), m [ : , 3  ].var ( ) ] )"
   ]
  },
  {
   "cell_type": "markdown",
   "metadata": {},
   "source": [
    "**参数ddof的意义是用来控制有偏（n）与无偏（n - ddof）的计算方式，ddof默认是0：有偏；ddof=1：无偏**"
   ]
  },
  {
   "cell_type": "code",
   "execution_count": 166,
   "metadata": {},
   "outputs": [
    {
     "name": "stdout",
     "output_type": "stream",
     "text": [
      "4.628787878787879\n",
      "4.243055555555556\n",
      "4.243055555555556\n"
     ]
    }
   ],
   "source": [
    "m = np.array ( [\n",
    "    [ 1, 4, 3, 6 ],\n",
    "    [ 4, 2, 1, 0 ],\n",
    "    [ 2, 7, 4, 1 ]\n",
    "] )\n",
    "print ( m.var ( ddof = 1 ) )\n",
    "print ( m.var ( ddof = 0 ) )\n",
    "print ( m.var (  ) )"
   ]
  },
  {
   "cell_type": "markdown",
   "metadata": {},
   "source": [
    "### 6. prod与cumprod函数\n",
    "积与累乘积"
   ]
  },
  {
   "cell_type": "code",
   "execution_count": 168,
   "metadata": {},
   "outputs": [
    {
     "name": "stdout",
     "output_type": "stream",
     "text": [
      "96768\n"
     ]
    }
   ],
   "source": [
    "# ndarray.prod(axis=None, dtype=None, out=None, keepdims=False)\n",
    "m = np.array ( [\n",
    "    [ 1, 4, 3, 6 ],\n",
    "    [ 4, 2, 1, 3 ],\n",
    "    [ 2, 7, 4, 1 ]\n",
    "] )\n",
    "print ( m.prod ( ) )"
   ]
  },
  {
   "cell_type": "code",
   "execution_count": 169,
   "metadata": {},
   "outputs": [
    {
     "name": "stdout",
     "output_type": "stream",
     "text": [
      "[    1     4    12    72   288   576   576  1728  3456 24192 96768 96768]\n"
     ]
    }
   ],
   "source": [
    "#ndarray.cumprod(axis=None, dtype=None, out=None)\n",
    "m = np.array ( [\n",
    "    [ 1, 4, 3, 6 ],\n",
    "    [ 4, 2, 1, 3 ],\n",
    "    [ 2, 7, 4, 1 ]\n",
    "] )\n",
    "print ( m.cumprod ( ) )"
   ]
  },
  {
   "cell_type": "markdown",
   "metadata": {},
   "source": [
    "### 6. all与any函数"
   ]
  },
  {
   "cell_type": "code",
   "execution_count": 170,
   "metadata": {},
   "outputs": [
    {
     "name": "stdout",
     "output_type": "stream",
     "text": [
      "True\n"
     ]
    }
   ],
   "source": [
    "#ndarray.all(axis=None, out=None, keepdims=False)\n",
    "m = np.array ( [\n",
    "    [ 1, 4, 3, 6 ],\n",
    "    [ 4, 2, 1, 3 ],\n",
    "    [ 2, 7, 4, 1 ]\n",
    "] )\n",
    "print ( m.all ( ) )"
   ]
  },
  {
   "cell_type": "code",
   "execution_count": 171,
   "metadata": {},
   "outputs": [
    {
     "name": "stdout",
     "output_type": "stream",
     "text": [
      "True\n"
     ]
    }
   ],
   "source": [
    "#ndarray.any(axis=None, out=None, keepdims=False)\n",
    "m = np.array ( [\n",
    "    [ 1, 4, 3, 6 ],\n",
    "    [ 4, 2, 1, 3 ],\n",
    "    [ 2, 7, 4, 1 ]\n",
    "] )\n",
    "print ( m.any ( ) )"
   ]
  },
  {
   "cell_type": "markdown",
   "metadata": {},
   "source": [
    "## 五、数组算术运算\n",
    "---\n",
    "### 比较运算\n",
    "运算符方法|方法说明\n",
    "-:|:-\n",
    "ndarray.\\_\\_lt\\_\\_(\\$self, value, /)\t|Return self<value.\n",
    "ndarray.\\_\\_le\\_\\_(\\$self, value, /)\t|Return self<=value.\n",
    "ndarray.\\_\\_gt\\_\\_(\\$self, value, /)\t|Return self>value.\n",
    "ndarray.\\_\\_ge\\_\\_(\\$self, value, /)\t|Return self>=value.\n",
    "ndarray.\\_\\_eq\\_\\_(\\$self, value, /)\t|Return self==value.\n",
    "ndarray.\\_\\_ne\\_\\_(\\$self, value, /)\t|Return self!=value.\n",
    "\n",
    "---\n",
    "### 数组作为逻辑值使用运算 \n",
    "运算符方法|方法说明\n",
    "-:|:-\n",
    "ndarray.\\_\\_nonzero\\_\\_(\\$self, /)\t | 返回bool值\n",
    "\n",
    "---\n",
    "### 单目运算方法\n",
    "单目运算方法 | 方法说明\n",
    "-:|:-\n",
    "ndarray.\\_\\_neg\\_\\_(\\$self, /)\t|-self\n",
    "ndarray.\\_\\_pos\\_\\_(\\$self, /)\t|+self\n",
    "ndarray.\\_\\_abs\\_\\_(\\$self)\t\n",
    "ndarray.\\_\\_invert\\_\\_(\\$self, /)\t|~self\n",
    "\n",
    "---\n",
    "### 算术运算\n",
    "\n",
    "算术运算符方法|方法说明\n",
    "-:|:-\n",
    "ndarray.\\_\\_add\\_\\_(\\$self, value, /)\t|Return self+value.\n",
    "ndarray.\\_\\_sub\\_\\_(\\$self, value, /)\t|Return self-value.\n",
    "ndarray.\\_\\_mul\\_\\_(\\$self, value, /)\t|Return self*value.\n",
    "ndarray.\\_\\_div\\_\\_(\\$self, value, /)\t|Return self/value.(Python3)\n",
    "ndarray.\\_\\_truediv\\_\\_(\\$self, value, /)\t|Return self/value.(Python2)\n",
    "ndarray.\\_\\_floordiv\\_\\_(\\$self, value, /)\t|Return self//value.\n",
    "ndarray.\\_\\_mod\\_\\_(\\$self, value, /)\t|Return self%value.\n",
    "ndarray.\\_\\_divmod\\_\\_(\\$self, value, /)\t|Return divmod(self, value).\n",
    "ndarray.\\_\\_pow\\_\\_(\\$self, value\\[, mod\\])\t|Return pow(self, value, mod).\n",
    "ndarray.\\_\\_lshift\\_\\_(\\$self, value, /)\t|Return self<<value.\n",
    "ndarray.\\_\\_rshift\\_\\_(\\$self, value, /)\t|Return self>>value.\n",
    "ndarray.\\_\\_and\\_\\_(\\$self, value, /)\t|Return self&value.\n",
    "ndarray.\\_\\_or\\_\\_(\\$self, value, /)\t|Return self|value.\n",
    "ndarray.\\_\\_xor\\_\\_(\\$self, value, /)\t|Return self^value.\n",
    "\n",
    "**【注意】：**\n",
    "1. pow的第三个参数总是忽略的。\n",
    "2. 除法默认是\\_\\_div\\_\\_，\\_\\_truediv\\_\\_在设置\\_\\_future\\_\\_后使用（主要在Python2兼容Python3语法使用）。\n",
    "3. 可以使用set_numeric_ops方式设置调用的算术方法。\n",
    "\n",
    "---\n",
    "### 复合算术运算\n",
    "复合算术运算符方法|方法说明\n",
    "-:|:-\n",
    "ndarray.\\_\\_iadd\\_\\_(\\$self, value, /)\t|Return self\\+=value.\n",
    "ndarray.\\_\\_isub\\_\\_(\\$self, value, /)\t|Return self\\-=value.\n",
    "ndarray.\\_\\_imul\\_\\_(\\$self, value, /)\t|Return self\\*=value.\n",
    "ndarray.\\_\\_idiv\\_\\_(\\$self, value, /)\t|Return self\\/=value.\t\n",
    "ndarray.\\_\\_itruediv\\_\\_(\\$self, value, /)\t|Return self\\/=value.\n",
    "ndarray.\\_\\_ifloordiv\\_\\_(\\$self, value, /)\t|Return self\\/\\/=value.\n",
    "ndarray.\\_\\_imod\\_\\_(\\$self, value, /)\t|Return self\\%=value.\n",
    "ndarray.\\_\\_ipow\\_\\_(\\$self, value, /)\t|Return self\\*\\*=value.\n",
    "ndarray.\\_\\_ilshift\\_\\_(\\$self, value, /)\t|Return self\\<\\<=value.\n",
    "ndarray.\\_\\_irshift\\_\\_(\\$self, value, /)\t|Return self\\>\\>=value.\n",
    "ndarray.\\_\\_iand\\_\\_(\\$self, value, /)\t|Return self\\&=value.\n",
    "ndarray.\\_\\_ior\\_\\_(\\$self, value, /)\t|Return self\\|=value.\n",
    "ndarray.\\_\\_ixor\\_\\_(\\$self, value, /)\t|Return self^=value.\n",
    "ndarray.\\_\\_matmul\\_\\_(\\$self, value, /)\t|Return self@value.\n",
    "\n",
    "**【注意】：**a {op} b运算与 a {op}=b运算是有区别的，主要在类型转换上的区别。\n",
    "\n",
    "---"
   ]
  },
  {
   "cell_type": "markdown",
   "metadata": {},
   "source": [
    "## 六、其他运算\n",
    "\n",
    "---\n",
    "### 标准库函数操作\n",
    "标准库操作方法|方法说明\n",
    "-:|:-\n",
    "ndarray.\\_\\_copy\\_\\_()\t|Used if copy.copy is called on an array.\n",
    "ndarray.\\_\\_deepcopy\\_\\_(memo, /)\t|Used if copy.deepcopy is called on an array.\n",
    "ndarray.\\_\\_reduce\\_\\_()\t|For pickling.\n",
    "ndarray.\\_\\_setstate\\_\\_(state, /)\t|For unpickling.\n",
    "\n",
    "---\n",
    "### 基本构造\n",
    "基本构造方法|方法说明\n",
    "-:|:-\n",
    "ndarray.\\_\\_new\\_\\_(\\$type, \\*args, \\*\\*kwargs)\t|Create and return a new object.\n",
    "ndarray.\\_\\_array\\_\\_(\\|dtype)\t|Returns either a new reference to self if dtype is not given or a new array of provided data type if dtype is different from the current dtype of the array.\n",
    "ndarray.\\_\\_array\\_wrap\\_\\_(obj) |\n",
    "\n",
    "---\n",
    "### 容器操作\n",
    "容器操作方法|方法说明\n",
    "-:|:-\n",
    "ndarray.\\_\\_len\\_\\_(\\$self, /)\t|Return len(self).\n",
    "ndarray.\\_\\_getitem\\_\\_(\\$self, key, /)\t|Return self[key].\n",
    "ndarray.\\_\\_setitem\\_\\_(\\$self, key, value, /)\t|Set self[key] to value.\n",
    "ndarray.\\_\\_contains\\_\\_(\\$self, key, /)\t|Return key in self.\n",
    "\n",
    "---\n",
    "### 类型转换\n",
    "类型转换操作方法|方法说明\n",
    "-:|:-\n",
    "ndarray.\\_\\_int\\__(self)\t|\n",
    "ndarray.\\_\\_long\\_\\_\t|\n",
    "ndarray.\\_\\_float\\_\\_(self)\t|\n",
    "ndarray.\\_\\_oct\\_\\_\t|\n",
    "ndarray.\\_\\_hex\\_\\_\t|\n",
    "\n",
    "---\n",
    "### 字符串转换\n",
    "字符串转换操作方法|方法说明\n",
    "-:|:-\n",
    "ndarray.\\_\\_str\\_\\_(\\$self, /)\t|Return str(self).\n",
    "ndarray.\\_\\_repr\\_\\_(\\$self, /)\t|Return repr(self).\n",
    "\n",
    "---\n"
   ]
  },
  {
   "cell_type": "code",
   "execution_count": 176,
   "metadata": {},
   "outputs": [
    {
     "name": "stdout",
     "output_type": "stream",
     "text": [
      "3\n"
     ]
    }
   ],
   "source": [
    "#__int__   只作用于一个元素的数组，多于一个会错误\n",
    "m = np.array ( [ 3 ] )\n",
    "print ( int ( m ) )"
   ]
  },
  {
   "cell_type": "code",
   "execution_count": 179,
   "metadata": {},
   "outputs": [
    {
     "name": "stdout",
     "output_type": "stream",
     "text": [
      "[42 23 32]\n",
      "[15 29 17 15]\n"
     ]
    }
   ],
   "source": [
    "m = np.array ( [\n",
    "    [ 1, 4, 3, 6 ],\n",
    "    [ 4, 2, 1, 3 ],\n",
    "    [ 2, 7, 4, 1 ]\n",
    "] )\n",
    "\n",
    "x = np.array ( [1,2,3,4] )\n",
    "print ( m @ x)\n",
    "# print ( x @ m) 不满足内积的条件\n",
    "\n",
    "y = np.array ( [1,2,3] )\n",
    "print ( y @ m)"
   ]
  }
 ],
 "metadata": {
  "kernelspec": {
   "display_name": "Python 3",
   "language": "python",
   "name": "python3"
  },
  "language_info": {
   "codemirror_mode": {
    "name": "ipython",
    "version": 3
   },
   "file_extension": ".py",
   "mimetype": "text/x-python",
   "name": "python",
   "nbconvert_exporter": "python",
   "pygments_lexer": "ipython3",
   "version": "3.6.6"
  }
 },
 "nbformat": 4,
 "nbformat_minor": 2
}
