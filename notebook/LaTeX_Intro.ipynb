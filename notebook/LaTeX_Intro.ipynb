{
 "cells": [
  {
   "cell_type": "markdown",
   "metadata": {},
   "source": [
    "# LaTex基础\n",
    "\n",
    "## 一、排版"
   ]
  },
  {
   "cell_type": "markdown",
   "metadata": {},
   "source": [
    "行内公式：$a+b$  \n",
    "独行公式：$$a+b$$"
   ]
  },
  {
   "cell_type": "markdown",
   "metadata": {},
   "source": [
    "## 二、基本语法"
   ]
  },
  {
   "cell_type": "markdown",
   "metadata": {},
   "source": [
    "#### 1.文本与上下标"
   ]
  },
  {
   "cell_type": "markdown",
   "metadata": {},
   "source": [
    "$\\text{文本：}a+b=20$   \n",
    "\n",
    "上标：$A^2$  \n",
    "下标：$A_i$   \n",
    "\n",
    "上标分组：$A^{12}$     \n",
    "下标分组：$A_{ij}$   \n",
    "\n",
    "上下标同时使用：$\\text{公式一：}A^2_i$ ，$\\text{公式二：}{A^2}_i$   "
   ]
  },
  {
   "cell_type": "markdown",
   "metadata": {},
   "source": [
    "#### 2.特殊上标"
   ]
  },
  {
   "cell_type": "markdown",
   "metadata": {},
   "source": [
    "点：$A^{2^{\\cdot^{\\cdot^2}}}$    \n",
    "\n",
    "求导符号：$\\text{方式一：}A'$，$\\text{方式二：}A^\\prime$    \n",
    "\n",
    "度数：$\\text{公式一（句号效果）：}A^。$ ，$\\text{公式二：}A^\\circ$"
   ]
  },
  {
   "cell_type": "markdown",
   "metadata": {},
   "source": [
    "#### 3.上下标居中"
   ]
  },
  {
   "cell_type": "markdown",
   "metadata": {},
   "source": [
    "某些符号的上下标在行内模式会按照默认的上标下标位置（右上角与右下角）显示，独行模式自然居中：    \n",
    "\n",
    "行内效果：$\\sum_{i=1}^{20}$  \n",
    "独行效果：$$\\sum_{i=1}^{20}$$  "
   ]
  },
  {
   "cell_type": "markdown",
   "metadata": {},
   "source": [
    "#### 4.上下标居中控制"
   ]
  },
  {
   "cell_type": "markdown",
   "metadata": {},
   "source": [
    "使用\\limits与\\nolimits强制控制上下标位置，直接修饰_与^：  \n",
    "例子：$\\text{右上下角：}\\sum_{i=0}^{20}$，$\\text{居中：}\\sum\\limits_{i=0}^{20}$    \n",
    "\n",
    "使用\\sideset{}{} 可以在左边上下标：  \n",
    "例子：$\\text{四角：}\\sideset{^a_b}{_c^d}\\sum$，$\\text{左边：}\\sideset{^a_b}{}\\sum$，$\\text{右边：}\\sideset{}{_c^d}\\sum$，$\\text{包含上下标：}\\sideset{^a_b}{^c_d}\\sum_{i=0}^{20}$，$\\text{包含居中：}\\sideset{^a_b}{^c_d}\\sum\\limits_{i=0}^{20}$   \n",
    "\n",
    "使用\\overset与\\underset控制居中上下标：  \n",
    "例子：$\\text{上边：}\\overset{100}\\sum$，$\\text{上下边：}\\overset{100}{\\underset{i=0}\\sum}$     "
   ]
  },
  {
   "cell_type": "markdown",
   "metadata": {},
   "source": [
    "#### 5.数学专用符号"
   ]
  },
  {
   "cell_type": "markdown",
   "metadata": {},
   "source": [
    "求和符号：$\\sum$  \n",
    "求积符号：$\\prod$  \n",
    "积分符号：$\\int$，二重积分：$\\iint$，三重积分：$\\iiint$   \n",
    "微分符号：$\\mathrm{d} t$   \n",
    "极限符号：$\\lim_{i=0}$  \n",
    "省略号：$\\dots$，$\\vdots$，$\\ddots$，  \n",
    "箭头符号：$\\to，\\rightarrow，\\leftarrow，\\Rightarrow，\\Leftarrow，\\mapsto$   \n",
    "向量符号：$\\vec{A}$   \n",
    "尖括号： $\\langle  \\rangle$  \n",
    "空格：  $\\text{一个空格}a\\ b$，$\\text{四个空格}a\\quad b$   \n",
    "希腊字母： $\\alpha，\\beta，\\gamma，\\delta，\\epsilon，\\zeta，\\eta，\\theta，\\iota，\\kappa，\\lambda，\\mu，\\nu，\\xi，\\pi，\\rho，\\sigma，\\tau，\\upsilon，\\phi，\\chi，\\psi，\\omega$   \n",
    "变体小写希腊字母（不是所有都支持）： $\\varepsilon，\\vartheta，\\varkappa，\\varpi，\\varrho，\\varsigma，\\varphi$   \n",
    "大写希腊字母（只支持部分）： $\\Gamma，\\Delta，\\Theta，\\Lambda，\\Xi，\\Pi，\\Sigma，\\Upsilon，\\Phi，\\Psi，\\Omega$    \n",
    "变体希腊字母（只对大写希腊字母有效）：  $\\varGamma，\\varDelta，\\varTheta，\\varLambda，\\varXi，\\varPi，\\varSigma，\\varUpsilon，\\varPhi，\\varPsi，\\varOmega$    \n",
    "其他数学符号：$\\infty，\\cup，\\cap，\\subset，\\subseteq，\\supset，\\in，\\notin，\\varnothing，\\forall，\\exists，\\lnot，\\nabla，\\partial$   \n",
    "大于小于符号：  $\\lt，\\gt，\\le，\\leq，\\leqq，\\leqslant，\\ge，\\geq，\\geqq，\\geqslant，\\neq$   \n",
    "否定符号：$\\not\\lt，\\not\\gt，\\not\\le，\\not\\leq，\\not\\leqq，\\not\\leqslant，\\not\\ge，\\not\\geq，\\not\\geqq，\\not\\geqslant，\\not\\neq$     \n",
    "加减乘除：$\\times，\\div，\\pm，\\mp，\\cdot$(centered dot)   \n",
    "集合运算符号：$\\cup，\\cap，\\setminus，\\subset，\\subseteq，\\subsetneq，\\supset，\\in，\\notin，\\emptyset，\\varnothing$   \n",
    "排列组合： ${n+1 \\choose 2k} \\text{或者} \\binom{n+1}{2k}$   \n",
    "推导符号：$\\land，\\lor，\\lnot，\\forall，\\exists，\\top，\\bot，\\vdash，\\vDash$   \n",
    "各种乘法：$\\star，\\ast，\\oplus，\\circ，\\bullet$    \n",
    "各种等号：$\\approx，\\sim，\\simeq，\\cong，\\equiv，\\prec，\\lhd，\\therefore$    \n",
    "闲杂符号：$\\infty，\\aleph_0，\\nabla，\\partial，\\Im，\\Re$   \n",
    "模等符号：$a\\equiv b\\pmod n$   \n"
   ]
  },
  {
   "cell_type": "markdown",
   "metadata": {},
   "source": [
    "#### 6.箭头与括号"
   ]
  },
  {
   "cell_type": "markdown",
   "metadata": {},
   "source": [
    "上左箭头：  $\\overleftarrow{A}$  \n",
    "上右箭头：  $\\overrightarrow{A}$   \n",
    "上双箭头：  $\\overleftrightarrow{A}$   \n",
    "下左箭头：  $\\underleftarrow{A}$  \n",
    "下右箭头：  $\\underrightarrow{A}$   \n",
    "下双箭头：  $\\underleftrightarrow{A}$   \n",
    "\n",
    "上括号：  $\\overbrace{x+y+z}$  \n",
    "下括号：  $\\underbrace{x+y+z}$   \n",
    "\n",
    "上尖线条：$\\widehat{ABCD}，\\hat{AB}$   \n",
    "上平线条：$\\bar{ABC}，\\overline{ABC}$\n"
   ]
  },
  {
   "cell_type": "markdown",
   "metadata": {},
   "source": [
    " #### 7.分数"
   ]
  },
  {
   "cell_type": "markdown",
   "metadata": {},
   "source": [
    "分数：$\\frac 12$，$\\frac{12}{a+b}$  \n",
    "大分数： $\\dfrac 12$，$\\dfrac{12}{a+b}$   \n",
    "小分数：$\\tfrac 12$，$\\tfrac{12}{a+b}$  "
   ]
  },
  {
   "cell_type": "markdown",
   "metadata": {},
   "source": [
    "#### 8.根式"
   ]
  },
  {
   "cell_type": "markdown",
   "metadata": {},
   "source": [
    "语法：\\sqrt[]   \n",
    "例子：  $\\sqrt 4$，$\\sqrt{a+b}$  \n",
    "例子： $\\sqrt[n] 4$"
   ]
  },
  {
   "cell_type": "markdown",
   "metadata": {},
   "source": [
    "#### 9.矩阵与行列式 "
   ]
  },
  {
   "cell_type": "markdown",
   "metadata": {},
   "source": [
    "语法：\\matrix  ，列使用&符号，行使用\\\\符号。   \n",
    "例子： $\\matrix{1&2&3\\\\4&5&6\\\\7&&9}$   \n",
    "\n",
    "方式一：$\\pmatrix{1&2&3\\\\4&5&6\\\\7&&9}$   \n",
    "\n",
    "方式二：（这个方式是amsmath【american mathematical society】）\n",
    "$\\begin{bmatrix}\n",
    "{a_{11}}&{a_{12}}&{\\cdots}&{a_{1n}}\\\\\n",
    "{a_{21}}&{a_{22}}&{\\cdots}&{a_{2n}}\\\\\n",
    "{\\vdots}&{\\vdots}&{\\ddots}&{\\vdots}\\\\\n",
    "{a_{m1}}&{a_{m2}}&{\\cdots}&{a_{mn}}\\\\\n",
    "\\end{bmatrix}$   \n",
    "\n",
    "方式三：（这个方式是amsmath【american mathematical society】）\n",
    "$\\begin{Bmatrix}\n",
    "{a_{11}}&{a_{12}}&{\\cdots}&{a_{1n}}\\\\\n",
    "{a_{21}}&{a_{22}}&{\\cdots}&{a_{2n}}\\\\\n",
    "{\\vdots}&{\\vdots}&{\\ddots}&{\\vdots}\\\\\n",
    "{a_{m1}}&{a_{m2}}&{\\cdots}&{a_{mn}}\\\\\n",
    "\\end{Bmatrix}$   \n",
    "\n",
    "方式四：（这个方式是amsmath【american mathematical society】）\n",
    "$\\begin{vmatrix}\n",
    "{a_{11}}&{a_{12}}&{\\cdots}&{a_{1n}}\\\\\n",
    "{a_{21}}&{a_{22}}&{\\cdots}&{a_{2n}}\\\\\n",
    "{\\vdots}&{\\vdots}&{\\ddots}&{\\vdots}\\\\\n",
    "{a_{m1}}&{a_{m2}}&{\\cdots}&{a_{mn}}\\\\\n",
    "\\end{vmatrix}$   \n",
    "\n",
    "方式五：（这个方式是amsmath【american mathematical society】）\n",
    "$\\begin{Vmatrix}\n",
    "{a_{11}}&{a_{12}}&{\\cdots}&{a_{1n}}\\\\\n",
    "{a_{21}}&{a_{22}}&{\\cdots}&{a_{2n}}\\\\\n",
    "{\\vdots}&{\\vdots}&{\\ddots}&{\\vdots}\\\\\n",
    "{a_{m1}}&{a_{m2}}&{\\cdots}&{a_{mn}}\\\\\n",
    "\\end{Vmatrix}$  "
   ]
  },
  {
   "cell_type": "markdown",
   "metadata": {},
   "source": [
    "#### 10.阵列"
   ]
  },
  {
   "cell_type": "markdown",
   "metadata": {},
   "source": [
    "语法： \\begin{array}{对齐方式}    \\end{array}   \n",
    "对齐方式：左对齐：l；居中：c；右对齐：r  \n",
    "线条：竖直线：在声明对齐方式时，插入|建立竖直线 ；    插入水平线：\\hline；   "
   ]
  },
  {
   "cell_type": "markdown",
   "metadata": {},
   "source": [
    "例子：   \n",
    "$\\begin{array}{c|lll}\n",
    "{↓}&{a}&{b}&{c}\\\\\n",
    "\\hline\n",
    "{R_1}&{c}&{b}&{a}\\\\\n",
    "{R_2}&{b}&{c}&{c}\\\\\n",
    "\\end{array}$"
   ]
  },
  {
   "cell_type": "markdown",
   "metadata": {},
   "source": [
    "#### 11.方程组"
   ]
  },
  {
   "cell_type": "markdown",
   "metadata": {},
   "source": [
    "语法：\\begin { cases } 开始    \\end { cases }结束   "
   ]
  },
  {
   "cell_type": "markdown",
   "metadata": {},
   "source": [
    "例子：   \n",
    "$\\begin{cases}\n",
    "a_1x+b_1y+c_1z=d_1\\\\\n",
    "a_2x+b_2y+c_2z=d_2\\\\\n",
    "a_3x+b_3y+c_3z=d_3\\\\\n",
    "\\end{cases}\n",
    "$"
   ]
  },
  {
   "cell_type": "markdown",
   "metadata": {},
   "source": [
    "#### 12.字体"
   ]
  },
  {
   "cell_type": "markdown",
   "metadata": {},
   "source": [
    "blackboard bold字体：$\\mathbb{ABCDEF}$，$\\Bbb{ABCDabcd}$    \n",
    "\n",
    "boldface字体：$\\mathbf{ABCDEFabcdef}$    \n",
    "\n",
    "roman font字体：$\\mathrm{ABCDEFabcdef}$    \n",
    "\n",
    "sans-serif font字体：$\\mathsf{ABCDEFabcdef}$    \n",
    "\n",
    "calligraphic字体：$\\mathcal{ABCDEFabcdef}$   \n",
    " \n",
    " script letters字体：$\\mathscr{ABCDEFabcdef}$    \n",
    " \n",
    "  Fraktur字体 (old German style) ：$\\mathfrak{ABCDEFabcdef}$"
   ]
  }
 ],
 "metadata": {
  "kernelspec": {
   "display_name": "Python 3",
   "language": "python",
   "name": "python3"
  },
  "language_info": {
   "codemirror_mode": {
    "name": "ipython",
    "version": 3
   },
   "file_extension": ".py",
   "mimetype": "text/x-python",
   "name": "python",
   "nbconvert_exporter": "python",
   "pygments_lexer": "ipython3",
   "version": "3.6.6"
  }
 },
 "nbformat": 4,
 "nbformat_minor": 2
}
