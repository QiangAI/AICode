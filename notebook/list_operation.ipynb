{
 "cells": [
  {
   "cell_type": "markdown",
   "metadata": {},
   "source": [
    "# 列表的操作\n",
    ">1. 基本操作\n",
    ">2. 列表迭代与解析\n",
    ">3. 索引与分片\n",
    ">4. 列表数据操作\n",
    ">5. 其他操作\n",
    "---"
   ]
  },
  {
   "cell_type": "markdown",
   "metadata": {},
   "source": [
    "## 1. 基本操作"
   ]
  },
  {
   "cell_type": "code",
   "execution_count": 3,
   "metadata": {},
   "outputs": [
    {
     "name": "stdout",
     "output_type": "stream",
     "text": [
      "5\n",
      "4\n"
     ]
    }
   ],
   "source": [
    "# 1. 长度\n",
    "print ( len ( [ 1, 2, 3, 4, 5 ] ) )\n",
    "\n",
    "# 对多维，返回第一维长度\n",
    "print ( len ( [ \n",
    "    [ 1, 2, 3 ],\n",
    "    [ 4, 5, 6 ],\n",
    "    [ 7, 8, 9 ],\n",
    "    [ 9, 8, 7 ]\n",
    "] ) )"
   ]
  },
  {
   "cell_type": "code",
   "execution_count": 8,
   "metadata": {},
   "outputs": [
    {
     "name": "stdout",
     "output_type": "stream",
     "text": [
      "[1, 2, 3, 4, 1, 2, 3, 4, 1, 2, 3, 4]\n",
      "[[1, 2, 3], [4, 5, 6], [1, 2, 3], [4, 5, 6]]\n"
     ]
    }
   ],
   "source": [
    "# 2. 列表复制\n",
    "print  ( [ 1, 2, 3, 4 ] * 3 )\n",
    "\n",
    "print ( [\n",
    "    [ 1, 2, 3 ],\n",
    "    [ 4, 5, 6 ]\n",
    "] * 2 )"
   ]
  },
  {
   "cell_type": "code",
   "execution_count": 11,
   "metadata": {},
   "outputs": [
    {
     "name": "stdout",
     "output_type": "stream",
     "text": [
      "[1, 2, 3, 4, 5, 6, 7]\n",
      "[[1, 2, 3], [4, 5, 6], [7, 8, 9, 0], [9, 8, 7], [6, 5, 4]]\n"
     ]
    }
   ],
   "source": [
    "# 3. 列表合并\n",
    "print  ( [ 1, 2, 3 ] + [ 4, 5, 6, 7 ] )\n",
    "\n",
    "#如果是矩阵，则是行列表合并\n",
    "print ( [      \n",
    "    [ 1, 2, 3 ],\n",
    "    [ 4, 5, 6 ]\n",
    "]+[\n",
    "    [ 7, 8, 9, 0 ],\n",
    "    [ 9, 8, 7 ],\n",
    "    [ 6, 5, 4, 0 ]\n",
    "])"
   ]
  },
  {
   "cell_type": "markdown",
   "metadata": {},
   "source": [
    "## 2. 列表迭代与解析"
   ]
  },
  {
   "cell_type": "code",
   "execution_count": 12,
   "metadata": {},
   "outputs": [
    {
     "name": "stdout",
     "output_type": "stream",
     "text": [
      "1\n",
      "2\n",
      "3\n",
      "5\n",
      "[1, 2, 3, 4]\n",
      "[5, 6, 7, 8]\n"
     ]
    }
   ],
   "source": [
    "#  1.迭代\n",
    "for  i in  [ 1, 2, 3, 5 ]:\n",
    "    print ( i )\n",
    "\n",
    "#按照行迭代\n",
    "for item in [\n",
    "    [ 1, 2, 3, 4],\n",
    "    [ 5, 6, 7, 8]\n",
    "]:\n",
    "    print ( item )"
   ]
  },
  {
   "cell_type": "code",
   "execution_count": 16,
   "metadata": {},
   "outputs": [
    {
     "name": "stdout",
     "output_type": "stream",
     "text": [
      "True\n",
      "False\n",
      "True\n"
     ]
    }
   ],
   "source": [
    "# 2.成员检测\n",
    "print ( 3 in [ 1, 2 ,3 ] )\n",
    "\n",
    "# 检测的是行，而不是其中的元素\n",
    "print ( 3 in [ \n",
    "    [ 1, 2, 3 ],\n",
    "    [ 4, 5, 6]\n",
    "])\n",
    "\n",
    "#行检测\n",
    "print ( [ 1, 2, 3 ] in [ \n",
    "    [ 1, 2, 3 ],\n",
    "    [ 4, 5, 6]\n",
    "])"
   ]
  },
  {
   "cell_type": "code",
   "execution_count": 17,
   "metadata": {},
   "outputs": [
    {
     "name": "stdout",
     "output_type": "stream",
     "text": [
      "[2, 3, 4, 5]\n"
     ]
    }
   ],
   "source": [
    "# 3. 列表解析\n",
    "print ( [ x+1 for x in [ 1, 2, 3, 4] ] )"
   ]
  },
  {
   "cell_type": "markdown",
   "metadata": {},
   "source": [
    "## 3. 索引与分片"
   ]
  },
  {
   "cell_type": "code",
   "execution_count": 22,
   "metadata": {},
   "outputs": [
    {
     "name": "stdout",
     "output_type": "stream",
     "text": [
      "2\n",
      "[5, 6, 7, 8]\n",
      "4\n",
      "[9, 1, 2, 3]\n"
     ]
    }
   ],
   "source": [
    "# 1. 按照正向位置索引(从0开始)\n",
    "print ( [ 1, 2, 3, 4 ] [1] )\n",
    "\n",
    "# 多维取行\n",
    "print ( [ \n",
    "    [ 1, 2, 3, 4 ],\n",
    "    [ 5, 6, 7, 8 ],\n",
    "    [ 9, 1, 2, 3 ]\n",
    "] [ 1 ] )\n",
    "\n"
   ]
  },
  {
   "cell_type": "code",
   "execution_count": 23,
   "metadata": {},
   "outputs": [
    {
     "name": "stdout",
     "output_type": "stream",
     "text": [
      "4\n",
      "[9, 1, 2, 3]\n"
     ]
    }
   ],
   "source": [
    "# 2. 按照反向位置索引（从1开始，-1表示最后后一个。）\n",
    "print ( [ 1, 2, 3, 4 ] [ -1 ] )\n",
    "\n",
    "print ( [ \n",
    "    [ 1, 2, 3, 4 ],\n",
    "    [ 5, 6, 7, 8 ],\n",
    "    [ 9, 1, 2, 3 ]\n",
    "] [ -1 ] )"
   ]
  },
  {
   "cell_type": "code",
   "execution_count": 26,
   "metadata": {},
   "outputs": [
    {
     "name": "stdout",
     "output_type": "stream",
     "text": [
      "3\n"
     ]
    }
   ],
   "source": [
    "# 3. 多维索引\n",
    "print ( [ \n",
    "    [ 1, 2, 3, 4 ],\n",
    "    [ 5, 6, 7, 8 ],\n",
    "    [ 9, 1, 2, 3 ]\n",
    "] [ -1 ] [ -1 ])"
   ]
  },
  {
   "cell_type": "markdown",
   "metadata": {},
   "source": [
    "**切片的语法**    \n",
    "\\[ start : end : step \\]"
   ]
  },
  {
   "cell_type": "code",
   "execution_count": 36,
   "metadata": {},
   "outputs": [
    {
     "name": "stdout",
     "output_type": "stream",
     "text": [
      "[2, 3]\n",
      "[2, 3, 4, 5]\n",
      "[2, 3, 4, 5, 6]\n",
      "[1, 2, 3]\n",
      "[1, 2, 3, 4, 5, 6]\n",
      "[6, 5, 4, 3, 2, 1]\n",
      "[6, 5, 4]\n"
     ]
    }
   ],
   "source": [
    "# 4. 切片( [ 开始位置 : 结束位置 ] ) 不包含结束位置的元素\n",
    "print ( [ 1, 2, 3, 4, 5, 6] [ 1 : 3 ] )\n",
    "\n",
    "print ( [ 1, 2, 3, 4, 5, 6] [ 1 :  -1 ] )\n",
    "print ( [ 1, 2, 3, 4, 5, 6] [ 1 :  ] )    #最后默认是-1\n",
    "print ( [ 1, 2, 3, 4, 5, 6] [  : 3 ] )    #前面默认是0\n",
    "print ( [ 1, 2, 3, 4, 5, 6] [  :  ] ) \n",
    "\n",
    "#step的使用：反向\n",
    "print ( [ 1, 2, 3, 4, 5, 6] [  :  : -1 ] )    #第一个是-1，最后一个是0\n",
    "print ( [ 1, 2, 3, 4, 5, 6] [  5  :  2 :  -1 ] )    #step为负，切片也也需要反向。"
   ]
  },
  {
   "cell_type": "code",
   "execution_count": 42,
   "metadata": {},
   "outputs": [
    {
     "name": "stdout",
     "output_type": "stream",
     "text": [
      "[[5, 4, 3, 2, 1, 0]]\n"
     ]
    }
   ],
   "source": [
    "# 5. 多维切片\n",
    "print ( [ \n",
    "    [ 1, 2, 3, 4, 5, 6],\n",
    "    [ 7, 8, 9, 8, 7, 6],\n",
    "    [ 5, 4, 3, 2, 1, 0],\n",
    "    [ 1, 2, 3, 4, 5, 6],\n",
    "][ 1 : 3 ]  [ 1 : 2 ])\n",
    "\n",
    "#下面语法列表是不支持的（ 列表下标与切片不支持元组语法 ）\n",
    "# print ( [ \n",
    "#     [ 1, 2, 3, 4, 5, 6],\n",
    "#     [ 7, 8, 9, 8, 7, 6],\n",
    "#     [ 5, 4, 3, 2, 1, 0],\n",
    "#     [ 1, 2, 3, 4, 5, 6],\n",
    "# ] [ 1 : 3, 1 : 2 ] )\n",
    "\n",
    "#不支持上述语法，就意味不支持取矩阵中的子矩阵。"
   ]
  },
  {
   "cell_type": "markdown",
   "metadata": {},
   "source": [
    "## 4. 列表数据操作    \n",
    "这里列表操作是修改原列表的值，这是列表$（mutable）$与元组$（immutable）$的区别。"
   ]
  },
  {
   "cell_type": "code",
   "execution_count": 69,
   "metadata": {},
   "outputs": [
    {
     "name": "stdout",
     "output_type": "stream",
     "text": [
      "[1, 2, 3, 4]\n",
      "Help on method_descriptor:\n",
      "\n",
      "append(...)\n",
      "    L.append(object) -> None -- append object to end\n",
      "\n",
      "None\n",
      "[1, 2, 3, 4]\n",
      "[1, 2, 3, 4, [4]]\n",
      "Help on method_descriptor:\n",
      "\n",
      "extend(...)\n",
      "    L.extend(iterable) -> None -- extend list by appending elements from the iterable\n",
      "\n",
      "[1, 2, 3, 4, [4], 4]\n",
      "Help on method_descriptor:\n",
      "\n",
      "insert(...)\n",
      "    L.insert(index, object) -- insert object before index\n",
      "\n",
      "[1, 2, 8, 3, 4, [4], 4]\n",
      "Help on method_descriptor:\n",
      "\n",
      "pop(...)\n",
      "    L.pop([index]) -> item -- remove and return item at index (default last).\n",
      "    Raises IndexError if list is empty or index is out of range.\n",
      "\n",
      "8\n",
      "[1, 2, 3, 4, [4], 4]\n"
     ]
    }
   ],
   "source": [
    "# 1. 插入数据+ 与append\n",
    "# 末尾插入\n",
    "print  ( [ 1, 2, 3 ] + [4] )  #返回的应该是新的列表\n",
    "#append的使用\n",
    "help(list.append)\n",
    "#L.append(object) -> None -- append object to end\n",
    "print  ( [ 1, 2, 3 ].append ( [4] ) )  #append不会返回新的列表，而是在列表本身进行操作\n",
    "\n",
    "lt = [ 1, 2, 3 ]\n",
    "lt.append ( 4 )\n",
    "print ( lt )\n",
    "lt.append ( [ 4 ] )\n",
    "print ( lt )\n",
    "\n"
   ]
  },
  {
   "cell_type": "code",
   "execution_count": 70,
   "metadata": {},
   "outputs": [
    {
     "name": "stdout",
     "output_type": "stream",
     "text": [
      "Help on method_descriptor:\n",
      "\n",
      "extend(...)\n",
      "    L.extend(iterable) -> None -- extend list by appending elements from the iterable\n",
      "\n",
      "[1, 2, 3, 4, [4], 4, 4]\n"
     ]
    }
   ],
   "source": [
    "# 2. 插入数据：extend\n",
    "# 把列表当元素添加\n",
    "help(list.extend)\n",
    "# L.extend(iterable) -> None -- extend list by appending elements from the iterable\n",
    "lt.extend ( [ 4 ] )\n",
    "print( lt )\n"
   ]
  },
  {
   "cell_type": "code",
   "execution_count": 72,
   "metadata": {},
   "outputs": [
    {
     "name": "stdout",
     "output_type": "stream",
     "text": [
      "Help on method_descriptor:\n",
      "\n",
      "insert(...)\n",
      "    L.insert(index, object) -- insert object before index\n",
      "\n",
      "[1, 2, 8, 3, 4, [4], 4, 4]\n"
     ]
    }
   ],
   "source": [
    "#插入数据：insert\n",
    "help ( list.insert )\n",
    "lt.insert(2, 8 )\n",
    "print( lt )\n"
   ]
  },
  {
   "cell_type": "code",
   "execution_count": 77,
   "metadata": {},
   "outputs": [
    {
     "name": "stdout",
     "output_type": "stream",
     "text": [
      "Help on wrapper_descriptor:\n",
      "\n",
      "__setitem__(self, key, value, /)\n",
      "    Set self[key] to value.\n",
      "\n",
      "[1, 8, 3]\n",
      "[8, [4, 5, 6]]\n",
      "[8, [8]]\n"
     ]
    }
   ],
   "source": [
    "# 2. 修改数据：索引修改\n",
    "help ( list.__setitem__ )\n",
    "ls = [ 1, 2, 3 ]\n",
    "ls [ 1 ] = 8\n",
    "print ( ls )\n",
    "\n",
    "als = [\n",
    "    [ 1, 2, 3 ],\n",
    "    [ 4, 5, 6]\n",
    "]\n",
    "als [ 0 ] = 8\n",
    "print ( als )\n",
    "\n",
    "als [ 1 ] = [ 8 ]\n",
    "print ( als )\n"
   ]
  },
  {
   "cell_type": "code",
   "execution_count": 79,
   "metadata": {},
   "outputs": [
    {
     "name": "stdout",
     "output_type": "stream",
     "text": [
      "[8, 9, 2, 3]\n"
     ]
    }
   ],
   "source": [
    "# 2. 修改数据：切片修改(先删除，再插入)\n",
    "ls = [ 1, 2, 3 ]\n",
    "ls [ 0 : 1 ] = [ 8, 9 ,7]\n",
    "print ( ls )"
   ]
  },
  {
   "cell_type": "code",
   "execution_count": null,
   "metadata": {},
   "outputs": [],
   "source": [
    "# 3. 删除数据：pop\n",
    "#删除位置2的元素，返回元素\n",
    "help(list.pop)\n",
    "#L.pop([index]) -> item -- remove and return item at index (default last).\n",
    "print(lt.pop(2))  #不带参数，默认-1\n",
    "print(lt)"
   ]
  },
  {
   "cell_type": "code",
   "execution_count": 80,
   "metadata": {},
   "outputs": [
    {
     "name": "stdout",
     "output_type": "stream",
     "text": [
      "Help on method_descriptor:\n",
      "\n",
      "clear(...)\n",
      "    L.clear() -> None -- remove all items from L\n",
      "\n"
     ]
    }
   ],
   "source": [
    "# 3. 删除数据：clear\n",
    "help ( list.clear )\n",
    "ls = [ 1, 2, 3 ]\n",
    "ls.clear()\n",
    "print(ls)"
   ]
  },
  {
   "cell_type": "code",
   "execution_count": 83,
   "metadata": {},
   "outputs": [
    {
     "name": "stdout",
     "output_type": "stream",
     "text": [
      "Help on method_descriptor:\n",
      "\n",
      "remove(...)\n",
      "    L.remove(value) -> None -- remove first occurrence of value.\n",
      "    Raises ValueError if the value is not present.\n",
      "\n",
      "[1, 3]\n"
     ]
    }
   ],
   "source": [
    "# 3. 删除数据：remove\n",
    "help ( list.remove )\n",
    "ls = [ 1, 2, 3 ]\n",
    "ls.remove ( 2 )\n",
    "print( ls )"
   ]
  },
  {
   "cell_type": "markdown",
   "metadata": {},
   "source": [
    "## 5.其他操作"
   ]
  },
  {
   "cell_type": "code",
   "execution_count": 87,
   "metadata": {},
   "outputs": [
    {
     "name": "stdout",
     "output_type": "stream",
     "text": [
      "Help on method_descriptor:\n",
      "\n",
      "sort(...)\n",
      "    L.sort(key=None, reverse=False) -> None -- stable sort *IN PLACE*\n",
      "\n",
      "None\n",
      "[1, 3, 4, 6]\n",
      "[6, 4, 3, 1]\n"
     ]
    }
   ],
   "source": [
    "# 1. 排序：sort\n",
    "help ( list.sort )\n",
    "print ( [ 1, 4, 6, 3 ].sort( ) ) #不会产生新的列表\n",
    "\n",
    "ls =  [ 1, 4, 6, 3 ]\n",
    "ls.sort ( )\n",
    "print ( ls )\n",
    "ls.sort ( reverse = True )\n",
    "print ( ls )"
   ]
  },
  {
   "cell_type": "code",
   "execution_count": 88,
   "metadata": {},
   "outputs": [
    {
     "name": "stdout",
     "output_type": "stream",
     "text": [
      "Help on method_descriptor:\n",
      "\n",
      "reverse(...)\n",
      "    L.reverse() -- reverse *IN PLACE*\n",
      "\n",
      "[3, 6, 4, 1]\n"
     ]
    }
   ],
   "source": [
    "# 2. 逆序：reverse\n",
    "help ( list.reverse )\n",
    "ls =  [ 1, 4, 6, 3 ]\n",
    "ls.reverse ( )\n",
    "print ( ls )\n"
   ]
  },
  {
   "cell_type": "code",
   "execution_count": 90,
   "metadata": {},
   "outputs": [
    {
     "name": "stdout",
     "output_type": "stream",
     "text": [
      "Help on method_descriptor:\n",
      "\n",
      "index(...)\n",
      "    L.index(value, [start, [stop]]) -> integer -- return first index of value.\n",
      "    Raises ValueError if the value is not present.\n",
      "\n",
      "1\n",
      "1\n",
      "[1, 4, 6, 3]\n"
     ]
    }
   ],
   "source": [
    "# 3. 返回索引：index\n",
    "help ( list.index )\n",
    "print ( [ 1, 4, 6, 3 ] . index ( 4 ) )"
   ]
  },
  {
   "cell_type": "code",
   "execution_count": 91,
   "metadata": {},
   "outputs": [
    {
     "name": "stdout",
     "output_type": "stream",
     "text": [
      "Help on method_descriptor:\n",
      "\n",
      "count(...)\n",
      "    L.count(value) -> integer -- return number of occurrences of value\n",
      "\n",
      "2\n"
     ]
    }
   ],
   "source": [
    "# 4. 元素计数\n",
    "help ( list.count )\n",
    "print ( [ 1, 4, 6, 3, 4 ] . count ( 4 ) )"
   ]
  },
  {
   "cell_type": "code",
   "execution_count": 98,
   "metadata": {},
   "outputs": [
    {
     "name": "stdout",
     "output_type": "stream",
     "text": [
      "48\n"
     ]
    },
    {
     "data": {
      "text/plain": [
       "72"
      ]
     },
     "execution_count": 98,
     "metadata": {},
     "output_type": "execute_result"
    }
   ],
   "source": [
    "# 5. 返回内存字节大小\n",
    "print( [ 1, 2 ] . __sizeof__ ( ) )     #列表数据内存大小 ( 指针管理 )\n",
    "\n",
    "import sys\n",
    "sys . getsizeof ( [1, 2 ] )   #列表对象的内存大小( 指针管理 )"
   ]
  },
  {
   "cell_type": "code",
   "execution_count": 99,
   "metadata": {},
   "outputs": [
    {
     "name": "stdout",
     "output_type": "stream",
     "text": [
      "Help on class list in module builtins:\n",
      "\n",
      "class list(object)\n",
      " |  list() -> new empty list\n",
      " |  list(iterable) -> new list initialized from iterable's items\n",
      " |  \n",
      " |  Methods defined here:\n",
      " |  \n",
      " |  __add__(self, value, /)\n",
      " |      Return self+value.\n",
      " |  \n",
      " |  __contains__(self, key, /)\n",
      " |      Return key in self.\n",
      " |  \n",
      " |  __delitem__(self, key, /)\n",
      " |      Delete self[key].\n",
      " |  \n",
      " |  __eq__(self, value, /)\n",
      " |      Return self==value.\n",
      " |  \n",
      " |  __ge__(self, value, /)\n",
      " |      Return self>=value.\n",
      " |  \n",
      " |  __getattribute__(self, name, /)\n",
      " |      Return getattr(self, name).\n",
      " |  \n",
      " |  __getitem__(...)\n",
      " |      x.__getitem__(y) <==> x[y]\n",
      " |  \n",
      " |  __gt__(self, value, /)\n",
      " |      Return self>value.\n",
      " |  \n",
      " |  __iadd__(self, value, /)\n",
      " |      Implement self+=value.\n",
      " |  \n",
      " |  __imul__(self, value, /)\n",
      " |      Implement self*=value.\n",
      " |  \n",
      " |  __init__(self, /, *args, **kwargs)\n",
      " |      Initialize self.  See help(type(self)) for accurate signature.\n",
      " |  \n",
      " |  __iter__(self, /)\n",
      " |      Implement iter(self).\n",
      " |  \n",
      " |  __le__(self, value, /)\n",
      " |      Return self<=value.\n",
      " |  \n",
      " |  __len__(self, /)\n",
      " |      Return len(self).\n",
      " |  \n",
      " |  __lt__(self, value, /)\n",
      " |      Return self<value.\n",
      " |  \n",
      " |  __mul__(self, value, /)\n",
      " |      Return self*value.\n",
      " |  \n",
      " |  __ne__(self, value, /)\n",
      " |      Return self!=value.\n",
      " |  \n",
      " |  __new__(*args, **kwargs) from builtins.type\n",
      " |      Create and return a new object.  See help(type) for accurate signature.\n",
      " |  \n",
      " |  __repr__(self, /)\n",
      " |      Return repr(self).\n",
      " |  \n",
      " |  __reversed__(...)\n",
      " |      L.__reversed__() -- return a reverse iterator over the list\n",
      " |  \n",
      " |  __rmul__(self, value, /)\n",
      " |      Return value*self.\n",
      " |  \n",
      " |  __setitem__(self, key, value, /)\n",
      " |      Set self[key] to value.\n",
      " |  \n",
      " |  __sizeof__(...)\n",
      " |      L.__sizeof__() -- size of L in memory, in bytes\n",
      " |  \n",
      " |  append(...)\n",
      " |      L.append(object) -> None -- append object to end\n",
      " |  \n",
      " |  clear(...)\n",
      " |      L.clear() -> None -- remove all items from L\n",
      " |  \n",
      " |  copy(...)\n",
      " |      L.copy() -> list -- a shallow copy of L\n",
      " |  \n",
      " |  count(...)\n",
      " |      L.count(value) -> integer -- return number of occurrences of value\n",
      " |  \n",
      " |  extend(...)\n",
      " |      L.extend(iterable) -> None -- extend list by appending elements from the iterable\n",
      " |  \n",
      " |  index(...)\n",
      " |      L.index(value, [start, [stop]]) -> integer -- return first index of value.\n",
      " |      Raises ValueError if the value is not present.\n",
      " |  \n",
      " |  insert(...)\n",
      " |      L.insert(index, object) -- insert object before index\n",
      " |  \n",
      " |  pop(...)\n",
      " |      L.pop([index]) -> item -- remove and return item at index (default last).\n",
      " |      Raises IndexError if list is empty or index is out of range.\n",
      " |  \n",
      " |  remove(...)\n",
      " |      L.remove(value) -> None -- remove first occurrence of value.\n",
      " |      Raises ValueError if the value is not present.\n",
      " |  \n",
      " |  reverse(...)\n",
      " |      L.reverse() -- reverse *IN PLACE*\n",
      " |  \n",
      " |  sort(...)\n",
      " |      L.sort(key=None, reverse=False) -> None -- stable sort *IN PLACE*\n",
      " |  \n",
      " |  ----------------------------------------------------------------------\n",
      " |  Data and other attributes defined here:\n",
      " |  \n",
      " |  __hash__ = None\n",
      "\n"
     ]
    }
   ],
   "source": [
    "#list的帮助参考\n",
    "help ( list )"
   ]
  }
 ],
 "metadata": {
  "kernelspec": {
   "display_name": "Python 3",
   "language": "python",
   "name": "python3"
  },
  "language_info": {
   "codemirror_mode": {
    "name": "ipython",
    "version": 3
   },
   "file_extension": ".py",
   "mimetype": "text/x-python",
   "name": "python",
   "nbconvert_exporter": "python",
   "pygments_lexer": "ipython3",
   "version": "3.6.6"
  }
 },
 "nbformat": 4,
 "nbformat_minor": 2
}
