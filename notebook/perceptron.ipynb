{
 "cells": [
  {
   "cell_type": "markdown",
   "metadata": {},
   "source": [
    "#### 感知器数学表示\n",
    "\n",
    "感知器的数学本质是一个函数（如果不考虑激活函数，这应该是一个线性函数）。输入特征数据 $\\vec{x}=(x_1，x_2，\\dots，x_n)$，经过感知器处理输出特征数据$y$。  \n",
    "\n"
   ]
  },
  {
   "cell_type": "markdown",
   "metadata": {},
   "source": [
    "感知器数学简单表示:  \n",
    "$y=f_{perceptron}(\\ \\vec{x}\\ )$   \n",
    "\n",
    "感知器数学细节表示:  \n",
    "$y=x_1\\omega_1+x_2\\omega_2+\\dots+x_n\\omega_n$   \n",
    "\n",
    "如果考虑激活函数:    \n",
    "$y=f_{activity}(x_1\\omega_1+x_2\\omega_2+\\dots+x_n\\omega_n)$   \n"
   ]
  },
  {
   "cell_type": "markdown",
   "metadata": {},
   "source": [
    "实际上不考虑激活函数的情况，其实是恒等激活函数：  "
   ]
  },
  {
   "cell_type": "markdown",
   "metadata": {},
   "source": [
    "\n",
    "$f(x)=x$"
   ]
  },
  {
   "cell_type": "markdown",
   "metadata": {},
   "source": [
    "#### 感知器训练："
   ]
  },
  {
   "cell_type": "markdown",
   "metadata": {},
   "source": [
    "$y=f_{activity}(x_1\\omega_1+x_2\\omega_2+\\dots+x_n\\omega_n)$ "
   ]
  },
  {
   "cell_type": "markdown",
   "metadata": {},
   "source": [
    "$\\omega_i\\quad i\\in\\{1，2，\\dots，n\\}$"
   ]
  },
  {
   "cell_type": "markdown",
   "metadata": {},
   "source": [
    "$\\vec{x}=(x_1，x_2，\\dots，x_n)$   \n",
    "\n",
    "$\\vec{\\omega}=(\\omega_1，\\omega_2，\\dots，\\omega_n)$"
   ]
  },
  {
   "cell_type": "markdown",
   "metadata": {},
   "source": [
    "#### 感知器函数的截距表示"
   ]
  },
  {
   "cell_type": "markdown",
   "metadata": {},
   "source": [
    "$y=f_{activity}(x_1\\omega_1+x_2\\omega_2+\\dots+x_{n-1}\\omega_{n-1}+\\omega_{b})$   \n",
    "\n",
    "其中$x_n=1，\\omega_{n}=\\omega_{b}$"
   ]
  },
  {
   "cell_type": "markdown",
   "metadata": {},
   "source": [
    "#### 期望误差函数"
   ]
  },
  {
   "cell_type": "markdown",
   "metadata": {},
   "source": [
    "$E=\\dfrac{1}{n} \\sum\\limits_{i=1}^n(y_i-\\bar{y}_i)^2$   \n",
    "其中n表示所有样本数。   \n",
    "$y_i$表示样本的实际输出值，$y_i'$表示样本得期望输出值"
   ]
  },
  {
   "cell_type": "markdown",
   "metadata": {},
   "source": [
    "#### 权重调整策略"
   ]
  },
  {
   "cell_type": "markdown",
   "metadata": {},
   "source": [
    "$$\\eta\\Delta\\text{  或者  }\\eta\\Delta{E}(\\omega)$$   \n",
    "\n",
    "$\\eta$：控制训练速度，由训练者设置；     \n",
    "$\\Delta$：控制训练方向，取损失函数的导数的值。   "
   ]
  },
  {
   "cell_type": "markdown",
   "metadata": {},
   "source": [
    "#### 损失函数的偏导数"
   ]
  },
  {
   "cell_type": "markdown",
   "metadata": {},
   "source": [
    "$$\\Delta{E}(\\omega)=\\frac{\\partial{E(\\omega)}}{\\partial{\\omega}}$$"
   ]
  },
  {
   "cell_type": "markdown",
   "metadata": {},
   "source": [
    "#### 感知器的运算过程表示"
   ]
  },
  {
   "cell_type": "markdown",
   "metadata": {},
   "source": [
    "$\\vec{x}\\to\\alpha\\to{f_{activation}(\\alpha)}=y$   \n",
    "\n",
    "\n",
    "记：   \n",
    "\n",
    "$\\vec x=(x_1，x_2，\\dots，x_n)$     \n",
    "\n",
    "$\\alpha=\\vec{\\omega}\\vec{x}^T+\\omega_b$     \n",
    "\n",
    "$\\ \\ =\\omega_1x_1+\\omega_2x_2+\\dots+\\omega_nx_n+\\omega_b$"
   ]
  },
  {
   "cell_type": "markdown",
   "metadata": {},
   "source": [
    "#### 随机误差损失函数"
   ]
  },
  {
   "cell_type": "markdown",
   "metadata": {},
   "source": [
    "$E=\\dfrac{1}{2} (y-\\overline{y})^2$   "
   ]
  },
  {
   "cell_type": "markdown",
   "metadata": {},
   "source": [
    "#### 梯度计算推导"
   ]
  },
  {
   "cell_type": "markdown",
   "metadata": {},
   "source": [
    "$\\Delta{E}(\\omega)=\\dfrac{\\partial{E(\\omega)}}{\\partial{\\omega}}$    \n",
    "\n",
    "$\\quad\\quad\\ \\ =\\dfrac{\\partial{E(\\omega)}}{\\partial{y}}\\ \\dfrac{\\partial{y}}{\\partial{\\omega}}$    \n",
    "\n",
    "$\\quad\\quad\\ \\ =\\dfrac{\\partial{E(\\omega)}}{\\partial{y}}\\ \\dfrac{\\partial{y}}{\\partial{\\alpha}}\\ \\dfrac{\\partial{\\alpha}}{\\partial{\\omega}}$    \n",
    "\n",
    "$\\quad\\quad\\ \\ =(y-\\bar{y})\\ f^\\prime(\\alpha)\\ x$"
   ]
  },
  {
   "cell_type": "markdown",
   "metadata": {},
   "source": [
    "#### 标量表示： "
   ]
  },
  {
   "cell_type": "markdown",
   "metadata": {},
   "source": [
    "$\\Delta{E}(\\omega_i)=(y-\\bar{y})\\ f^\\prime(\\alpha)\\ {x_i}$    \n",
    "\n",
    "表示第$i$个权重的梯度。"
   ]
  },
  {
   "cell_type": "markdown",
   "metadata": {},
   "source": [
    "#### 向量表示：      "
   ]
  },
  {
   "cell_type": "markdown",
   "metadata": {},
   "source": [
    "$\\Delta{E}(\\vec{\\omega})=(y-\\bar{y})\\ f^\\prime(\\alpha)\\ \\vec{x}$  "
   ]
  }
 ],
 "metadata": {
  "kernelspec": {
   "display_name": "Python 3",
   "language": "python",
   "name": "python3"
  },
  "language_info": {
   "codemirror_mode": {
    "name": "ipython",
    "version": 3
   },
   "file_extension": ".py",
   "mimetype": "text/x-python",
   "name": "python",
   "nbconvert_exporter": "python",
   "pygments_lexer": "ipython3",
   "version": "3.6.6"
  }
 },
 "nbformat": 4,
 "nbformat_minor": 2
}
