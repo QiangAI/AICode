{
 "cells": [
  {
   "cell_type": "markdown",
   "metadata": {},
   "source": [
    "$A_{k\\times m}B_{m\\times n}\\qquad \\text{第一个矩阵的列数必须等于第二个矩阵的行数}$     \n"
   ]
  },
  {
   "cell_type": "markdown",
   "metadata": {},
   "source": [
    "##### 内积显式表示\n",
    "$A_{k\\times m}\\cdot B_{m\\times n}\\qquad \\text{内积的显式表示}$    \n",
    "#####  Hadamard积表示\n",
    "$A_{m\\times n}\\ast B_{m\\times n}\\qquad \\text{哈达马积的显式表示}$    \n",
    "##### Kronecker积表示\n",
    "$A_{k\\times m}\\otimes B_{p\\times q}\\qquad \\text{克罗内克积的显式表示}$    "
   ]
  },
  {
   "cell_type": "markdown",
   "metadata": {},
   "source": [
    "$A_{k\\times m}\\cdot B_{m\\times n}=C_{k\\times n}$     \n",
    "\n",
    "\n",
    "矩阵$A_{k\\times m}$的元素表示为：}$a_{ij}\\qquad$(其中$i,j$表示$A$矩阵的行下标与列下标)    \n",
    "矩阵$B_{m\\times n}$的元素表示为：}$b_{ij}\\qquad$(其中$i,j$表示$B$矩阵的行下标与列下标)    \n",
    "\n",
    "其中矩阵$C$的元素计算如下：  \n",
    "$c_{ij}=\\sum\\limits_{p=1}^{m}a_{i\\times p}b_{p\\times j}$   \n",
    "\n",
    "$\\quad=a_{i1}b_{1j}+a_{i2}b_{2j}+\\dots+a_{im}b_{mj}$   "
   ]
  },
  {
   "cell_type": "markdown",
   "metadata": {},
   "source": [
    "##### Kronecker积的定义\n",
    "\n",
    "\n",
    "$A_{k\\times m}\\otimes B_{p\\times q}=\n",
    "\\begin{bmatrix}\n",
    "{a_{11}}B&{a_{12}}B&{\\cdots}&{a_{1m}}B\\\\\n",
    "{a_{21}}B&{a_{22}}B&{\\cdots}&{a_{2m}}B\\\\\n",
    "{\\vdots}&{\\vdots}&{\\ddots}&{\\vdots}\\\\\n",
    "{a_{k1}}B&{a_{k2}}B&{\\cdots}&{a_{km}}B\\\\\n",
    "\\end{bmatrix}\n",
    "$    "
   ]
  },
  {
   "cell_type": "code",
   "execution_count": null,
   "metadata": {},
   "outputs": [],
   "source": []
  }
 ],
 "metadata": {
  "kernelspec": {
   "display_name": "Python 3",
   "language": "python",
   "name": "python3"
  },
  "language_info": {
   "codemirror_mode": {
    "name": "ipython",
    "version": 3
   },
   "file_extension": ".py",
   "mimetype": "text/x-python",
   "name": "python",
   "nbconvert_exporter": "python",
   "pygments_lexer": "ipython3",
   "version": "3.6.6"
  }
 },
 "nbformat": 4,
 "nbformat_minor": 2
}
