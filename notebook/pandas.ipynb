{
 "cells": [
  {
   "cell_type": "markdown",
   "metadata": {},
   "source": [
    "# 一、CSV文件读取"
   ]
  },
  {
   "cell_type": "code",
   "execution_count": 175,
   "metadata": {},
   "outputs": [
    {
     "name": "stdout",
     "output_type": "stream",
     "text": [
      "   工作年限  学历            职位     职位ID\n",
      "0  3-5年  本科  Python 开发工程师  5219979\n",
      "1  3-5年  本科     Python工程师  4123246\n",
      "2  3-5年  本科     Python工程师  5283025\n",
      "3  1-3年  本科   python研发工程师  4671592\n",
      "<class 'pandas.core.frame.DataFrame'>\n",
      "---------------------\n",
      "<class 'pandas.core.frame.DataFrame'>\n",
      "RangeIndex: 4 entries, 0 to 3\n",
      "Data columns (total 4 columns):\n",
      "工作年限    4 non-null object\n",
      "学历      4 non-null object\n",
      "职位      4 non-null object\n",
      "职位ID    4 non-null int64\n",
      "dtypes: int64(1), object(3)\n",
      "memory usage: 208.0+ bytes\n",
      "None\n"
     ]
    }
   ],
   "source": [
    "import pandas as pd\n",
    "data = pd.read_csv('jobs.csv',usecols=[0, 1, 2, 3], nrows=4)\n",
    "print(data)\n",
    "print(type(data))\n",
    "print('---------------------')\n",
    "# 显示结构信息\n",
    "print(data.info())"
   ]
  },
  {
   "cell_type": "markdown",
   "metadata": {},
   "source": [
    "# 二、数据类型"
   ]
  },
  {
   "cell_type": "markdown",
   "metadata": {},
   "source": [
    "## 1. Series类型"
   ]
  },
  {
   "cell_type": "code",
   "execution_count": 10,
   "metadata": {},
   "outputs": [
    {
     "name": "stdout",
     "output_type": "stream",
     "text": [
      "数据1    1\n",
      "数据2    2\n",
      "数据3    3\n",
      "数据4    4\n",
      "dtype: int64\n"
     ]
    }
   ],
   "source": [
    "s1=pd.Series([1,2,3,4], index=['数据1','数据2','数据3','数据4'])\n",
    "print(s1)"
   ]
  },
  {
   "cell_type": "markdown",
   "metadata": {},
   "source": [
    "其中使用如下数据构造一个Pandas序列:    \n",
    "&emsp;&emsp;|-标量    \n",
    "&emsp;&emsp;|-列表    \n",
    "&emsp;&emsp;|-Python字典    \n",
    "&emsp;&emsp;|-ndarray数据     "
   ]
  },
  {
   "cell_type": "code",
   "execution_count": 12,
   "metadata": {},
   "outputs": [
    {
     "name": "stdout",
     "output_type": "stream",
     "text": [
      "0    3\n",
      "dtype: int64\n",
      "0    1\n",
      "1    2\n",
      "2    3\n",
      "dtype: int64\n",
      "a    1\n",
      "b    2\n",
      "c    3\n",
      "d    4\n",
      "dtype: int64\n",
      "0    0.060300\n",
      "1    0.704810\n",
      "2    0.318916\n",
      "dtype: float64\n"
     ]
    }
   ],
   "source": [
    "print( pd.Series( 3 ) )\n",
    "print( pd.Series( [1,2,3] ) )\n",
    "print( pd.Series( {\n",
    "    'a': 1,\n",
    "    'b': 2,\n",
    "    'c': 3,\n",
    "    'd': 4\n",
    "} ) )\n",
    "import numpy as np\n",
    "print( pd.Series( np.random.random( 3 ) ) )"
   ]
  },
  {
   "cell_type": "markdown",
   "metadata": {},
   "source": [
    "## 2. DataFrame类型"
   ]
  },
  {
   "cell_type": "markdown",
   "metadata": {},
   "source": [
    "DataFrame是二维标签化数据结构，与SQL表一样，或者就是Series对象字典，DataFrame可以接受如下数据输入：      \n",
    "&emsp;&emsp;|-一维的ndarrays，列表，Series对象数据构成的字典       \n",
    "&emsp;&emsp;|-二维ndarray对象      \n",
    "&emsp;&emsp;|-结构化或者纪录化的ndarray     \n",
    "&emsp;&emsp;|-Series对象      \n",
    "&emsp;&emsp;|-其他DataFrame对象      "
   ]
  },
  {
   "cell_type": "markdown",
   "metadata": {},
   "source": [
    "### 2.1. 字典构成"
   ]
  },
  {
   "cell_type": "code",
   "execution_count": 19,
   "metadata": {},
   "outputs": [
    {
     "name": "stdout",
     "output_type": "stream",
     "text": [
      "   列1 列2\n",
      "0   1  A\n",
      "1   2  B\n",
      "2   3  C\n",
      "3   4  D\n"
     ]
    }
   ],
   "source": [
    "# 列表构成的字典 ( 列表需要一样长 )\n",
    "df1=pd.DataFrame(\n",
    "    {\n",
    "        '列1': [1, 2, 3,4],\n",
    "        '列2': ['A', 'B', 'C', 'D']\n",
    "    })\n",
    "print(df1)"
   ]
  },
  {
   "cell_type": "code",
   "execution_count": 22,
   "metadata": {},
   "outputs": [
    {
     "name": "stdout",
     "output_type": "stream",
     "text": [
      "   列1 列2\n",
      "0   1  A\n",
      "1   2  B\n",
      "2   3  C\n",
      "3   4  D\n"
     ]
    }
   ],
   "source": [
    "# ndarray构成的字典(ndarray需要一样长)\n",
    "df2=pd.DataFrame(\n",
    "    {\n",
    "        '列1':np.array( [1, 2, 3, 4]),\n",
    "        '列2': np.array( ['A', 'B', 'C', 'D'] )\n",
    "    } )\n",
    "print(df2)"
   ]
  },
  {
   "cell_type": "code",
   "execution_count": 33,
   "metadata": {},
   "outputs": [
    {
     "name": "stdout",
     "output_type": "stream",
     "text": [
      "     列1   列2\n",
      "x1  1.0  NaN\n",
      "x2  2.0    B\n",
      "x3  3.0    C\n",
      "y1  NaN    A\n",
      "y4  NaN    D\n"
     ]
    }
   ],
   "source": [
    "# Series构成的字典(Series的长度与index不一致，会自动作为新行出现，空的值成为NaN)\n",
    "df3=pd.DataFrame(\n",
    "    {\n",
    "        '列1':pd.Series([1, 2, 3], index=['x1','x2', 'x3']),\n",
    "        '列2': pd.Series( ['A', 'B', 'C', 'D'], index=['y1','x2', 'x3', 'y4'])\n",
    "    } )\n",
    "\n",
    "print(df3)\n"
   ]
  },
  {
   "cell_type": "code",
   "execution_count": 42,
   "metadata": {},
   "outputs": [
    {
     "name": "stdout",
     "output_type": "stream",
     "text": [
      "    列1   列2\n",
      "a    x    x\n",
      "b    y    y\n",
      "c    z  NaN\n",
      "d  NaN    z\n"
     ]
    }
   ],
   "source": [
    "# 字典构成的字典\n",
    "df4=pd.DataFrame(\n",
    "    {\n",
    "        '列1': {\n",
    "            'a': 'x',\n",
    "            'b': 'y',\n",
    "            'c': 'z' },\n",
    "        '列2': {\n",
    "            'a':'x',\n",
    "            'b':'y',\n",
    "            'd':'z'}\n",
    "    } )\n",
    "\n",
    "print(df4)"
   ]
  },
  {
   "cell_type": "markdown",
   "metadata": {},
   "source": [
    "### 2.2 使用colums,index控制列与索引"
   ]
  },
  {
   "cell_type": "code",
   "execution_count": 43,
   "metadata": {},
   "outputs": [
    {
     "name": "stdout",
     "output_type": "stream",
     "text": [
      "   列1   列3 列2\n",
      "1   1  NaN  A\n",
      "2   2  NaN  B\n",
      "3   3  NaN  C\n",
      "4   4  NaN  D\n"
     ]
    }
   ],
   "source": [
    "df4=pd.DataFrame(\n",
    "    {\n",
    "        '列1': [1, 2, 3,4],\n",
    "        '列2': ['A', 'B', 'C', 'D']\n",
    "    },\n",
    "    index=[1,2,3,4],      \n",
    "    columns=['列1','列3','列2']     #控制显示的列，如果列不存在，则添加空列\n",
    ")\n",
    "print(df4)"
   ]
  },
  {
   "cell_type": "markdown",
   "metadata": {},
   "source": [
    "### 2.3. 二维数组构成\n",
    "&emsp;&emsp;nadarray与python的二维数组是无缝使用，下面使用Python的二维数组说明："
   ]
  },
  {
   "cell_type": "code",
   "execution_count": 44,
   "metadata": {},
   "outputs": [
    {
     "name": "stdout",
     "output_type": "stream",
     "text": [
      "   0  1  2  3\n",
      "0  1  2  3  4\n",
      "1  5  6  7  8\n"
     ]
    }
   ],
   "source": [
    "# 使用2维数组生成DataFrame(索引与列名自动生成)\n",
    "df5=pd.DataFrame(\n",
    "    [\n",
    "        [1, 2, 3, 4],\n",
    "        [5, 6, 7, 8]\n",
    "    ]\n",
    ")\n",
    "\n",
    "print(df5)"
   ]
  },
  {
   "cell_type": "code",
   "execution_count": 48,
   "metadata": {},
   "outputs": [
    {
     "name": "stdout",
     "output_type": "stream",
     "text": [
      "   A  B  C  D\n",
      "x  1  2  3  4\n",
      "y  5  6  7  8\n"
     ]
    }
   ],
   "source": [
    "# 使用2维数组生成DataFrame(使用index,colums来生成索引与列名)\n",
    "df6=pd.DataFrame(\n",
    "    [\n",
    "        [1, 2, 3, 4],\n",
    "        [5, 6, 7, 8]\n",
    "    ],\n",
    "    index=['x','y'],\n",
    "    columns=['A','B','C','D']\n",
    ")\n",
    "\n",
    "print(df6)"
   ]
  },
  {
   "cell_type": "markdown",
   "metadata": {},
   "source": [
    "### 2.4. 使用结构化二维ndarray"
   ]
  },
  {
   "cell_type": "code",
   "execution_count": 58,
   "metadata": {},
   "outputs": [
    {
     "name": "stdout",
     "output_type": "stream",
     "text": [
      "   A    B      C\n",
      "0  1  2.2  Hello\n",
      "1  2  3.2      喂\n"
     ]
    }
   ],
   "source": [
    "# 创建一个结构化ndarray\n",
    "data = np.zeros(\n",
    "    (2,),               # 两条纪录\n",
    "    dtype=[ \n",
    "        ('A',  np.int32 ), \n",
    "        ('B', np.float),  \n",
    "        ('C', 'U10')])\n",
    "data[:] = [(1, 2.2, 'Hello'), (2,3.2, \"喂\")]\n",
    "df7=pd.DataFrame(data)\n",
    "print(df7)\n",
    "\n",
    "# 关于numpy中数据类型，可以参考官方文档。\n",
    "# 有的数据类型无法正确表达，可以采用字符串方式。\n",
    "# 比如字符串在string_或者bytes_都没有指定长度的方式，可以使用'S10','a10','U10'。\n",
    "# 'U10'表示的是Unicode码字符串。"
   ]
  },
  {
   "cell_type": "code",
   "execution_count": 61,
   "metadata": {},
   "outputs": [
    {
     "name": "stdout",
     "output_type": "stream",
     "text": [
      "          C  A    B\n",
      "ID01  Hello  1  2.2\n",
      "ID02      喂  2  3.2\n"
     ]
    }
   ],
   "source": [
    "# 指定索引，与控制列\n",
    "df8=pd.DataFrame(data,index=['ID01','ID02'], columns=['C','A','B'])\n",
    "print(df8)\n"
   ]
  },
  {
   "cell_type": "markdown",
   "metadata": {},
   "source": [
    "# 三、数据元素操作"
   ]
  },
  {
   "cell_type": "markdown",
   "metadata": {},
   "source": [
    "## 1. DataFrame形状与行列操作\n",
    "\n",
    ">&emsp;&emsp; 元素操作的几种方式：    \n",
    ">&emsp;&emsp;&emsp;&emsp;|-选择列：\tdf\\[col\\]\t返回：Series    \n",
    ">&emsp;&emsp;&emsp;&emsp;|-使用标签选择行：\tdf.loc\\[label\\]\t 返回：Series    \n",
    ">&emsp;&emsp;&emsp;&emsp;|-使用整数选择行：  df.iloc\\[loc\\]\t返回：Series    \n",
    ">&emsp;&emsp;&emsp;&emsp;|-使用切片选择行：  df\\[5:10\\]\t返回：DataFrame    \n",
    ">&emsp;&emsp;&emsp;&emsp;|-使用boolean向量选择行：df\\[bool_vec\\]\t返回：DataFrame    \n"
   ]
  },
  {
   "cell_type": "code",
   "execution_count": null,
   "metadata": {},
   "outputs": [],
   "source": [
    "data = pd.read_csv('jobs.csv',usecols=[0, 1, 2, 3], nrows=4)"
   ]
  },
  {
   "cell_type": "markdown",
   "metadata": {},
   "source": [
    "### 1.1 形状"
   ]
  },
  {
   "cell_type": "code",
   "execution_count": 75,
   "metadata": {},
   "outputs": [
    {
     "name": "stdout",
     "output_type": "stream",
     "text": [
      "(4, 4)\n"
     ]
    }
   ],
   "source": [
    "print (data.shape)"
   ]
  },
  {
   "cell_type": "markdown",
   "metadata": {},
   "source": [
    "### 1.2. 选择行"
   ]
  },
  {
   "cell_type": "code",
   "execution_count": 172,
   "metadata": {},
   "outputs": [
    {
     "name": "stdout",
     "output_type": "stream",
     "text": [
      "工作年限            3-5年\n",
      "学历                本科\n",
      "职位      Python 开发工程师\n",
      "职位ID         5219979\n",
      "Name: 0, dtype: object\n",
      "----------------\n",
      "   工作年限\n",
      "0  3-5年\n",
      "----------------\n",
      "工作年限            3-5年\n",
      "学历                本科\n",
      "职位      Python 开发工程师\n",
      "职位ID         5219979\n",
      "Name: 0, dtype: object\n",
      "----------------\n",
      "   工作年限  学历            职位     职位ID\n",
      "0  3-5年  本科  Python 开发工程师  5219979\n",
      "2  3-5年  本科     Python工程师  5283025\n",
      "----------------\n",
      "   工作年限  学历            职位     职位ID\n",
      "0  3-5年  本科  Python 开发工程师  5219979\n",
      "<class 'pandas.core.frame.DataFrame'>\n"
     ]
    }
   ],
   "source": [
    "# 使用整数选择行\n",
    "print( data.iloc[ 0 ] )      #注意不是使用的函数形式，是下标\n",
    "print(\"----------------\")\n",
    "print( data.iloc[0:1,0:1 ] ) \n",
    "print(\"----------------\")\n",
    "print( data.loc[ 0 ] )       #默认的标签是整数\n",
    "print(\"----------------\")   \n",
    "print( data[ [True,False,True,False] ] )    # 逻辑向量下标长度必须与行数一直       \n",
    "print(\"----------------\")   \n",
    "# 使用切片选择行\n",
    "print (data[0:1])\n",
    "# 切片返回的还是是DataFrame对象\n",
    "print (type(data[0:1]))\n",
    "\n"
   ]
  },
  {
   "cell_type": "markdown",
   "metadata": {},
   "source": [
    "### 1.3. 选择列 "
   ]
  },
  {
   "cell_type": "code",
   "execution_count": 87,
   "metadata": {},
   "outputs": [
    {
     "name": "stdout",
     "output_type": "stream",
     "text": [
      "0    3-5年\n",
      "1    3-5年\n",
      "2    3-5年\n",
      "3    1-3年\n",
      "Name: 工作年限, dtype: object\n",
      "<class 'pandas.core.series.Series'>\n",
      "3-5年 <class 'str'>\n",
      "3-5年 <class 'str'>\n",
      "3-5年 <class 'str'>\n",
      "1-3年 <class 'str'>\n",
      "3-5年\n"
     ]
    }
   ],
   "source": [
    "# 使用字典方式选择列\n",
    "print ( data['工作年限'] )\n",
    "\n",
    "# 列返回的是Series对象\n",
    "print(type( data['工作年限'] ) )\n",
    "\n",
    "# 可以使用Series的方式访问列的数据\n",
    "for item in data['工作年限'] :\n",
    "    print(item,type(item))\n",
    "\n",
    "# 使用列表方式访问\n",
    "print( data['工作年限'][0] )"
   ]
  },
  {
   "cell_type": "markdown",
   "metadata": {},
   "source": [
    "### 1.4. 添加新的列"
   ]
  },
  {
   "cell_type": "code",
   "execution_count": 202,
   "metadata": {},
   "outputs": [
    {
     "name": "stdout",
     "output_type": "stream",
     "text": [
      "Empty DataFrame\n",
      "Columns: []\n",
      "Index: []\n"
     ]
    }
   ],
   "source": [
    "# 创建空的DataFrame\n",
    "ff=pd.DataFrame([], index=[], columns=[])\n",
    "print(ff)"
   ]
  },
  {
   "cell_type": "code",
   "execution_count": 203,
   "metadata": {},
   "outputs": [
    {
     "name": "stdout",
     "output_type": "stream",
     "text": [
      "   C\n",
      "0  1\n",
      "1  2\n",
      "2  3\n"
     ]
    }
   ],
   "source": [
    "# 添加新的列\n",
    "ff['C']=[1,2,3]\n",
    "print(ff)"
   ]
  },
  {
   "cell_type": "markdown",
   "metadata": {},
   "source": [
    "### 1.5. 添加新的行"
   ]
  },
  {
   "cell_type": "code",
   "execution_count": 208,
   "metadata": {},
   "outputs": [
    {
     "name": "stdout",
     "output_type": "stream",
     "text": [
      "   C\n",
      "0  1\n",
      "1  2\n",
      "2  3\n",
      "5  5\n"
     ]
    }
   ],
   "source": [
    "ff.loc[5]=5\n",
    "print(ff)"
   ]
  },
  {
   "cell_type": "markdown",
   "metadata": {},
   "source": [
    "### 1.6. 删除行列"
   ]
  },
  {
   "cell_type": "code",
   "execution_count": 209,
   "metadata": {},
   "outputs": [
    {
     "name": "stdout",
     "output_type": "stream",
     "text": [
      "   C\n",
      "0  1\n",
      "1  2\n",
      "2  3\n"
     ]
    }
   ],
   "source": [
    "# 删除行，默认是行（原数据部影响）\n",
    "ff=ff.drop([5])\n",
    "print(ff)"
   ]
  },
  {
   "cell_type": "code",
   "execution_count": 210,
   "metadata": {},
   "outputs": [
    {
     "name": "stdout",
     "output_type": "stream",
     "text": [
      "Empty DataFrame\n",
      "Columns: []\n",
      "Index: [0, 1, 2]\n"
     ]
    }
   ],
   "source": [
    "# 删除列，指定axis参数为1表示列。\n",
    "ff=ff.drop(['C'],axis=1)\n",
    "print(ff)"
   ]
  },
  {
   "cell_type": "markdown",
   "metadata": {},
   "source": [
    "## 2. 转置操作"
   ]
  },
  {
   "cell_type": "code",
   "execution_count": 102,
   "metadata": {},
   "outputs": [
    {
     "name": "stdout",
     "output_type": "stream",
     "text": [
      "                 0          1          2            3\n",
      "工作年限          3-5年       3-5年       3-5年         1-3年\n",
      "学历              本科         本科         本科           本科\n",
      "职位    Python 开发工程师  Python工程师  Python工程师  python研发工程师\n",
      "职位ID       5219979    4123246    5283025      4671592\n"
     ]
    }
   ],
   "source": [
    "print(data.T)"
   ]
  },
  {
   "cell_type": "markdown",
   "metadata": {},
   "source": [
    "## 3. 与Numpy的无缝连接操作"
   ]
  },
  {
   "cell_type": "markdown",
   "metadata": {},
   "source": [
    "&emsp;&emsp;DataFrame完全可以当成ndarray在Numpy中使用；    \n",
    "&emsp;&emsp;首先准备两个矩阵与向量"
   ]
  },
  {
   "cell_type": "code",
   "execution_count": 145,
   "metadata": {},
   "outputs": [
    {
     "name": "stdout",
     "output_type": "stream",
     "text": [
      "数据1    1\n",
      "数据2    2\n",
      "数据3    3\n",
      "dtype: int64\n",
      "----------------\n",
      "   列1  列2  列3\n",
      "1   1   2   3\n",
      "2   4   5   6\n",
      "----------------\n",
      "   列4  列5\n",
      "3   1   2\n",
      "4   4   5\n",
      "6   8   9\n"
     ]
    }
   ],
   "source": [
    "import numpy as np\n",
    "v1=pd.Series( [1,2,3], index=['数据1','数据2','数据3'])\n",
    "print(v1)\n",
    "print(\"----------------\")\n",
    "\n",
    "m1 = pd.DataFrame(\n",
    "    [\n",
    "        [1, 2, 3],\n",
    "        [4, 5, 6],\n",
    "    ],\n",
    "    index=[1 , 2],\n",
    "    columns=['列1','列2','列3']\n",
    ")\n",
    "\n",
    "print(m1)\n",
    "print(\"----------------\")\n",
    "m2 = pd.DataFrame(\n",
    "    [\n",
    "        [1, 2],\n",
    "        [4, 5],\n",
    "        [8, 9]\n",
    "    ] ,\n",
    "    index=[3 , 4, 6 ],\n",
    "    columns=['列4','列5']\n",
    ")\n",
    "print(m2)"
   ]
  },
  {
   "cell_type": "markdown",
   "metadata": {},
   "source": [
    "### 3.1. 数据操作运算"
   ]
  },
  {
   "cell_type": "code",
   "execution_count": 201,
   "metadata": {},
   "outputs": [
    {
     "name": "stdout",
     "output_type": "stream",
     "text": [
      "   列1  列2  列3\n",
      "1   1   2   3\n",
      "2   4   5   6\n",
      "    1  2\n",
      "列1  1  4\n",
      "列2  2  5\n",
      "列3  3  6 <class 'pandas.core.frame.DataFrame'>\n",
      "[[1 4]\n",
      " [2 5]\n",
      " [3 6]]\n",
      "    1  2\n",
      "列1  1  4\n",
      "列2  2  5\n",
      "列3  3  6\n",
      "    1  2\n",
      "列1  1  4\n",
      "列2  2  5\n",
      "列3  3  6\n"
     ]
    }
   ],
   "source": [
    "# 转置操作 (指定维度转换就有问题)\n",
    "mr=np.transpose(m1)\n",
    "# 操作不改变m1本身，直接返回结果\n",
    "print(m1)\n",
    "# 返回的结果还是DataFrame。\n",
    "print(mr,type(mr))\n",
    "\n",
    "#这是ndarray类型的转置\n",
    "mm=np.array([\n",
    "        [1, 2, 3],\n",
    "        [4, 5, 6],\n",
    "    ])\n",
    "print(np.transpose(mm,(1,0)))\n",
    "\n",
    "print(m1.T)\n",
    "print(m1.transpose())\n",
    "# pandas中支持转置的axes参数：he 'axes' parameter is not supported in the pandas implementation of transpose() \n",
    "# print(m1.transpose((1,0)))"
   ]
  },
  {
   "cell_type": "code",
   "execution_count": 116,
   "metadata": {},
   "outputs": [
    {
     "name": "stdout",
     "output_type": "stream",
     "text": [
      "[[1 2 3]\n",
      " [4 5 6]]\n",
      "<class 'numpy.ndarray'>\n"
     ]
    }
   ],
   "source": [
    "# 类型转换操作\n",
    "vr=np.asarray( m1)\n",
    "print(vr)\n",
    "\n",
    "#类型转换成了ndarray\n",
    "print(type(vr) )\n"
   ]
  },
  {
   "cell_type": "code",
   "execution_count": 129,
   "metadata": {},
   "outputs": [],
   "source": [
    "# ndarray的成员函数不能在DataFrame中使用\n",
    "#print( m1.sort() )"
   ]
  },
  {
   "cell_type": "markdown",
   "metadata": {},
   "source": [
    "### 3.2. 代数运算"
   ]
  },
  {
   "cell_type": "code",
   "execution_count": 139,
   "metadata": {},
   "outputs": [
    {
     "name": "stdout",
     "output_type": "stream",
     "text": [
      "   列1  列2  列3  列4  列5\n",
      "1 NaN NaN NaN NaN NaN\n",
      "2 NaN NaN NaN NaN NaN\n",
      "3 NaN NaN NaN NaN NaN\n",
      "4 NaN NaN NaN NaN NaN\n",
      "6 NaN NaN NaN NaN NaN\n",
      "   列1  列2  列3\n",
      "1   2   4   6\n",
      "2   8  10  12\n",
      "   列1  列2  列3\n",
      "1   1   4   9\n",
      "2  16  25  36\n",
      "   列1  列2  列3\n",
      "1   1   4   9\n",
      "2  16  25  36\n"
     ]
    }
   ],
   "source": [
    "# 基本代数运算\n",
    "# DataFrame没有重载@运算\n",
    "#r=m1@m2\n",
    "\n",
    "# * 只能同型矩阵相乘\n",
    "r=m1 * m2\n",
    "print(r)\n",
    "r=m1 * m1\n",
    "print(r)\n",
    "\n",
    "# 标量乘法\n",
    "r=m1 * 2\n",
    "print(r)\n",
    "\n",
    "# 指数乘法\n",
    "r=m1 ** 2\n",
    "print(r)\n",
    "\n"
   ]
  },
  {
   "cell_type": "code",
   "execution_count": 130,
   "metadata": {},
   "outputs": [
    {
     "name": "stdout",
     "output_type": "stream",
     "text": [
      "[[33 39]\n",
      " [72 87]]\n"
     ]
    }
   ],
   "source": [
    "# 乘积运算\n",
    "r=np.dot(m1,m2)\n",
    "print(r)"
   ]
  },
  {
   "cell_type": "code",
   "execution_count": 132,
   "metadata": {},
   "outputs": [
    {
     "name": "stdout",
     "output_type": "stream",
     "text": [
      "[14 32]\n"
     ]
    }
   ],
   "source": [
    "# 矩阵与向量\n",
    "r=np.dot(m1,v1)\n",
    "print(r)"
   ]
  },
  {
   "cell_type": "code",
   "execution_count": 134,
   "metadata": {},
   "outputs": [
    {
     "name": "stdout",
     "output_type": "stream",
     "text": [
      "[[ 1  2  3  2  4  6  3  6  9]\n",
      " [ 4  8 12  5 10 15  6 12 18]]\n"
     ]
    }
   ],
   "source": [
    "# Kron积\n",
    "r=np.kron(m1,v1)\n",
    "print(r)"
   ]
  },
  {
   "cell_type": "code",
   "execution_count": 154,
   "metadata": {},
   "outputs": [
    {
     "name": "stdout",
     "output_type": "stream",
     "text": [
      "9.539392014169456\n",
      "0.0\n",
      "2\n"
     ]
    }
   ],
   "source": [
    "# 范数\n",
    "import numpy.linalg as nl\n",
    "r=nl.norm(m1)\n",
    "print(r)\n",
    "\n",
    "\n",
    "# 行列式（必须是方阵）\n",
    "m3 = pd.DataFrame(\n",
    "    [\n",
    "        [1, 0, 1],\n",
    "        [0, 2, 0],\n",
    "        [0, 0, 0],\n",
    "    ]\n",
    ")\n",
    "\n",
    "r=nl.det(m3)\n",
    "print(r)\n",
    "\n",
    "#计算矩阵的秩\n",
    "r=nl.matrix_rank(m3)\n",
    "print(r)"
   ]
  },
  {
   "cell_type": "markdown",
   "metadata": {},
   "source": [
    "### 3.3. 数学运算"
   ]
  },
  {
   "cell_type": "code",
   "execution_count": 155,
   "metadata": {},
   "outputs": [
    {
     "name": "stdout",
     "output_type": "stream",
     "text": [
      "         列1        列2        列3\n",
      "1  0.841471  0.909297  0.141120\n",
      "2 -0.756802 -0.958924 -0.279415\n"
     ]
    }
   ],
   "source": [
    "# 三角函数\n",
    "r=np.sin(m1)\n",
    "print(r)"
   ]
  },
  {
   "cell_type": "markdown",
   "metadata": {},
   "source": [
    "### 3.4. 统计运算"
   ]
  },
  {
   "cell_type": "code",
   "execution_count": 157,
   "metadata": {},
   "outputs": [
    {
     "name": "stdout",
     "output_type": "stream",
     "text": [
      "   列1  列2  列3\n",
      "1   1   2   3\n",
      "2   4   5   6\n",
      "3.5\n"
     ]
    }
   ],
   "source": [
    "# 中值（排序后中间那个值，如果数组长度为偶数，这是中间两个的平均值）\n",
    "print(m1)\n",
    "r=np.median(m1)\n",
    "print(r)"
   ]
  },
  {
   "cell_type": "code",
   "execution_count": 168,
   "metadata": {},
   "outputs": [
    {
     "name": "stdout",
     "output_type": "stream",
     "text": [
      "列1    2.5\n",
      "列2    3.5\n",
      "列3    4.5\n",
      "dtype: float64\n",
      "[2.5 3.5 4.5]\n",
      "3.5\n"
     ]
    }
   ],
   "source": [
    "# 均值\n",
    "r=np.mean(m1)\n",
    "print(r)\n",
    "mm=np.array([\n",
    "        [1, 2, 3],\n",
    "        [4, 5, 6],\n",
    "    ])\n",
    "r=np.mean(mm,axis=(0))\n",
    "print(r)\n",
    "r=np.median(mm)\n",
    "print(r)"
   ]
  },
  {
   "cell_type": "markdown",
   "metadata": {},
   "source": [
    "# 四、DEMO"
   ]
  },
  {
   "cell_type": "code",
   "execution_count": 253,
   "metadata": {},
   "outputs": [
    {
     "name": "stdout",
     "output_type": "stream",
     "text": [
      "     工作年限  学历            职位     职位ID       薪水  城市                 发布时间\n",
      "0    3-5年  本科  Python 开发工程师  5219979  15k-25k  杭州  2018-11-15 09:50:23\n",
      "1    3-5年  本科     Python工程师  4123246  18k-35k  上海  2018-11-15 09:49:33\n",
      "2    3-5年  本科     Python工程师  5283025  15k-30k  成都  2018-11-15 10:05:33\n",
      "3    1-3年  本科   python研发工程师  4671592  15k-30k  杭州  2018-11-14 13:53:29\n",
      "4    3-5年  本科   Python开发工程师  4879656  18k-36k  北京  2018-11-14 21:39:45\n",
      "5    3-5年  本科   Python开发工程师  5267750  15k-25k  上海  2018-11-14 14:50:01\n",
      "6    3-5年  本科     Python工程师  3234474  15k-30k  杭州  2018-11-14 10:40:50\n",
      "7    1-3年  本科     Python工程师  5056370  15k-30k  上海  2018-11-12 16:09:34\n",
      "8   5-10年  本科   python开发工程师  5253263  25k-40k  上海  2018-11-15 09:59:33\n",
      "9    3-5年  本科      python开发  5212936  15k-30k  苏州  2018-11-14 14:50:13\n",
      "10   1-3年  本科   Python开发工程师  5151694   8k-12k  苏州  2018-11-14 11:34:33\n",
      "11   1-3年  本科      python开发  5304756    5k-7k  上海  2018-11-14 09:49:22\n",
      "12   3-5年  本科   Python研发工程师  5276211  17k-24k  北京  2018-11-14 15:38:16\n",
      "13     不限  本科     Python工程师  5187936  13k-25k  杭州  2018-11-12 18:24:49\n",
      "14   3-5年  本科      python开发  5226606  10k-18k  北京  2018-11-14 10:15:59\n",
      "15   1-3年  本科   python开发工程师  4708616  15k-25k  北京  2018-11-13 10:35:03\n",
      "16   3-5年  大专   python开发工程师  5244706  15k-20k  广州  2018-11-15 09:56:36\n",
      "17   3-5年  本科     Python开发师  4042527  15k-30k  上海  2018-11-14 17:46:52\n",
      "18   1-3年  本科   Python研发工程师  5201456  15k-25k  北京  2018-11-14 17:15:37\n",
      "19   3-5年  本科   PYTHON开发工程师  5287796    3k-5k  成都  2018-11-10 10:12:15\n"
     ]
    }
   ],
   "source": [
    "data = pd.read_csv('jobs.csv', nrows=20)\n",
    "print(data)"
   ]
  },
  {
   "cell_type": "code",
   "execution_count": 254,
   "metadata": {},
   "outputs": [
    {
     "name": "stdout",
     "output_type": "stream",
     "text": [
      "0     15k-25k\n",
      "1     18k-35k\n",
      "2     15k-30k\n",
      "3     15k-30k\n",
      "4     18k-36k\n",
      "5     15k-25k\n",
      "6     15k-30k\n",
      "7     15k-30k\n",
      "8     25k-40k\n",
      "9     15k-30k\n",
      "10     8k-12k\n",
      "11      5k-7k\n",
      "12    17k-24k\n",
      "13    13k-25k\n",
      "14    10k-18k\n",
      "15    15k-25k\n",
      "16    15k-20k\n",
      "17    15k-30k\n",
      "18    15k-25k\n",
      "19      3k-5k\n",
      "Name: 薪水, dtype: object\n"
     ]
    }
   ],
   "source": [
    "salary=data['薪水']\n",
    "print(salary)"
   ]
  },
  {
   "cell_type": "code",
   "execution_count": 255,
   "metadata": {},
   "outputs": [
    {
     "name": "stdout",
     "output_type": "stream",
     "text": [
      "     工作年限  学历            职位     职位ID  城市                 发布时间\n",
      "0    3-5年  本科  Python 开发工程师  5219979  杭州  2018-11-15 09:50:23\n",
      "1    3-5年  本科     Python工程师  4123246  上海  2018-11-15 09:49:33\n",
      "2    3-5年  本科     Python工程师  5283025  成都  2018-11-15 10:05:33\n",
      "3    1-3年  本科   python研发工程师  4671592  杭州  2018-11-14 13:53:29\n",
      "4    3-5年  本科   Python开发工程师  4879656  北京  2018-11-14 21:39:45\n",
      "5    3-5年  本科   Python开发工程师  5267750  上海  2018-11-14 14:50:01\n",
      "6    3-5年  本科     Python工程师  3234474  杭州  2018-11-14 10:40:50\n",
      "7    1-3年  本科     Python工程师  5056370  上海  2018-11-12 16:09:34\n",
      "8   5-10年  本科   python开发工程师  5253263  上海  2018-11-15 09:59:33\n",
      "9    3-5年  本科      python开发  5212936  苏州  2018-11-14 14:50:13\n",
      "10   1-3年  本科   Python开发工程师  5151694  苏州  2018-11-14 11:34:33\n",
      "11   1-3年  本科      python开发  5304756  上海  2018-11-14 09:49:22\n",
      "12   3-5年  本科   Python研发工程师  5276211  北京  2018-11-14 15:38:16\n",
      "13     不限  本科     Python工程师  5187936  杭州  2018-11-12 18:24:49\n",
      "14   3-5年  本科      python开发  5226606  北京  2018-11-14 10:15:59\n",
      "15   1-3年  本科   python开发工程师  4708616  北京  2018-11-13 10:35:03\n",
      "16   3-5年  大专   python开发工程师  5244706  广州  2018-11-15 09:56:36\n",
      "17   3-5年  本科     Python开发师  4042527  上海  2018-11-14 17:46:52\n",
      "18   1-3年  本科   Python研发工程师  5201456  北京  2018-11-14 17:15:37\n",
      "19   3-5年  本科   PYTHON开发工程师  5287796  成都  2018-11-10 10:12:15\n"
     ]
    }
   ],
   "source": [
    "data1=data.drop(['薪水'], axis=1)\n",
    "print(data1)"
   ]
  },
  {
   "cell_type": "code",
   "execution_count": 261,
   "metadata": {},
   "outputs": [
    {
     "name": "stdout",
     "output_type": "stream",
     "text": [
      "[15000.0, 18000.0, 15000.0, 15000.0, 18000.0, 15000.0, 15000.0, 15000.0, 25000.0, 15000.0, 8000.0, 5000.0, 17000.0, 13000.0, 10000.0, 15000.0, 15000.0, 15000.0, 15000.0, 3000.0]\n",
      "[25000.0, 35000.0, 30000.0, 30000.0, 36000.0, 25000.0, 30000.0, 30000.0, 40000.0, 30000.0, 12000.0, 7000.0, 24000.0, 25000.0, 18000.0, 25000.0, 20000.0, 30000.0, 25000.0, 5000.0]\n"
     ]
    }
   ],
   "source": [
    "low=[float(v.replace('k','000').split('-')[0]) for v in salary]\n",
    "print(low)\n",
    "upper=[float(v.replace('k','000').split('-')[1])  for v in salary]\n",
    "print(upper)"
   ]
  },
  {
   "cell_type": "code",
   "execution_count": 262,
   "metadata": {},
   "outputs": [
    {
     "name": "stdout",
     "output_type": "stream",
     "text": [
      "     工作年限  学历            职位     职位ID  城市                 发布时间       最高  \\\n",
      "0    3-5年  本科  Python 开发工程师  5219979  杭州  2018-11-15 09:50:23  25000.0   \n",
      "1    3-5年  本科     Python工程师  4123246  上海  2018-11-15 09:49:33  35000.0   \n",
      "2    3-5年  本科     Python工程师  5283025  成都  2018-11-15 10:05:33  30000.0   \n",
      "3    1-3年  本科   python研发工程师  4671592  杭州  2018-11-14 13:53:29  30000.0   \n",
      "4    3-5年  本科   Python开发工程师  4879656  北京  2018-11-14 21:39:45  36000.0   \n",
      "5    3-5年  本科   Python开发工程师  5267750  上海  2018-11-14 14:50:01  25000.0   \n",
      "6    3-5年  本科     Python工程师  3234474  杭州  2018-11-14 10:40:50  30000.0   \n",
      "7    1-3年  本科     Python工程师  5056370  上海  2018-11-12 16:09:34  30000.0   \n",
      "8   5-10年  本科   python开发工程师  5253263  上海  2018-11-15 09:59:33  40000.0   \n",
      "9    3-5年  本科      python开发  5212936  苏州  2018-11-14 14:50:13  30000.0   \n",
      "10   1-3年  本科   Python开发工程师  5151694  苏州  2018-11-14 11:34:33  12000.0   \n",
      "11   1-3年  本科      python开发  5304756  上海  2018-11-14 09:49:22   7000.0   \n",
      "12   3-5年  本科   Python研发工程师  5276211  北京  2018-11-14 15:38:16  24000.0   \n",
      "13     不限  本科     Python工程师  5187936  杭州  2018-11-12 18:24:49  25000.0   \n",
      "14   3-5年  本科      python开发  5226606  北京  2018-11-14 10:15:59  18000.0   \n",
      "15   1-3年  本科   python开发工程师  4708616  北京  2018-11-13 10:35:03  25000.0   \n",
      "16   3-5年  大专   python开发工程师  5244706  广州  2018-11-15 09:56:36  20000.0   \n",
      "17   3-5年  本科     Python开发师  4042527  上海  2018-11-14 17:46:52  30000.0   \n",
      "18   1-3年  本科   Python研发工程师  5201456  北京  2018-11-14 17:15:37  25000.0   \n",
      "19   3-5年  本科   PYTHON开发工程师  5287796  成都  2018-11-10 10:12:15   5000.0   \n",
      "\n",
      "         最低  \n",
      "0   15000.0  \n",
      "1   18000.0  \n",
      "2   15000.0  \n",
      "3   15000.0  \n",
      "4   18000.0  \n",
      "5   15000.0  \n",
      "6   15000.0  \n",
      "7   15000.0  \n",
      "8   25000.0  \n",
      "9   15000.0  \n",
      "10   8000.0  \n",
      "11   5000.0  \n",
      "12  17000.0  \n",
      "13  13000.0  \n",
      "14  10000.0  \n",
      "15  15000.0  \n",
      "16  15000.0  \n",
      "17  15000.0  \n",
      "18  15000.0  \n",
      "19   3000.0  \n"
     ]
    }
   ],
   "source": [
    "data1['最高']=upper\n",
    "data1['最低']=low\n",
    "print(data1)"
   ]
  },
  {
   "cell_type": "code",
   "execution_count": 263,
   "metadata": {},
   "outputs": [
    {
     "name": "stdout",
     "output_type": "stream",
     "text": [
      "              职位ID       最高       最低\n",
      "工作年限  城市                            \n",
      "1-3年  上海  10361126  37000.0  20000.0\n",
      "      北京   9910072  50000.0  30000.0\n",
      "      杭州   4671592  30000.0  15000.0\n",
      "      苏州   5151694  12000.0   8000.0\n",
      "3-5年  上海  13433523  90000.0  48000.0\n",
      "      北京  15382473  78000.0  45000.0\n",
      "      广州   5244706  20000.0  15000.0\n",
      "      成都  10570821  35000.0  18000.0\n",
      "      杭州   8454453  55000.0  30000.0\n",
      "      苏州   5212936  30000.0  15000.0\n",
      "5-10年 上海   5253263  40000.0  25000.0\n",
      "不限    杭州   5187936  25000.0  13000.0\n"
     ]
    }
   ],
   "source": [
    "dd=data1.groupby(['工作年限','城市']).sum()\n",
    "print(dd)\n"
   ]
  },
  {
   "cell_type": "code",
   "execution_count": 264,
   "metadata": {},
   "outputs": [
    {
     "name": "stdout",
     "output_type": "stream",
     "text": [
      "               最高       最低\n",
      "工作年限  城市                  \n",
      "1-3年  上海  18500.0  10000.0\n",
      "      北京  25000.0  15000.0\n",
      "      杭州  30000.0  15000.0\n",
      "      苏州  12000.0   8000.0\n",
      "3-5年  上海  30000.0  16000.0\n",
      "      北京  26000.0  15000.0\n",
      "      广州  20000.0  15000.0\n",
      "      成都  17500.0   9000.0\n",
      "      杭州  27500.0  15000.0\n",
      "      苏州  30000.0  15000.0\n",
      "5-10年 上海  40000.0  25000.0\n",
      "不限    杭州  25000.0  13000.0\n"
     ]
    }
   ],
   "source": [
    "dd=data1[['工作年限','城市','最高','最低']].groupby(['工作年限','城市']).mean()\n",
    "print(dd)"
   ]
  },
  {
   "cell_type": "code",
   "execution_count": 268,
   "metadata": {},
   "outputs": [
    {
     "name": "stdout",
     "output_type": "stream",
     "text": [
      "               最高       最低\n",
      "工作年限  城市                  \n",
      "1-3年  上海  18500.0  10000.0\n",
      "      北京  25000.0  15000.0\n",
      "      杭州  30000.0  15000.0\n",
      "      苏州  12000.0   8000.0\n",
      "3-5年  上海  30000.0  16000.0\n",
      "      北京  26000.0  15000.0\n",
      "      广州  20000.0  15000.0\n",
      "      成都  17500.0   9000.0\n",
      "      杭州  27500.0  15000.0\n",
      "      苏州  30000.0  15000.0\n",
      "5-10年 上海  40000.0  25000.0\n",
      "不限    杭州  25000.0  13000.0\n"
     ]
    }
   ],
   "source": [
    "d1=dd.groupby(level=[0,1])\n",
    "print(d1.sum())"
   ]
  },
  {
   "cell_type": "code",
   "execution_count": 283,
   "metadata": {},
   "outputs": [
    {
     "name": "stdout",
     "output_type": "stream",
     "text": [
      "<pandas.core.groupby.groupby.DataFrameGroupBy object at 0x10c3a6c88>\n",
      "              最高       最低\n",
      "工作年限 城市                  \n",
      "3-5年 杭州  27500.0  15000.0\n"
     ]
    }
   ],
   "source": [
    "print(d1)\n",
    "d2=d1.get_group(('3-5年','杭州'))\n",
    "print(d2)"
   ]
  },
  {
   "cell_type": "markdown",
   "metadata": {},
   "source": [
    "# 五、可视化"
   ]
  },
  {
   "cell_type": "code",
   "execution_count": 289,
   "metadata": {},
   "outputs": [
    {
     "data": {
      "text/plain": [
       "<matplotlib.axes._subplots.AxesSubplot at 0x10e1e9860>"
      ]
     },
     "execution_count": 289,
     "metadata": {},
     "output_type": "execute_result"
    },
    {
     "data": {
      "image/png": "[encoded data removed]",
      "text/plain": [
       "<Figure size 432x288 with 1 Axes>"
      ]
     },
     "metadata": {
      "needs_background": "light"
     },
     "output_type": "display_data"
    }
   ],
   "source": [
    "% matplotlib inline\n",
    "import matplotlib.pyplot as plt\n",
    "dd.plot()"
   ]
  },
  {
   "cell_type": "code",
   "execution_count": 292,
   "metadata": {},
   "outputs": [
    {
     "data": {
      "text/plain": [
       "<matplotlib.axes._subplots.AxesSubplot at 0x10e397f60>"
      ]
     },
     "execution_count": 292,
     "metadata": {},
     "output_type": "execute_result"
    },
    {
     "data": {
      "image/png": "[encoded data removed]",
      "text/plain": [
       "<Figure size 432x288 with 1 Axes>"
      ]
     },
     "metadata": {
      "needs_background": "light"
     },
     "output_type": "display_data"
    }
   ],
   "source": [
    "dd.plot.bar()"
   ]
  },
  {
   "cell_type": "code",
   "execution_count": 293,
   "metadata": {},
   "outputs": [
    {
     "data": {
      "text/plain": [
       "<matplotlib.axes._subplots.AxesSubplot at 0x10e485b38>"
      ]
     },
     "execution_count": 293,
     "metadata": {},
     "output_type": "execute_result"
    },
    {
     "data": {
      "image/png": "[encoded data removed]",
      "text/plain": [
       "<Figure size 432x288 with 1 Axes>"
      ]
     },
     "metadata": {
      "needs_background": "light"
     },
     "output_type": "display_data"
    }
   ],
   "source": [
    "dd.plot.bar(stacked=True)"
   ]
  },
  {
   "cell_type": "code",
   "execution_count": 296,
   "metadata": {},
   "outputs": [
    {
     "data": {
      "text/plain": [
       "array([<matplotlib.axes._subplots.AxesSubplot object at 0x10e95b320>,\n",
       "       <matplotlib.axes._subplots.AxesSubplot object at 0x10e8d3780>],\n",
       "      dtype=object)"
      ]
     },
     "execution_count": 296,
     "metadata": {},
     "output_type": "execute_result"
    },
    {
     "data": {
      "image/png": "[encoded data removed]",
      "text/plain": [
       "<Figure size 432x288 with 2 Axes>"
      ]
     },
     "metadata": {},
     "output_type": "display_data"
    }
   ],
   "source": [
    "dd.plot.pie(subplots=True)"
   ]
  },
  {
   "cell_type": "code",
   "execution_count": 297,
   "metadata": {},
   "outputs": [
    {
     "data": {
      "text/plain": [
       "<matplotlib.axes._subplots.AxesSubplot at 0x10ea69e48>"
      ]
     },
     "execution_count": 297,
     "metadata": {},
     "output_type": "execute_result"
    },
    {
     "data": {
      "image/png": "[encoded data removed]",
      "text/plain": [
       "<Figure size 432x288 with 1 Axes>"
      ]
     },
     "metadata": {
      "needs_background": "light"
     },
     "output_type": "display_data"
    }
   ],
   "source": [
    "dd.plot.hist()"
   ]
  },
  {
   "cell_type": "code",
   "execution_count": null,
   "metadata": {},
   "outputs": [],
   "source": []
  }
 ],
 "metadata": {
  "kernelspec": {
   "display_name": "Python 3",
   "language": "python",
   "name": "python3"
  },
  "language_info": {
   "codemirror_mode": {
    "name": "ipython",
    "version": 3
   },
   "file_extension": ".py",
   "mimetype": "text/x-python",
   "name": "python",
   "nbconvert_exporter": "python",
   "pygments_lexer": "ipython3",
   "version": "3.6.6"
  }
 },
 "nbformat": 4,
 "nbformat_minor": 2
}
